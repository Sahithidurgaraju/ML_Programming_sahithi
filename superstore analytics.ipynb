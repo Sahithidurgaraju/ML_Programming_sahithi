{
 "cells": [
  {
   "cell_type": "markdown",
   "id": "33b4a207",
   "metadata": {},
   "source": [
    "MACHINE LEARNING ALGORITHMS"
   ]
  },
  {
   "cell_type": "markdown",
   "id": "3b04c128",
   "metadata": {},
   "source": [
    "1. LINEAR REGRESSION"
   ]
  },
  {
   "cell_type": "markdown",
   "id": "15b02d2a",
   "metadata": {},
   "source": [
    "Example Data set : Super Market Sales"
   ]
  },
  {
   "cell_type": "markdown",
   "id": "786f7a90",
   "metadata": {},
   "source": [
    "1. import necessary libraries"
   ]
  },
  {
   "cell_type": "code",
   "execution_count": 1,
   "id": "2144f931",
   "metadata": {},
   "outputs": [],
   "source": [
    "from sklearn import linear_model\n",
    "from sklearn.model_selection import train_test_split\n",
    "from sklearn.metrics import mean_squared_error, r2_score"
   ]
  },
  {
   "cell_type": "code",
   "execution_count": 236,
   "id": "0694f608",
   "metadata": {},
   "outputs": [],
   "source": [
    "import pandas as pd\n",
    "import numpy as np\n",
    "import matplotlib.pyplot as plt\n",
    "import seaborn as sns\n",
    "pd.set_option('display.float_format', lambda x: '%.2f' %x)"
   ]
  },
  {
   "cell_type": "code",
   "execution_count": 3,
   "id": "c974ca19",
   "metadata": {},
   "outputs": [],
   "source": [
    "df = pd.read_csv(r\"C:\\Users\\LENOVO\\Downloads\\superstore_sales.csv\")"
   ]
  },
  {
   "cell_type": "code",
   "execution_count": 4,
   "id": "38b16962",
   "metadata": {},
   "outputs": [
    {
     "data": {
      "text/html": [
       "<div>\n",
       "<style scoped>\n",
       "    .dataframe tbody tr th:only-of-type {\n",
       "        vertical-align: middle;\n",
       "    }\n",
       "\n",
       "    .dataframe tbody tr th {\n",
       "        vertical-align: top;\n",
       "    }\n",
       "\n",
       "    .dataframe thead th {\n",
       "        text-align: right;\n",
       "    }\n",
       "</style>\n",
       "<table border=\"1\" class=\"dataframe\">\n",
       "  <thead>\n",
       "    <tr style=\"text-align: right;\">\n",
       "      <th></th>\n",
       "      <th>Order ID</th>\n",
       "      <th>Order Date</th>\n",
       "      <th>Order Priority</th>\n",
       "      <th>Order Quantity</th>\n",
       "      <th>Sales</th>\n",
       "      <th>Discount</th>\n",
       "      <th>Ship Mode</th>\n",
       "      <th>Profit</th>\n",
       "      <th>Unit Price</th>\n",
       "      <th>Shipping Cost</th>\n",
       "      <th>Customer Name</th>\n",
       "      <th>Province</th>\n",
       "      <th>Region</th>\n",
       "      <th>Customer Segment</th>\n",
       "      <th>Product Category</th>\n",
       "      <th>Product Sub-Category</th>\n",
       "      <th>Product Base Margin</th>\n",
       "      <th>Ship Date</th>\n",
       "    </tr>\n",
       "  </thead>\n",
       "  <tbody>\n",
       "    <tr>\n",
       "      <th>0</th>\n",
       "      <td>3</td>\n",
       "      <td>13-10-2010</td>\n",
       "      <td>Low</td>\n",
       "      <td>6</td>\n",
       "      <td>261.5400</td>\n",
       "      <td>0.04</td>\n",
       "      <td>Regular Air</td>\n",
       "      <td>-213.25</td>\n",
       "      <td>38.94</td>\n",
       "      <td>35.00</td>\n",
       "      <td>Muhammed MacIntyre</td>\n",
       "      <td>Nunavut</td>\n",
       "      <td>Nunavut</td>\n",
       "      <td>Small Business</td>\n",
       "      <td>Office Supplies</td>\n",
       "      <td>Storage &amp; Organization</td>\n",
       "      <td>0.80</td>\n",
       "      <td>20-10-2010</td>\n",
       "    </tr>\n",
       "    <tr>\n",
       "      <th>1</th>\n",
       "      <td>293</td>\n",
       "      <td>01-10-2012</td>\n",
       "      <td>High</td>\n",
       "      <td>49</td>\n",
       "      <td>10123.0200</td>\n",
       "      <td>0.07</td>\n",
       "      <td>Delivery Truck</td>\n",
       "      <td>457.81</td>\n",
       "      <td>208.16</td>\n",
       "      <td>68.02</td>\n",
       "      <td>Barry French</td>\n",
       "      <td>Nunavut</td>\n",
       "      <td>Nunavut</td>\n",
       "      <td>Consumer</td>\n",
       "      <td>Office Supplies</td>\n",
       "      <td>Appliances</td>\n",
       "      <td>0.58</td>\n",
       "      <td>02-10-2012</td>\n",
       "    </tr>\n",
       "    <tr>\n",
       "      <th>2</th>\n",
       "      <td>293</td>\n",
       "      <td>01-10-2012</td>\n",
       "      <td>High</td>\n",
       "      <td>27</td>\n",
       "      <td>244.5700</td>\n",
       "      <td>0.01</td>\n",
       "      <td>Regular Air</td>\n",
       "      <td>46.71</td>\n",
       "      <td>8.69</td>\n",
       "      <td>2.99</td>\n",
       "      <td>Barry French</td>\n",
       "      <td>Nunavut</td>\n",
       "      <td>Nunavut</td>\n",
       "      <td>Consumer</td>\n",
       "      <td>Office Supplies</td>\n",
       "      <td>Binders and Binder Accessories</td>\n",
       "      <td>0.39</td>\n",
       "      <td>03-10-2012</td>\n",
       "    </tr>\n",
       "    <tr>\n",
       "      <th>3</th>\n",
       "      <td>483</td>\n",
       "      <td>10-07-2011</td>\n",
       "      <td>High</td>\n",
       "      <td>30</td>\n",
       "      <td>4965.7595</td>\n",
       "      <td>0.08</td>\n",
       "      <td>Regular Air</td>\n",
       "      <td>1198.97</td>\n",
       "      <td>195.99</td>\n",
       "      <td>3.99</td>\n",
       "      <td>Clay Rozendal</td>\n",
       "      <td>Nunavut</td>\n",
       "      <td>Nunavut</td>\n",
       "      <td>Corporate</td>\n",
       "      <td>Technology</td>\n",
       "      <td>Telephones and Communication</td>\n",
       "      <td>0.58</td>\n",
       "      <td>12-07-2011</td>\n",
       "    </tr>\n",
       "    <tr>\n",
       "      <th>4</th>\n",
       "      <td>515</td>\n",
       "      <td>28-08-2010</td>\n",
       "      <td>Not Specified</td>\n",
       "      <td>19</td>\n",
       "      <td>394.2700</td>\n",
       "      <td>0.08</td>\n",
       "      <td>Regular Air</td>\n",
       "      <td>30.94</td>\n",
       "      <td>21.78</td>\n",
       "      <td>5.94</td>\n",
       "      <td>Carlos Soltero</td>\n",
       "      <td>Nunavut</td>\n",
       "      <td>Nunavut</td>\n",
       "      <td>Consumer</td>\n",
       "      <td>Office Supplies</td>\n",
       "      <td>Appliances</td>\n",
       "      <td>0.50</td>\n",
       "      <td>30-08-2010</td>\n",
       "    </tr>\n",
       "    <tr>\n",
       "      <th>...</th>\n",
       "      <td>...</td>\n",
       "      <td>...</td>\n",
       "      <td>...</td>\n",
       "      <td>...</td>\n",
       "      <td>...</td>\n",
       "      <td>...</td>\n",
       "      <td>...</td>\n",
       "      <td>...</td>\n",
       "      <td>...</td>\n",
       "      <td>...</td>\n",
       "      <td>...</td>\n",
       "      <td>...</td>\n",
       "      <td>...</td>\n",
       "      <td>...</td>\n",
       "      <td>...</td>\n",
       "      <td>...</td>\n",
       "      <td>...</td>\n",
       "      <td>...</td>\n",
       "    </tr>\n",
       "    <tr>\n",
       "      <th>8394</th>\n",
       "      <td>55558</td>\n",
       "      <td>09-08-2010</td>\n",
       "      <td>Medium</td>\n",
       "      <td>8</td>\n",
       "      <td>1294.0400</td>\n",
       "      <td>0.05</td>\n",
       "      <td>Delivery Truck</td>\n",
       "      <td>-323.18</td>\n",
       "      <td>150.98</td>\n",
       "      <td>66.27</td>\n",
       "      <td>Mick Brown</td>\n",
       "      <td>Alberta</td>\n",
       "      <td>West</td>\n",
       "      <td>Consumer</td>\n",
       "      <td>Furniture</td>\n",
       "      <td>Bookcases</td>\n",
       "      <td>0.65</td>\n",
       "      <td>09-08-2010</td>\n",
       "    </tr>\n",
       "    <tr>\n",
       "      <th>8395</th>\n",
       "      <td>55558</td>\n",
       "      <td>09-08-2010</td>\n",
       "      <td>Medium</td>\n",
       "      <td>23</td>\n",
       "      <td>392.5700</td>\n",
       "      <td>0.04</td>\n",
       "      <td>Regular Air</td>\n",
       "      <td>22.25</td>\n",
       "      <td>17.07</td>\n",
       "      <td>8.13</td>\n",
       "      <td>Mick Brown</td>\n",
       "      <td>Alberta</td>\n",
       "      <td>West</td>\n",
       "      <td>Consumer</td>\n",
       "      <td>Office Supplies</td>\n",
       "      <td>Envelopes</td>\n",
       "      <td>0.38</td>\n",
       "      <td>11-08-2010</td>\n",
       "    </tr>\n",
       "    <tr>\n",
       "      <th>8396</th>\n",
       "      <td>56550</td>\n",
       "      <td>08-04-2011</td>\n",
       "      <td>Not Specified</td>\n",
       "      <td>37</td>\n",
       "      <td>823.7800</td>\n",
       "      <td>0.03</td>\n",
       "      <td>Express Air</td>\n",
       "      <td>343.05</td>\n",
       "      <td>22.23</td>\n",
       "      <td>5.08</td>\n",
       "      <td>Frank Hawley</td>\n",
       "      <td>Alberta</td>\n",
       "      <td>West</td>\n",
       "      <td>Home Office</td>\n",
       "      <td>Furniture</td>\n",
       "      <td>Office Furnishings</td>\n",
       "      <td>0.41</td>\n",
       "      <td>10-04-2011</td>\n",
       "    </tr>\n",
       "    <tr>\n",
       "      <th>8397</th>\n",
       "      <td>56550</td>\n",
       "      <td>08-04-2011</td>\n",
       "      <td>Not Specified</td>\n",
       "      <td>8</td>\n",
       "      <td>469.8375</td>\n",
       "      <td>0.00</td>\n",
       "      <td>Regular Air</td>\n",
       "      <td>-159.24</td>\n",
       "      <td>65.99</td>\n",
       "      <td>8.99</td>\n",
       "      <td>Frank Hawley</td>\n",
       "      <td>Alberta</td>\n",
       "      <td>West</td>\n",
       "      <td>Home Office</td>\n",
       "      <td>Technology</td>\n",
       "      <td>Telephones and Communication</td>\n",
       "      <td>0.56</td>\n",
       "      <td>09-04-2011</td>\n",
       "    </tr>\n",
       "    <tr>\n",
       "      <th>8398</th>\n",
       "      <td>56581</td>\n",
       "      <td>08-02-2009</td>\n",
       "      <td>High</td>\n",
       "      <td>20</td>\n",
       "      <td>2026.0100</td>\n",
       "      <td>0.10</td>\n",
       "      <td>Express Air</td>\n",
       "      <td>580.43</td>\n",
       "      <td>105.98</td>\n",
       "      <td>13.99</td>\n",
       "      <td>Grant Donatelli</td>\n",
       "      <td>Alberta</td>\n",
       "      <td>West</td>\n",
       "      <td>Consumer</td>\n",
       "      <td>Furniture</td>\n",
       "      <td>Office Furnishings</td>\n",
       "      <td>0.65</td>\n",
       "      <td>11-02-2009</td>\n",
       "    </tr>\n",
       "  </tbody>\n",
       "</table>\n",
       "<p>8399 rows × 18 columns</p>\n",
       "</div>"
      ],
      "text/plain": [
       "      Order ID  Order Date Order Priority  Order Quantity       Sales  \\\n",
       "0            3  13-10-2010            Low               6    261.5400   \n",
       "1          293  01-10-2012           High              49  10123.0200   \n",
       "2          293  01-10-2012           High              27    244.5700   \n",
       "3          483  10-07-2011           High              30   4965.7595   \n",
       "4          515  28-08-2010  Not Specified              19    394.2700   \n",
       "...        ...         ...            ...             ...         ...   \n",
       "8394     55558  09-08-2010         Medium               8   1294.0400   \n",
       "8395     55558  09-08-2010         Medium              23    392.5700   \n",
       "8396     56550  08-04-2011  Not Specified              37    823.7800   \n",
       "8397     56550  08-04-2011  Not Specified               8    469.8375   \n",
       "8398     56581  08-02-2009           High              20   2026.0100   \n",
       "\n",
       "      Discount       Ship Mode   Profit  Unit Price  Shipping Cost  \\\n",
       "0         0.04     Regular Air  -213.25       38.94          35.00   \n",
       "1         0.07  Delivery Truck   457.81      208.16          68.02   \n",
       "2         0.01     Regular Air    46.71        8.69           2.99   \n",
       "3         0.08     Regular Air  1198.97      195.99           3.99   \n",
       "4         0.08     Regular Air    30.94       21.78           5.94   \n",
       "...        ...             ...      ...         ...            ...   \n",
       "8394      0.05  Delivery Truck  -323.18      150.98          66.27   \n",
       "8395      0.04     Regular Air    22.25       17.07           8.13   \n",
       "8396      0.03     Express Air   343.05       22.23           5.08   \n",
       "8397      0.00     Regular Air  -159.24       65.99           8.99   \n",
       "8398      0.10     Express Air   580.43      105.98          13.99   \n",
       "\n",
       "           Customer Name Province   Region Customer Segment Product Category  \\\n",
       "0     Muhammed MacIntyre  Nunavut  Nunavut   Small Business  Office Supplies   \n",
       "1           Barry French  Nunavut  Nunavut         Consumer  Office Supplies   \n",
       "2           Barry French  Nunavut  Nunavut         Consumer  Office Supplies   \n",
       "3          Clay Rozendal  Nunavut  Nunavut        Corporate       Technology   \n",
       "4         Carlos Soltero  Nunavut  Nunavut         Consumer  Office Supplies   \n",
       "...                  ...      ...      ...              ...              ...   \n",
       "8394          Mick Brown  Alberta     West         Consumer        Furniture   \n",
       "8395          Mick Brown  Alberta     West         Consumer  Office Supplies   \n",
       "8396        Frank Hawley  Alberta     West      Home Office        Furniture   \n",
       "8397        Frank Hawley  Alberta     West      Home Office       Technology   \n",
       "8398     Grant Donatelli  Alberta     West         Consumer        Furniture   \n",
       "\n",
       "                Product Sub-Category  Product Base Margin   Ship Date  \n",
       "0             Storage & Organization                 0.80  20-10-2010  \n",
       "1                         Appliances                 0.58  02-10-2012  \n",
       "2     Binders and Binder Accessories                 0.39  03-10-2012  \n",
       "3       Telephones and Communication                 0.58  12-07-2011  \n",
       "4                         Appliances                 0.50  30-08-2010  \n",
       "...                              ...                  ...         ...  \n",
       "8394                       Bookcases                 0.65  09-08-2010  \n",
       "8395                       Envelopes                 0.38  11-08-2010  \n",
       "8396              Office Furnishings                 0.41  10-04-2011  \n",
       "8397    Telephones and Communication                 0.56  09-04-2011  \n",
       "8398              Office Furnishings                 0.65  11-02-2009  \n",
       "\n",
       "[8399 rows x 18 columns]"
      ]
     },
     "execution_count": 4,
     "metadata": {},
     "output_type": "execute_result"
    }
   ],
   "source": [
    "df"
   ]
  },
  {
   "cell_type": "code",
   "execution_count": 5,
   "id": "f5e550d3",
   "metadata": {},
   "outputs": [
    {
     "data": {
      "text/plain": [
       "(8399, 18)"
      ]
     },
     "execution_count": 5,
     "metadata": {},
     "output_type": "execute_result"
    }
   ],
   "source": [
    "df.shape"
   ]
  },
  {
   "cell_type": "code",
   "execution_count": 6,
   "id": "b007f2aa",
   "metadata": {},
   "outputs": [
    {
     "name": "stdout",
     "output_type": "stream",
     "text": [
      "<class 'pandas.core.frame.DataFrame'>\n",
      "RangeIndex: 8399 entries, 0 to 8398\n",
      "Data columns (total 18 columns):\n",
      " #   Column                Non-Null Count  Dtype  \n",
      "---  ------                --------------  -----  \n",
      " 0   Order ID              8399 non-null   int64  \n",
      " 1   Order Date            8399 non-null   object \n",
      " 2   Order Priority        8399 non-null   object \n",
      " 3   Order Quantity        8399 non-null   int64  \n",
      " 4   Sales                 8399 non-null   float64\n",
      " 5   Discount              8399 non-null   float64\n",
      " 6   Ship Mode             8399 non-null   object \n",
      " 7   Profit                8399 non-null   float64\n",
      " 8   Unit Price            8399 non-null   float64\n",
      " 9   Shipping Cost         8399 non-null   float64\n",
      " 10  Customer Name         8399 non-null   object \n",
      " 11  Province              8399 non-null   object \n",
      " 12  Region                8399 non-null   object \n",
      " 13  Customer Segment      8399 non-null   object \n",
      " 14  Product Category      8399 non-null   object \n",
      " 15  Product Sub-Category  8399 non-null   object \n",
      " 16  Product Base Margin   8336 non-null   float64\n",
      " 17  Ship Date             8399 non-null   object \n",
      "dtypes: float64(6), int64(2), object(10)\n",
      "memory usage: 1.2+ MB\n"
     ]
    }
   ],
   "source": [
    "df.info()"
   ]
  },
  {
   "cell_type": "code",
   "execution_count": 7,
   "id": "302b8102",
   "metadata": {},
   "outputs": [
    {
     "data": {
      "text/html": [
       "<div>\n",
       "<style scoped>\n",
       "    .dataframe tbody tr th:only-of-type {\n",
       "        vertical-align: middle;\n",
       "    }\n",
       "\n",
       "    .dataframe tbody tr th {\n",
       "        vertical-align: top;\n",
       "    }\n",
       "\n",
       "    .dataframe thead th {\n",
       "        text-align: right;\n",
       "    }\n",
       "</style>\n",
       "<table border=\"1\" class=\"dataframe\">\n",
       "  <thead>\n",
       "    <tr style=\"text-align: right;\">\n",
       "      <th></th>\n",
       "      <th>Order ID</th>\n",
       "      <th>Order Quantity</th>\n",
       "      <th>Sales</th>\n",
       "      <th>Discount</th>\n",
       "      <th>Profit</th>\n",
       "      <th>Unit Price</th>\n",
       "      <th>Shipping Cost</th>\n",
       "      <th>Product Base Margin</th>\n",
       "    </tr>\n",
       "  </thead>\n",
       "  <tbody>\n",
       "    <tr>\n",
       "      <th>count</th>\n",
       "      <td>8399.000000</td>\n",
       "      <td>8399.000000</td>\n",
       "      <td>8399.000000</td>\n",
       "      <td>8399.000000</td>\n",
       "      <td>8399.000000</td>\n",
       "      <td>8399.000000</td>\n",
       "      <td>8399.000000</td>\n",
       "      <td>8336.000000</td>\n",
       "    </tr>\n",
       "    <tr>\n",
       "      <th>mean</th>\n",
       "      <td>29965.179783</td>\n",
       "      <td>25.571735</td>\n",
       "      <td>1775.878179</td>\n",
       "      <td>0.049671</td>\n",
       "      <td>181.184424</td>\n",
       "      <td>89.346259</td>\n",
       "      <td>12.838557</td>\n",
       "      <td>0.512513</td>\n",
       "    </tr>\n",
       "    <tr>\n",
       "      <th>std</th>\n",
       "      <td>17260.883447</td>\n",
       "      <td>14.481071</td>\n",
       "      <td>3585.050525</td>\n",
       "      <td>0.031823</td>\n",
       "      <td>1196.653371</td>\n",
       "      <td>290.354383</td>\n",
       "      <td>17.264052</td>\n",
       "      <td>0.135589</td>\n",
       "    </tr>\n",
       "    <tr>\n",
       "      <th>min</th>\n",
       "      <td>3.000000</td>\n",
       "      <td>1.000000</td>\n",
       "      <td>2.240000</td>\n",
       "      <td>0.000000</td>\n",
       "      <td>-14140.700000</td>\n",
       "      <td>0.990000</td>\n",
       "      <td>0.490000</td>\n",
       "      <td>0.350000</td>\n",
       "    </tr>\n",
       "    <tr>\n",
       "      <th>25%</th>\n",
       "      <td>15011.500000</td>\n",
       "      <td>13.000000</td>\n",
       "      <td>143.195000</td>\n",
       "      <td>0.020000</td>\n",
       "      <td>-83.315000</td>\n",
       "      <td>6.480000</td>\n",
       "      <td>3.300000</td>\n",
       "      <td>0.380000</td>\n",
       "    </tr>\n",
       "    <tr>\n",
       "      <th>50%</th>\n",
       "      <td>29857.000000</td>\n",
       "      <td>26.000000</td>\n",
       "      <td>449.420000</td>\n",
       "      <td>0.050000</td>\n",
       "      <td>-1.500000</td>\n",
       "      <td>20.990000</td>\n",
       "      <td>6.070000</td>\n",
       "      <td>0.520000</td>\n",
       "    </tr>\n",
       "    <tr>\n",
       "      <th>75%</th>\n",
       "      <td>44596.000000</td>\n",
       "      <td>38.000000</td>\n",
       "      <td>1709.320000</td>\n",
       "      <td>0.080000</td>\n",
       "      <td>162.750000</td>\n",
       "      <td>85.990000</td>\n",
       "      <td>13.990000</td>\n",
       "      <td>0.590000</td>\n",
       "    </tr>\n",
       "    <tr>\n",
       "      <th>max</th>\n",
       "      <td>59973.000000</td>\n",
       "      <td>50.000000</td>\n",
       "      <td>89061.050000</td>\n",
       "      <td>0.250000</td>\n",
       "      <td>27220.690000</td>\n",
       "      <td>6783.020000</td>\n",
       "      <td>164.730000</td>\n",
       "      <td>0.850000</td>\n",
       "    </tr>\n",
       "  </tbody>\n",
       "</table>\n",
       "</div>"
      ],
      "text/plain": [
       "           Order ID  Order Quantity         Sales     Discount        Profit  \\\n",
       "count   8399.000000     8399.000000   8399.000000  8399.000000   8399.000000   \n",
       "mean   29965.179783       25.571735   1775.878179     0.049671    181.184424   \n",
       "std    17260.883447       14.481071   3585.050525     0.031823   1196.653371   \n",
       "min        3.000000        1.000000      2.240000     0.000000 -14140.700000   \n",
       "25%    15011.500000       13.000000    143.195000     0.020000    -83.315000   \n",
       "50%    29857.000000       26.000000    449.420000     0.050000     -1.500000   \n",
       "75%    44596.000000       38.000000   1709.320000     0.080000    162.750000   \n",
       "max    59973.000000       50.000000  89061.050000     0.250000  27220.690000   \n",
       "\n",
       "        Unit Price  Shipping Cost  Product Base Margin  \n",
       "count  8399.000000    8399.000000          8336.000000  \n",
       "mean     89.346259      12.838557             0.512513  \n",
       "std     290.354383      17.264052             0.135589  \n",
       "min       0.990000       0.490000             0.350000  \n",
       "25%       6.480000       3.300000             0.380000  \n",
       "50%      20.990000       6.070000             0.520000  \n",
       "75%      85.990000      13.990000             0.590000  \n",
       "max    6783.020000     164.730000             0.850000  "
      ]
     },
     "execution_count": 7,
     "metadata": {},
     "output_type": "execute_result"
    }
   ],
   "source": [
    "df.describe()"
   ]
  },
  {
   "cell_type": "code",
   "execution_count": 8,
   "id": "86827337",
   "metadata": {},
   "outputs": [
    {
     "data": {
      "text/plain": [
       "Order ID                 0\n",
       "Order Date               0\n",
       "Order Priority           0\n",
       "Order Quantity           0\n",
       "Sales                    0\n",
       "Discount                 0\n",
       "Ship Mode                0\n",
       "Profit                   0\n",
       "Unit Price               0\n",
       "Shipping Cost            0\n",
       "Customer Name            0\n",
       "Province                 0\n",
       "Region                   0\n",
       "Customer Segment         0\n",
       "Product Category         0\n",
       "Product Sub-Category     0\n",
       "Product Base Margin     63\n",
       "Ship Date                0\n",
       "dtype: int64"
      ]
     },
     "execution_count": 8,
     "metadata": {},
     "output_type": "execute_result"
    }
   ],
   "source": [
    "df.isnull().sum()"
   ]
  },
  {
   "cell_type": "code",
   "execution_count": 9,
   "id": "2b230dca",
   "metadata": {},
   "outputs": [
    {
     "data": {
      "text/plain": [
       "63"
      ]
     },
     "execution_count": 9,
     "metadata": {},
     "output_type": "execute_result"
    }
   ],
   "source": [
    "df['Product Base Margin'].isna().sum()"
   ]
  },
  {
   "cell_type": "code",
   "execution_count": 10,
   "id": "a619b697",
   "metadata": {},
   "outputs": [
    {
     "data": {
      "text/plain": [
       "0     0.80\n",
       "1     0.58\n",
       "2     0.39\n",
       "3     0.58\n",
       "4     0.50\n",
       "5     0.37\n",
       "6     0.38\n",
       "7      NaN\n",
       "8      NaN\n",
       "9     0.38\n",
       "10    0.40\n",
       "11    0.53\n",
       "12    0.50\n",
       "13    0.71\n",
       "14    0.37\n",
       "15    0.53\n",
       "16    0.40\n",
       "17    0.60\n",
       "18    0.68\n",
       "19    0.59\n",
       "Name: Product Base Margin, dtype: float64"
      ]
     },
     "execution_count": 10,
     "metadata": {},
     "output_type": "execute_result"
    }
   ],
   "source": [
    "df['Product Base Margin'].head(20)"
   ]
  },
  {
   "cell_type": "code",
   "execution_count": 11,
   "id": "2dfbdc0f",
   "metadata": {},
   "outputs": [],
   "source": [
    "df['Product Base Margin'] = df['Product Base Margin'].fillna(0)"
   ]
  },
  {
   "cell_type": "code",
   "execution_count": 12,
   "id": "7a7f65d5",
   "metadata": {},
   "outputs": [
    {
     "data": {
      "text/plain": [
       "0    0.80\n",
       "1    0.58\n",
       "2    0.39\n",
       "3    0.58\n",
       "4    0.50\n",
       "5    0.37\n",
       "6    0.38\n",
       "7    0.00\n",
       "8    0.00\n",
       "9    0.38\n",
       "Name: Product Base Margin, dtype: float64"
      ]
     },
     "execution_count": 12,
     "metadata": {},
     "output_type": "execute_result"
    }
   ],
   "source": [
    "df['Product Base Margin'].head(10)"
   ]
  },
  {
   "cell_type": "code",
   "execution_count": 13,
   "id": "c9f77da8",
   "metadata": {},
   "outputs": [
    {
     "data": {
      "text/html": [
       "<div>\n",
       "<style scoped>\n",
       "    .dataframe tbody tr th:only-of-type {\n",
       "        vertical-align: middle;\n",
       "    }\n",
       "\n",
       "    .dataframe tbody tr th {\n",
       "        vertical-align: top;\n",
       "    }\n",
       "\n",
       "    .dataframe thead th {\n",
       "        text-align: right;\n",
       "    }\n",
       "</style>\n",
       "<table border=\"1\" class=\"dataframe\">\n",
       "  <thead>\n",
       "    <tr style=\"text-align: right;\">\n",
       "      <th></th>\n",
       "      <th>Order ID</th>\n",
       "      <th>Order Quantity</th>\n",
       "      <th>Sales</th>\n",
       "      <th>Discount</th>\n",
       "      <th>Profit</th>\n",
       "      <th>Unit Price</th>\n",
       "      <th>Shipping Cost</th>\n",
       "      <th>Product Base Margin</th>\n",
       "    </tr>\n",
       "  </thead>\n",
       "  <tbody>\n",
       "    <tr>\n",
       "      <th>count</th>\n",
       "      <td>8399.000000</td>\n",
       "      <td>8399.000000</td>\n",
       "      <td>8399.000000</td>\n",
       "      <td>8399.000000</td>\n",
       "      <td>8399.000000</td>\n",
       "      <td>8399.000000</td>\n",
       "      <td>8399.000000</td>\n",
       "      <td>8399.000000</td>\n",
       "    </tr>\n",
       "    <tr>\n",
       "      <th>mean</th>\n",
       "      <td>29965.179783</td>\n",
       "      <td>25.571735</td>\n",
       "      <td>1775.878179</td>\n",
       "      <td>0.049671</td>\n",
       "      <td>181.184424</td>\n",
       "      <td>89.346259</td>\n",
       "      <td>12.838557</td>\n",
       "      <td>0.508669</td>\n",
       "    </tr>\n",
       "    <tr>\n",
       "      <th>std</th>\n",
       "      <td>17260.883447</td>\n",
       "      <td>14.481071</td>\n",
       "      <td>3585.050525</td>\n",
       "      <td>0.031823</td>\n",
       "      <td>1196.653371</td>\n",
       "      <td>290.354383</td>\n",
       "      <td>17.264052</td>\n",
       "      <td>0.142134</td>\n",
       "    </tr>\n",
       "    <tr>\n",
       "      <th>min</th>\n",
       "      <td>3.000000</td>\n",
       "      <td>1.000000</td>\n",
       "      <td>2.240000</td>\n",
       "      <td>0.000000</td>\n",
       "      <td>-14140.700000</td>\n",
       "      <td>0.990000</td>\n",
       "      <td>0.490000</td>\n",
       "      <td>0.000000</td>\n",
       "    </tr>\n",
       "    <tr>\n",
       "      <th>25%</th>\n",
       "      <td>15011.500000</td>\n",
       "      <td>13.000000</td>\n",
       "      <td>143.195000</td>\n",
       "      <td>0.020000</td>\n",
       "      <td>-83.315000</td>\n",
       "      <td>6.480000</td>\n",
       "      <td>3.300000</td>\n",
       "      <td>0.380000</td>\n",
       "    </tr>\n",
       "    <tr>\n",
       "      <th>50%</th>\n",
       "      <td>29857.000000</td>\n",
       "      <td>26.000000</td>\n",
       "      <td>449.420000</td>\n",
       "      <td>0.050000</td>\n",
       "      <td>-1.500000</td>\n",
       "      <td>20.990000</td>\n",
       "      <td>6.070000</td>\n",
       "      <td>0.520000</td>\n",
       "    </tr>\n",
       "    <tr>\n",
       "      <th>75%</th>\n",
       "      <td>44596.000000</td>\n",
       "      <td>38.000000</td>\n",
       "      <td>1709.320000</td>\n",
       "      <td>0.080000</td>\n",
       "      <td>162.750000</td>\n",
       "      <td>85.990000</td>\n",
       "      <td>13.990000</td>\n",
       "      <td>0.590000</td>\n",
       "    </tr>\n",
       "    <tr>\n",
       "      <th>max</th>\n",
       "      <td>59973.000000</td>\n",
       "      <td>50.000000</td>\n",
       "      <td>89061.050000</td>\n",
       "      <td>0.250000</td>\n",
       "      <td>27220.690000</td>\n",
       "      <td>6783.020000</td>\n",
       "      <td>164.730000</td>\n",
       "      <td>0.850000</td>\n",
       "    </tr>\n",
       "  </tbody>\n",
       "</table>\n",
       "</div>"
      ],
      "text/plain": [
       "           Order ID  Order Quantity         Sales     Discount        Profit  \\\n",
       "count   8399.000000     8399.000000   8399.000000  8399.000000   8399.000000   \n",
       "mean   29965.179783       25.571735   1775.878179     0.049671    181.184424   \n",
       "std    17260.883447       14.481071   3585.050525     0.031823   1196.653371   \n",
       "min        3.000000        1.000000      2.240000     0.000000 -14140.700000   \n",
       "25%    15011.500000       13.000000    143.195000     0.020000    -83.315000   \n",
       "50%    29857.000000       26.000000    449.420000     0.050000     -1.500000   \n",
       "75%    44596.000000       38.000000   1709.320000     0.080000    162.750000   \n",
       "max    59973.000000       50.000000  89061.050000     0.250000  27220.690000   \n",
       "\n",
       "        Unit Price  Shipping Cost  Product Base Margin  \n",
       "count  8399.000000    8399.000000          8399.000000  \n",
       "mean     89.346259      12.838557             0.508669  \n",
       "std     290.354383      17.264052             0.142134  \n",
       "min       0.990000       0.490000             0.000000  \n",
       "25%       6.480000       3.300000             0.380000  \n",
       "50%      20.990000       6.070000             0.520000  \n",
       "75%      85.990000      13.990000             0.590000  \n",
       "max    6783.020000     164.730000             0.850000  "
      ]
     },
     "execution_count": 13,
     "metadata": {},
     "output_type": "execute_result"
    }
   ],
   "source": [
    "df.describe()"
   ]
  },
  {
   "cell_type": "code",
   "execution_count": 14,
   "id": "a9ea0115",
   "metadata": {},
   "outputs": [
    {
     "name": "stdout",
     "output_type": "stream",
     "text": [
      "<class 'pandas.core.frame.DataFrame'>\n",
      "RangeIndex: 8399 entries, 0 to 8398\n",
      "Data columns (total 18 columns):\n",
      " #   Column                Non-Null Count  Dtype  \n",
      "---  ------                --------------  -----  \n",
      " 0   Order ID              8399 non-null   int64  \n",
      " 1   Order Date            8399 non-null   object \n",
      " 2   Order Priority        8399 non-null   object \n",
      " 3   Order Quantity        8399 non-null   int64  \n",
      " 4   Sales                 8399 non-null   float64\n",
      " 5   Discount              8399 non-null   float64\n",
      " 6   Ship Mode             8399 non-null   object \n",
      " 7   Profit                8399 non-null   float64\n",
      " 8   Unit Price            8399 non-null   float64\n",
      " 9   Shipping Cost         8399 non-null   float64\n",
      " 10  Customer Name         8399 non-null   object \n",
      " 11  Province              8399 non-null   object \n",
      " 12  Region                8399 non-null   object \n",
      " 13  Customer Segment      8399 non-null   object \n",
      " 14  Product Category      8399 non-null   object \n",
      " 15  Product Sub-Category  8399 non-null   object \n",
      " 16  Product Base Margin   8399 non-null   float64\n",
      " 17  Ship Date             8399 non-null   object \n",
      "dtypes: float64(6), int64(2), object(10)\n",
      "memory usage: 1.2+ MB\n"
     ]
    }
   ],
   "source": [
    "df.info()"
   ]
  },
  {
   "cell_type": "code",
   "execution_count": 15,
   "id": "4f0f1be1",
   "metadata": {},
   "outputs": [
    {
     "data": {
      "text/html": [
       "<div>\n",
       "<style scoped>\n",
       "    .dataframe tbody tr th:only-of-type {\n",
       "        vertical-align: middle;\n",
       "    }\n",
       "\n",
       "    .dataframe tbody tr th {\n",
       "        vertical-align: top;\n",
       "    }\n",
       "\n",
       "    .dataframe thead th {\n",
       "        text-align: right;\n",
       "    }\n",
       "</style>\n",
       "<table border=\"1\" class=\"dataframe\">\n",
       "  <thead>\n",
       "    <tr style=\"text-align: right;\">\n",
       "      <th></th>\n",
       "      <th>Order ID</th>\n",
       "      <th>Order Date</th>\n",
       "      <th>Order Priority</th>\n",
       "      <th>Order Quantity</th>\n",
       "      <th>Sales</th>\n",
       "      <th>Discount</th>\n",
       "      <th>Ship Mode</th>\n",
       "      <th>Profit</th>\n",
       "      <th>Unit Price</th>\n",
       "      <th>Shipping Cost</th>\n",
       "      <th>Customer Name</th>\n",
       "      <th>Province</th>\n",
       "      <th>Region</th>\n",
       "      <th>Customer Segment</th>\n",
       "      <th>Product Category</th>\n",
       "      <th>Product Sub-Category</th>\n",
       "      <th>Product Base Margin</th>\n",
       "      <th>Ship Date</th>\n",
       "    </tr>\n",
       "  </thead>\n",
       "  <tbody>\n",
       "    <tr>\n",
       "      <th>0</th>\n",
       "      <td>3</td>\n",
       "      <td>13-10-2010</td>\n",
       "      <td>Low</td>\n",
       "      <td>6</td>\n",
       "      <td>261.5400</td>\n",
       "      <td>0.04</td>\n",
       "      <td>Regular Air</td>\n",
       "      <td>-213.25</td>\n",
       "      <td>38.94</td>\n",
       "      <td>35.00</td>\n",
       "      <td>Muhammed MacIntyre</td>\n",
       "      <td>Nunavut</td>\n",
       "      <td>Nunavut</td>\n",
       "      <td>Small Business</td>\n",
       "      <td>Office Supplies</td>\n",
       "      <td>Storage &amp; Organization</td>\n",
       "      <td>0.80</td>\n",
       "      <td>20-10-2010</td>\n",
       "    </tr>\n",
       "    <tr>\n",
       "      <th>1</th>\n",
       "      <td>293</td>\n",
       "      <td>01-10-2012</td>\n",
       "      <td>High</td>\n",
       "      <td>49</td>\n",
       "      <td>10123.0200</td>\n",
       "      <td>0.07</td>\n",
       "      <td>Delivery Truck</td>\n",
       "      <td>457.81</td>\n",
       "      <td>208.16</td>\n",
       "      <td>68.02</td>\n",
       "      <td>Barry French</td>\n",
       "      <td>Nunavut</td>\n",
       "      <td>Nunavut</td>\n",
       "      <td>Consumer</td>\n",
       "      <td>Office Supplies</td>\n",
       "      <td>Appliances</td>\n",
       "      <td>0.58</td>\n",
       "      <td>02-10-2012</td>\n",
       "    </tr>\n",
       "    <tr>\n",
       "      <th>2</th>\n",
       "      <td>293</td>\n",
       "      <td>01-10-2012</td>\n",
       "      <td>High</td>\n",
       "      <td>27</td>\n",
       "      <td>244.5700</td>\n",
       "      <td>0.01</td>\n",
       "      <td>Regular Air</td>\n",
       "      <td>46.71</td>\n",
       "      <td>8.69</td>\n",
       "      <td>2.99</td>\n",
       "      <td>Barry French</td>\n",
       "      <td>Nunavut</td>\n",
       "      <td>Nunavut</td>\n",
       "      <td>Consumer</td>\n",
       "      <td>Office Supplies</td>\n",
       "      <td>Binders and Binder Accessories</td>\n",
       "      <td>0.39</td>\n",
       "      <td>03-10-2012</td>\n",
       "    </tr>\n",
       "    <tr>\n",
       "      <th>3</th>\n",
       "      <td>483</td>\n",
       "      <td>10-07-2011</td>\n",
       "      <td>High</td>\n",
       "      <td>30</td>\n",
       "      <td>4965.7595</td>\n",
       "      <td>0.08</td>\n",
       "      <td>Regular Air</td>\n",
       "      <td>1198.97</td>\n",
       "      <td>195.99</td>\n",
       "      <td>3.99</td>\n",
       "      <td>Clay Rozendal</td>\n",
       "      <td>Nunavut</td>\n",
       "      <td>Nunavut</td>\n",
       "      <td>Corporate</td>\n",
       "      <td>Technology</td>\n",
       "      <td>Telephones and Communication</td>\n",
       "      <td>0.58</td>\n",
       "      <td>12-07-2011</td>\n",
       "    </tr>\n",
       "    <tr>\n",
       "      <th>4</th>\n",
       "      <td>515</td>\n",
       "      <td>28-08-2010</td>\n",
       "      <td>Not Specified</td>\n",
       "      <td>19</td>\n",
       "      <td>394.2700</td>\n",
       "      <td>0.08</td>\n",
       "      <td>Regular Air</td>\n",
       "      <td>30.94</td>\n",
       "      <td>21.78</td>\n",
       "      <td>5.94</td>\n",
       "      <td>Carlos Soltero</td>\n",
       "      <td>Nunavut</td>\n",
       "      <td>Nunavut</td>\n",
       "      <td>Consumer</td>\n",
       "      <td>Office Supplies</td>\n",
       "      <td>Appliances</td>\n",
       "      <td>0.50</td>\n",
       "      <td>30-08-2010</td>\n",
       "    </tr>\n",
       "    <tr>\n",
       "      <th>...</th>\n",
       "      <td>...</td>\n",
       "      <td>...</td>\n",
       "      <td>...</td>\n",
       "      <td>...</td>\n",
       "      <td>...</td>\n",
       "      <td>...</td>\n",
       "      <td>...</td>\n",
       "      <td>...</td>\n",
       "      <td>...</td>\n",
       "      <td>...</td>\n",
       "      <td>...</td>\n",
       "      <td>...</td>\n",
       "      <td>...</td>\n",
       "      <td>...</td>\n",
       "      <td>...</td>\n",
       "      <td>...</td>\n",
       "      <td>...</td>\n",
       "      <td>...</td>\n",
       "    </tr>\n",
       "    <tr>\n",
       "      <th>8394</th>\n",
       "      <td>55558</td>\n",
       "      <td>09-08-2010</td>\n",
       "      <td>Medium</td>\n",
       "      <td>8</td>\n",
       "      <td>1294.0400</td>\n",
       "      <td>0.05</td>\n",
       "      <td>Delivery Truck</td>\n",
       "      <td>-323.18</td>\n",
       "      <td>150.98</td>\n",
       "      <td>66.27</td>\n",
       "      <td>Mick Brown</td>\n",
       "      <td>Alberta</td>\n",
       "      <td>West</td>\n",
       "      <td>Consumer</td>\n",
       "      <td>Furniture</td>\n",
       "      <td>Bookcases</td>\n",
       "      <td>0.65</td>\n",
       "      <td>09-08-2010</td>\n",
       "    </tr>\n",
       "    <tr>\n",
       "      <th>8395</th>\n",
       "      <td>55558</td>\n",
       "      <td>09-08-2010</td>\n",
       "      <td>Medium</td>\n",
       "      <td>23</td>\n",
       "      <td>392.5700</td>\n",
       "      <td>0.04</td>\n",
       "      <td>Regular Air</td>\n",
       "      <td>22.25</td>\n",
       "      <td>17.07</td>\n",
       "      <td>8.13</td>\n",
       "      <td>Mick Brown</td>\n",
       "      <td>Alberta</td>\n",
       "      <td>West</td>\n",
       "      <td>Consumer</td>\n",
       "      <td>Office Supplies</td>\n",
       "      <td>Envelopes</td>\n",
       "      <td>0.38</td>\n",
       "      <td>11-08-2010</td>\n",
       "    </tr>\n",
       "    <tr>\n",
       "      <th>8396</th>\n",
       "      <td>56550</td>\n",
       "      <td>08-04-2011</td>\n",
       "      <td>Not Specified</td>\n",
       "      <td>37</td>\n",
       "      <td>823.7800</td>\n",
       "      <td>0.03</td>\n",
       "      <td>Express Air</td>\n",
       "      <td>343.05</td>\n",
       "      <td>22.23</td>\n",
       "      <td>5.08</td>\n",
       "      <td>Frank Hawley</td>\n",
       "      <td>Alberta</td>\n",
       "      <td>West</td>\n",
       "      <td>Home Office</td>\n",
       "      <td>Furniture</td>\n",
       "      <td>Office Furnishings</td>\n",
       "      <td>0.41</td>\n",
       "      <td>10-04-2011</td>\n",
       "    </tr>\n",
       "    <tr>\n",
       "      <th>8397</th>\n",
       "      <td>56550</td>\n",
       "      <td>08-04-2011</td>\n",
       "      <td>Not Specified</td>\n",
       "      <td>8</td>\n",
       "      <td>469.8375</td>\n",
       "      <td>0.00</td>\n",
       "      <td>Regular Air</td>\n",
       "      <td>-159.24</td>\n",
       "      <td>65.99</td>\n",
       "      <td>8.99</td>\n",
       "      <td>Frank Hawley</td>\n",
       "      <td>Alberta</td>\n",
       "      <td>West</td>\n",
       "      <td>Home Office</td>\n",
       "      <td>Technology</td>\n",
       "      <td>Telephones and Communication</td>\n",
       "      <td>0.56</td>\n",
       "      <td>09-04-2011</td>\n",
       "    </tr>\n",
       "    <tr>\n",
       "      <th>8398</th>\n",
       "      <td>56581</td>\n",
       "      <td>08-02-2009</td>\n",
       "      <td>High</td>\n",
       "      <td>20</td>\n",
       "      <td>2026.0100</td>\n",
       "      <td>0.10</td>\n",
       "      <td>Express Air</td>\n",
       "      <td>580.43</td>\n",
       "      <td>105.98</td>\n",
       "      <td>13.99</td>\n",
       "      <td>Grant Donatelli</td>\n",
       "      <td>Alberta</td>\n",
       "      <td>West</td>\n",
       "      <td>Consumer</td>\n",
       "      <td>Furniture</td>\n",
       "      <td>Office Furnishings</td>\n",
       "      <td>0.65</td>\n",
       "      <td>11-02-2009</td>\n",
       "    </tr>\n",
       "  </tbody>\n",
       "</table>\n",
       "<p>8399 rows × 18 columns</p>\n",
       "</div>"
      ],
      "text/plain": [
       "      Order ID  Order Date Order Priority  Order Quantity       Sales  \\\n",
       "0            3  13-10-2010            Low               6    261.5400   \n",
       "1          293  01-10-2012           High              49  10123.0200   \n",
       "2          293  01-10-2012           High              27    244.5700   \n",
       "3          483  10-07-2011           High              30   4965.7595   \n",
       "4          515  28-08-2010  Not Specified              19    394.2700   \n",
       "...        ...         ...            ...             ...         ...   \n",
       "8394     55558  09-08-2010         Medium               8   1294.0400   \n",
       "8395     55558  09-08-2010         Medium              23    392.5700   \n",
       "8396     56550  08-04-2011  Not Specified              37    823.7800   \n",
       "8397     56550  08-04-2011  Not Specified               8    469.8375   \n",
       "8398     56581  08-02-2009           High              20   2026.0100   \n",
       "\n",
       "      Discount       Ship Mode   Profit  Unit Price  Shipping Cost  \\\n",
       "0         0.04     Regular Air  -213.25       38.94          35.00   \n",
       "1         0.07  Delivery Truck   457.81      208.16          68.02   \n",
       "2         0.01     Regular Air    46.71        8.69           2.99   \n",
       "3         0.08     Regular Air  1198.97      195.99           3.99   \n",
       "4         0.08     Regular Air    30.94       21.78           5.94   \n",
       "...        ...             ...      ...         ...            ...   \n",
       "8394      0.05  Delivery Truck  -323.18      150.98          66.27   \n",
       "8395      0.04     Regular Air    22.25       17.07           8.13   \n",
       "8396      0.03     Express Air   343.05       22.23           5.08   \n",
       "8397      0.00     Regular Air  -159.24       65.99           8.99   \n",
       "8398      0.10     Express Air   580.43      105.98          13.99   \n",
       "\n",
       "           Customer Name Province   Region Customer Segment Product Category  \\\n",
       "0     Muhammed MacIntyre  Nunavut  Nunavut   Small Business  Office Supplies   \n",
       "1           Barry French  Nunavut  Nunavut         Consumer  Office Supplies   \n",
       "2           Barry French  Nunavut  Nunavut         Consumer  Office Supplies   \n",
       "3          Clay Rozendal  Nunavut  Nunavut        Corporate       Technology   \n",
       "4         Carlos Soltero  Nunavut  Nunavut         Consumer  Office Supplies   \n",
       "...                  ...      ...      ...              ...              ...   \n",
       "8394          Mick Brown  Alberta     West         Consumer        Furniture   \n",
       "8395          Mick Brown  Alberta     West         Consumer  Office Supplies   \n",
       "8396        Frank Hawley  Alberta     West      Home Office        Furniture   \n",
       "8397        Frank Hawley  Alberta     West      Home Office       Technology   \n",
       "8398     Grant Donatelli  Alberta     West         Consumer        Furniture   \n",
       "\n",
       "                Product Sub-Category  Product Base Margin   Ship Date  \n",
       "0             Storage & Organization                 0.80  20-10-2010  \n",
       "1                         Appliances                 0.58  02-10-2012  \n",
       "2     Binders and Binder Accessories                 0.39  03-10-2012  \n",
       "3       Telephones and Communication                 0.58  12-07-2011  \n",
       "4                         Appliances                 0.50  30-08-2010  \n",
       "...                              ...                  ...         ...  \n",
       "8394                       Bookcases                 0.65  09-08-2010  \n",
       "8395                       Envelopes                 0.38  11-08-2010  \n",
       "8396              Office Furnishings                 0.41  10-04-2011  \n",
       "8397    Telephones and Communication                 0.56  09-04-2011  \n",
       "8398              Office Furnishings                 0.65  11-02-2009  \n",
       "\n",
       "[8399 rows x 18 columns]"
      ]
     },
     "execution_count": 15,
     "metadata": {},
     "output_type": "execute_result"
    }
   ],
   "source": [
    "df"
   ]
  },
  {
   "cell_type": "markdown",
   "id": "96ebda69",
   "metadata": {},
   "source": [
    " **Sales and Profit Analysis**\n",
    "1. What is the total sales, profit, and shipping cost across the dataset?\n"
   ]
  },
  {
   "cell_type": "code",
   "execution_count": 16,
   "id": "8a149293",
   "metadata": {},
   "outputs": [],
   "source": [
    "Total_sales, Total_Profit, Total_shipping_cost = df[['Sales', 'Profit', 'Shipping Cost']].sum()"
   ]
  },
  {
   "cell_type": "code",
   "execution_count": 17,
   "id": "57664325",
   "metadata": {},
   "outputs": [
    {
     "name": "stdout",
     "output_type": "stream",
     "text": [
      "Total sales: 14915600.82\n",
      "Total profit: 1521767.98\n",
      "Total Shipping cost: 107831.04\n"
     ]
    }
   ],
   "source": [
    "print(\"Total sales:\", round(Total_sales,2))\n",
    "print(\"Total profit:\", round(Total_Profit,2))\n",
    "print(\"Total Shipping cost:\", round(Total_shipping_cost,2))"
   ]
  },
  {
   "cell_type": "markdown",
   "id": "4a962289",
   "metadata": {},
   "source": [
    "2. Which provinces contribute the most and least to overall sales?"
   ]
  },
  {
   "cell_type": "code",
   "execution_count": 18,
   "id": "66f0e112",
   "metadata": {},
   "outputs": [
    {
     "data": {
      "text/plain": [
       "Province\n",
       "Alberta                  1704791.49\n",
       "British Columbia         1892757.78\n",
       "Manitoba                 1372848.78\n",
       "New Brunswick             684211.52\n",
       "Newfoundland              102924.07\n",
       "Northwest Territories     800847.33\n",
       "Nova Scotia               817729.36\n",
       "Nunavut                   116376.48\n",
       "Ontario                  3063212.48\n",
       "Prince Edward Island      409383.25\n",
       "Quebec                   1510195.08\n",
       "Saskachewan              1464455.82\n",
       "Yukon                     975867.37\n",
       "Name: Sales, dtype: float64"
      ]
     },
     "execution_count": 18,
     "metadata": {},
     "output_type": "execute_result"
    }
   ],
   "source": [
    "province = df.groupby('Province')['Sales'].sum()\n",
    "round(province,2)"
   ]
  },
  {
   "cell_type": "code",
   "execution_count": 19,
   "id": "5eded095",
   "metadata": {},
   "outputs": [],
   "source": [
    "most_contributed_province = province.idxmax()"
   ]
  },
  {
   "cell_type": "code",
   "execution_count": 20,
   "id": "dc9719e0",
   "metadata": {},
   "outputs": [
    {
     "data": {
      "text/plain": [
       "'Ontario'"
      ]
     },
     "execution_count": 20,
     "metadata": {},
     "output_type": "execute_result"
    }
   ],
   "source": [
    "most_contributed_province"
   ]
  },
  {
   "cell_type": "code",
   "execution_count": 21,
   "id": "4ee5c1d7",
   "metadata": {},
   "outputs": [],
   "source": [
    "least_contributed_province = province.idxmin()"
   ]
  },
  {
   "cell_type": "code",
   "execution_count": 22,
   "id": "9a5675d7",
   "metadata": {},
   "outputs": [
    {
     "data": {
      "text/plain": [
       "'Newfoundland'"
      ]
     },
     "execution_count": 22,
     "metadata": {},
     "output_type": "execute_result"
    }
   ],
   "source": [
    "least_contributed_province"
   ]
  },
  {
   "cell_type": "code",
   "execution_count": 23,
   "id": "94667494",
   "metadata": {},
   "outputs": [
    {
     "name": "stdout",
     "output_type": "stream",
     "text": [
      "Most_contributed Province overall to sales: Ontario\n"
     ]
    }
   ],
   "source": [
    "print(f\"Most_contributed Province overall to sales: { most_contributed_province}\")"
   ]
  },
  {
   "cell_type": "code",
   "execution_count": 24,
   "id": "a742cd11",
   "metadata": {},
   "outputs": [
    {
     "name": "stdout",
     "output_type": "stream",
     "text": [
      "Least_contributed Province overall to sales: Newfoundland\n"
     ]
    }
   ],
   "source": [
    "print(f\"Least_contributed Province overall to sales: { least_contributed_province}\")"
   ]
  },
  {
   "cell_type": "markdown",
   "id": "07c1bb79",
   "metadata": {},
   "source": [
    "3. What is the average profit margin (Profit/Sales) for each region?"
   ]
  },
  {
   "cell_type": "code",
   "execution_count": 25,
   "id": "8b7cef40",
   "metadata": {},
   "outputs": [],
   "source": [
    "df['Profit Margin'] = df['Profit'] / df['Sales']"
   ]
  },
  {
   "cell_type": "code",
   "execution_count": 26,
   "id": "31f06ec6",
   "metadata": {},
   "outputs": [
    {
     "data": {
      "text/plain": [
       "0      -0.815363\n",
       "1       0.045225\n",
       "2       0.190988\n",
       "3       0.241447\n",
       "4       0.078474\n",
       "          ...   \n",
       "8394   -0.249745\n",
       "8395    0.056678\n",
       "8396    0.416434\n",
       "8397   -0.338926\n",
       "8398    0.286489\n",
       "Name: Profit Margin, Length: 8399, dtype: float64"
      ]
     },
     "execution_count": 26,
     "metadata": {},
     "output_type": "execute_result"
    }
   ],
   "source": [
    "df['Profit Margin']"
   ]
  },
  {
   "cell_type": "code",
   "execution_count": 27,
   "id": "55d490e6",
   "metadata": {},
   "outputs": [],
   "source": [
    "region  = df.groupby('Region')['Profit Margin'].mean()"
   ]
  },
  {
   "cell_type": "code",
   "execution_count": 28,
   "id": "a91e59c9",
   "metadata": {},
   "outputs": [
    {
     "data": {
      "text/plain": [
       "Region\n",
       "Atlantic                -0.115772\n",
       "Northwest Territories   -0.120283\n",
       "Nunavut                 -0.136512\n",
       "Ontario                 -0.134144\n",
       "Prarie                  -0.120915\n",
       "Quebec                  -0.136977\n",
       "West                    -0.141268\n",
       "Yukon                   -0.172624\n",
       "Name: Profit Margin, dtype: float64"
      ]
     },
     "execution_count": 28,
     "metadata": {},
     "output_type": "execute_result"
    }
   ],
   "source": [
    "region"
   ]
  },
  {
   "cell_type": "markdown",
   "id": "cb6a9a7a",
   "metadata": {},
   "source": [
    "4. Are there specific product categories or subcategories that consistently yield high profits?"
   ]
  },
  {
   "cell_type": "code",
   "execution_count": 29,
   "id": "0f0d086a",
   "metadata": {},
   "outputs": [],
   "source": [
    "products = df.groupby('Product Category')['Profit'].sum().sort_values(ascending = False)"
   ]
  },
  {
   "cell_type": "code",
   "execution_count": 30,
   "id": "64a366f6",
   "metadata": {},
   "outputs": [
    {
     "data": {
      "text/plain": [
       "Product Category\n",
       "Technology         886313.52\n",
       "Office Supplies    518021.43\n",
       "Furniture          117433.03\n",
       "Name: Profit, dtype: float64"
      ]
     },
     "execution_count": 30,
     "metadata": {},
     "output_type": "execute_result"
    }
   ],
   "source": [
    "products"
   ]
  },
  {
   "cell_type": "code",
   "execution_count": 31,
   "id": "77ccdc69",
   "metadata": {},
   "outputs": [],
   "source": [
    "products_sub_category = df.groupby('Product Sub-Category')['Profit'].sum().sort_values(ascending = False)"
   ]
  },
  {
   "cell_type": "code",
   "execution_count": 32,
   "id": "496e98b0",
   "metadata": {},
   "outputs": [
    {
     "data": {
      "text/plain": [
       "Product Sub-Category\n",
       "Telephones and Communication      316951.62\n",
       "Office Machines                   307712.93\n",
       "Binders and Binder Accessories    307413.39\n",
       "Copiers and Fax                   167361.49\n",
       "Chairs & Chairmats                149649.73\n",
       "Office Furnishings                100427.93\n",
       "Appliances                         97158.06\n",
       "Computer Peripherals               94287.48\n",
       "Envelopes                          48182.60\n",
       "Paper                              45263.20\n",
       "Labels                             13677.17\n",
       "Pens & Art Supplies                 7564.78\n",
       "Storage & Organization              6664.15\n",
       "Rubber Bands                        -102.67\n",
       "Scissors, Rulers and Trimmers      -7799.25\n",
       "Bookcases                         -33582.13\n",
       "Tables                            -99062.50\n",
       "Name: Profit, dtype: float64"
      ]
     },
     "execution_count": 32,
     "metadata": {},
     "output_type": "execute_result"
    }
   ],
   "source": [
    "products_sub_category"
   ]
  },
  {
   "cell_type": "markdown",
   "id": "db824ca0",
   "metadata": {},
   "source": [
    "5. Is there any correlation between discount percentage and profit?"
   ]
  },
  {
   "cell_type": "code",
   "execution_count": 33,
   "id": "25d62a30",
   "metadata": {},
   "outputs": [],
   "source": [
    "correlation = df['Discount'].corr(df['Profit'])"
   ]
  },
  {
   "cell_type": "code",
   "execution_count": 34,
   "id": "fc797866",
   "metadata": {},
   "outputs": [
    {
     "name": "stdout",
     "output_type": "stream",
     "text": [
      "The correlation between discount and profit: -0.037128373576373545\n"
     ]
    }
   ],
   "source": [
    "print(f\"The correlation between discount and profit: {correlation}\")"
   ]
  },
  {
   "cell_type": "code",
   "execution_count": 35,
   "id": "a387acec",
   "metadata": {},
   "outputs": [
    {
     "data": {
      "text/plain": [
       "<Axes: xlabel='Discount', ylabel='Profit'>"
      ]
     },
     "execution_count": 35,
     "metadata": {},
     "output_type": "execute_result"
    },
    {
     "data": {
      "image/png": "[encoded data removed]",
      "text/plain": [
       "<Figure size 640x480 with 1 Axes>"
      ]
     },
     "metadata": {},
     "output_type": "display_data"
    }
   ],
   "source": [
    "sns.scatterplot(data = df, x='Discount', y='Profit', alpha = 0.5)"
   ]
  },
  {
   "cell_type": "markdown",
   "id": "85d537fd",
   "metadata": {},
   "source": [
    "6. What is the average order quantity across all orders?\n"
   ]
  },
  {
   "cell_type": "code",
   "execution_count": 36,
   "id": "0ef9ce44",
   "metadata": {},
   "outputs": [],
   "source": [
    "order_quantity  = df.groupby('Product Category')['Order Quantity'].mean()"
   ]
  },
  {
   "cell_type": "code",
   "execution_count": 37,
   "id": "52347d37",
   "metadata": {},
   "outputs": [
    {
     "data": {
      "text/plain": [
       "Product Category\n",
       "Furniture          25.709977\n",
       "Office Supplies    25.656833\n",
       "Technology         25.266344\n",
       "Name: Order Quantity, dtype: float64"
      ]
     },
     "execution_count": 37,
     "metadata": {},
     "output_type": "execute_result"
    }
   ],
   "source": [
    "order_quantity"
   ]
  },
  {
   "cell_type": "code",
   "execution_count": 38,
   "id": "08b95a6e",
   "metadata": {},
   "outputs": [],
   "source": [
    "order_sub_quantity  = df.groupby('Product Sub-Category')['Order Quantity'].mean()"
   ]
  },
  {
   "cell_type": "code",
   "execution_count": 39,
   "id": "370cfa8f",
   "metadata": {},
   "outputs": [
    {
     "data": {
      "text/plain": [
       "Product Sub-Category\n",
       "Appliances                        25.117512\n",
       "Binders and Binder Accessories    25.127869\n",
       "Bookcases                         25.878307\n",
       "Chairs & Chairmats                24.844560\n",
       "Computer Peripherals              25.358839\n",
       "Copiers and Fax                   24.459770\n",
       "Envelopes                         26.739837\n",
       "Labels                            25.350694\n",
       "Office Furnishings                26.203046\n",
       "Office Machines                   23.311573\n",
       "Paper                             25.200816\n",
       "Pens & Art Supplies               26.824645\n",
       "Rubber Bands                      27.486034\n",
       "Scissors, Rulers and Trimmers     27.298611\n",
       "Storage & Organization            25.282051\n",
       "Tables                            25.470914\n",
       "Telephones and Communication      26.012458\n",
       "Name: Order Quantity, dtype: float64"
      ]
     },
     "execution_count": 39,
     "metadata": {},
     "output_type": "execute_result"
    }
   ],
   "source": [
    "order_sub_quantity"
   ]
  },
  {
   "cell_type": "code",
   "execution_count": 40,
   "id": "89d91b2d",
   "metadata": {},
   "outputs": [],
   "source": [
    "order_quantity_overall = df['Order Quantity'].mean()"
   ]
  },
  {
   "cell_type": "code",
   "execution_count": 41,
   "id": "502b4b1e",
   "metadata": {},
   "outputs": [
    {
     "data": {
      "text/plain": [
       "25.571734730325037"
      ]
     },
     "execution_count": 41,
     "metadata": {},
     "output_type": "execute_result"
    }
   ],
   "source": [
    "order_quantity_overall"
   ]
  },
  {
   "cell_type": "markdown",
   "id": "1107089c",
   "metadata": {},
   "source": [
    "7. How does customer segment affect sales and profitability?\n"
   ]
  },
  {
   "cell_type": "code",
   "execution_count": 42,
   "id": "24902318",
   "metadata": {},
   "outputs": [
    {
     "name": "stdout",
     "output_type": "stream",
     "text": [
      "<class 'pandas.core.frame.DataFrame'>\n",
      "RangeIndex: 8399 entries, 0 to 8398\n",
      "Data columns (total 19 columns):\n",
      " #   Column                Non-Null Count  Dtype  \n",
      "---  ------                --------------  -----  \n",
      " 0   Order ID              8399 non-null   int64  \n",
      " 1   Order Date            8399 non-null   object \n",
      " 2   Order Priority        8399 non-null   object \n",
      " 3   Order Quantity        8399 non-null   int64  \n",
      " 4   Sales                 8399 non-null   float64\n",
      " 5   Discount              8399 non-null   float64\n",
      " 6   Ship Mode             8399 non-null   object \n",
      " 7   Profit                8399 non-null   float64\n",
      " 8   Unit Price            8399 non-null   float64\n",
      " 9   Shipping Cost         8399 non-null   float64\n",
      " 10  Customer Name         8399 non-null   object \n",
      " 11  Province              8399 non-null   object \n",
      " 12  Region                8399 non-null   object \n",
      " 13  Customer Segment      8399 non-null   object \n",
      " 14  Product Category      8399 non-null   object \n",
      " 15  Product Sub-Category  8399 non-null   object \n",
      " 16  Product Base Margin   8399 non-null   float64\n",
      " 17  Ship Date             8399 non-null   object \n",
      " 18  Profit Margin         8399 non-null   float64\n",
      "dtypes: float64(7), int64(2), object(10)\n",
      "memory usage: 1.2+ MB\n"
     ]
    }
   ],
   "source": [
    "df.info()"
   ]
  },
  {
   "cell_type": "code",
   "execution_count": 43,
   "id": "162cdb69",
   "metadata": {},
   "outputs": [],
   "source": [
    "customer_segment = df.groupby('Customer Segment').agg(\n",
    "total_sales =  ('Sales', 'sum'),\n",
    "total_profit = ('Profit', 'sum'),\n",
    "Average_sales = ('Sales', 'mean'),\n",
    "Average_profit = ('Profit', 'mean')\n",
    ").sort_values(by = 'total_sales', ascending = False)"
   ]
  },
  {
   "cell_type": "code",
   "execution_count": 44,
   "id": "ee473717",
   "metadata": {},
   "outputs": [
    {
     "data": {
      "text/html": [
       "<div>\n",
       "<style scoped>\n",
       "    .dataframe tbody tr th:only-of-type {\n",
       "        vertical-align: middle;\n",
       "    }\n",
       "\n",
       "    .dataframe tbody tr th {\n",
       "        vertical-align: top;\n",
       "    }\n",
       "\n",
       "    .dataframe thead th {\n",
       "        text-align: right;\n",
       "    }\n",
       "</style>\n",
       "<table border=\"1\" class=\"dataframe\">\n",
       "  <thead>\n",
       "    <tr style=\"text-align: right;\">\n",
       "      <th></th>\n",
       "      <th>total_sales</th>\n",
       "      <th>total_profit</th>\n",
       "      <th>Average_sales</th>\n",
       "      <th>Average_profit</th>\n",
       "    </tr>\n",
       "    <tr>\n",
       "      <th>Customer Segment</th>\n",
       "      <th></th>\n",
       "      <th></th>\n",
       "      <th></th>\n",
       "      <th></th>\n",
       "    </tr>\n",
       "  </thead>\n",
       "  <tbody>\n",
       "    <tr>\n",
       "      <th>Corporate</th>\n",
       "      <td>5498904.88</td>\n",
       "      <td>599746.00</td>\n",
       "      <td>1787.68</td>\n",
       "      <td>194.98</td>\n",
       "    </tr>\n",
       "    <tr>\n",
       "      <th>Home Office</th>\n",
       "      <td>3564763.88</td>\n",
       "      <td>318354.03</td>\n",
       "      <td>1754.31</td>\n",
       "      <td>156.67</td>\n",
       "    </tr>\n",
       "    <tr>\n",
       "      <th>Consumer</th>\n",
       "      <td>3063611.08</td>\n",
       "      <td>287959.94</td>\n",
       "      <td>1857.86</td>\n",
       "      <td>174.63</td>\n",
       "    </tr>\n",
       "    <tr>\n",
       "      <th>Small Business</th>\n",
       "      <td>2788320.99</td>\n",
       "      <td>315708.01</td>\n",
       "      <td>1698.12</td>\n",
       "      <td>192.27</td>\n",
       "    </tr>\n",
       "  </tbody>\n",
       "</table>\n",
       "</div>"
      ],
      "text/plain": [
       "                  total_sales  total_profit  Average_sales  Average_profit\n",
       "Customer Segment                                                          \n",
       "Corporate          5498904.88     599746.00        1787.68          194.98\n",
       "Home Office        3564763.88     318354.03        1754.31          156.67\n",
       "Consumer           3063611.08     287959.94        1857.86          174.63\n",
       "Small Business     2788320.99     315708.01        1698.12          192.27"
      ]
     },
     "execution_count": 44,
     "metadata": {},
     "output_type": "execute_result"
    }
   ],
   "source": [
    "round(customer_segment,2)"
   ]
  },
  {
   "cell_type": "markdown",
   "id": "d60457c3",
   "metadata": {},
   "source": [
    "8. Which customer segment has the highest average order quantity?"
   ]
  },
  {
   "cell_type": "code",
   "execution_count": 45,
   "id": "3c0c16ad",
   "metadata": {},
   "outputs": [],
   "source": [
    "highest_order_quantity = df.groupby('Customer Segment')['Order Quantity'].mean().sort_values(ascending = False)"
   ]
  },
  {
   "cell_type": "code",
   "execution_count": 46,
   "id": "f5c9fe32",
   "metadata": {},
   "outputs": [],
   "source": [
    "highest_order_quantity = highest_order_quantity.idxmax()"
   ]
  },
  {
   "cell_type": "code",
   "execution_count": 47,
   "id": "72339dca",
   "metadata": {},
   "outputs": [
    {
     "data": {
      "text/plain": [
       "'Home Office'"
      ]
     },
     "execution_count": 47,
     "metadata": {},
     "output_type": "execute_result"
    }
   ],
   "source": [
    "highest_order_quantity"
   ]
  },
  {
   "cell_type": "markdown",
   "id": "b3f47bef",
   "metadata": {},
   "source": [
    "9. What is the distribution of order priorities, and how do they affect shipping cost or profit?"
   ]
  },
  {
   "cell_type": "code",
   "execution_count": 48,
   "id": "b99cd010",
   "metadata": {},
   "outputs": [
    {
     "name": "stderr",
     "output_type": "stream",
     "text": [
      "C:\\Users\\LENOVO\\AppData\\Local\\Temp\\ipykernel_18852\\177740109.py:1: FutureWarning: Indexing with multiple keys (implicitly converted to a tuple of keys) will be deprecated, use a list instead.\n",
      "  distribution_of_order_priorities = df.groupby('Order Priority')['Shipping Cost', 'Profit'].agg(['sum', 'mean'])\n"
     ]
    }
   ],
   "source": [
    "distribution_of_order_priorities = df.groupby('Order Priority')['Shipping Cost', 'Profit'].agg(['sum', 'mean'])"
   ]
  },
  {
   "cell_type": "code",
   "execution_count": 49,
   "id": "27794643",
   "metadata": {},
   "outputs": [
    {
     "data": {
      "text/html": [
       "<div>\n",
       "<style scoped>\n",
       "    .dataframe tbody tr th:only-of-type {\n",
       "        vertical-align: middle;\n",
       "    }\n",
       "\n",
       "    .dataframe tbody tr th {\n",
       "        vertical-align: top;\n",
       "    }\n",
       "\n",
       "    .dataframe thead tr th {\n",
       "        text-align: left;\n",
       "    }\n",
       "\n",
       "    .dataframe thead tr:last-of-type th {\n",
       "        text-align: right;\n",
       "    }\n",
       "</style>\n",
       "<table border=\"1\" class=\"dataframe\">\n",
       "  <thead>\n",
       "    <tr>\n",
       "      <th></th>\n",
       "      <th colspan=\"2\" halign=\"left\">Shipping Cost</th>\n",
       "      <th colspan=\"2\" halign=\"left\">Profit</th>\n",
       "    </tr>\n",
       "    <tr>\n",
       "      <th></th>\n",
       "      <th>sum</th>\n",
       "      <th>mean</th>\n",
       "      <th>sum</th>\n",
       "      <th>mean</th>\n",
       "    </tr>\n",
       "    <tr>\n",
       "      <th>Order Priority</th>\n",
       "      <th></th>\n",
       "      <th></th>\n",
       "      <th></th>\n",
       "      <th></th>\n",
       "    </tr>\n",
       "  </thead>\n",
       "  <tbody>\n",
       "    <tr>\n",
       "      <th>Critical</th>\n",
       "      <td>21112.68</td>\n",
       "      <td>13.129776</td>\n",
       "      <td>182876.87</td>\n",
       "      <td>113.729397</td>\n",
       "    </tr>\n",
       "    <tr>\n",
       "      <th>High</th>\n",
       "      <td>22665.42</td>\n",
       "      <td>12.819808</td>\n",
       "      <td>407069.65</td>\n",
       "      <td>230.243015</td>\n",
       "    </tr>\n",
       "    <tr>\n",
       "      <th>Low</th>\n",
       "      <td>22946.86</td>\n",
       "      <td>13.341198</td>\n",
       "      <td>386184.90</td>\n",
       "      <td>224.526105</td>\n",
       "    </tr>\n",
       "    <tr>\n",
       "      <th>Medium</th>\n",
       "      <td>20513.93</td>\n",
       "      <td>12.577517</td>\n",
       "      <td>327051.73</td>\n",
       "      <td>200.522213</td>\n",
       "    </tr>\n",
       "    <tr>\n",
       "      <th>Not Specified</th>\n",
       "      <td>20592.15</td>\n",
       "      <td>12.315879</td>\n",
       "      <td>218584.83</td>\n",
       "      <td>130.732554</td>\n",
       "    </tr>\n",
       "  </tbody>\n",
       "</table>\n",
       "</div>"
      ],
      "text/plain": [
       "               Shipping Cost                Profit            \n",
       "                         sum       mean        sum        mean\n",
       "Order Priority                                                \n",
       "Critical            21112.68  13.129776  182876.87  113.729397\n",
       "High                22665.42  12.819808  407069.65  230.243015\n",
       "Low                 22946.86  13.341198  386184.90  224.526105\n",
       "Medium              20513.93  12.577517  327051.73  200.522213\n",
       "Not Specified       20592.15  12.315879  218584.83  130.732554"
      ]
     },
     "execution_count": 49,
     "metadata": {},
     "output_type": "execute_result"
    }
   ],
   "source": [
    "distribution_of_order_priorities"
   ]
  },
  {
   "cell_type": "code",
   "execution_count": 50,
   "id": "c2048789",
   "metadata": {},
   "outputs": [
    {
     "data": {
      "text/plain": [
       "<Axes: xlabel='Order Priority', ylabel='Shipping Cost'>"
      ]
     },
     "execution_count": 50,
     "metadata": {},
     "output_type": "execute_result"
    },
    {
     "data": {
      "image/png": "[encoded data removed]",
      "text/plain": [
       "<Figure size 640x480 with 1 Axes>"
      ]
     },
     "metadata": {},
     "output_type": "display_data"
    }
   ],
   "source": [
    "sns.scatterplot(data=df, x='Order Priority', y='Shipping Cost')"
   ]
  },
  {
   "cell_type": "markdown",
   "id": "d78d2fbb",
   "metadata": {},
   "source": [
    "\n",
    "10. Which customers generate the most revenue and profit?\n"
   ]
  },
  {
   "cell_type": "code",
   "execution_count": 66,
   "id": "58b8b413",
   "metadata": {},
   "outputs": [
    {
     "data": {
      "text/html": [
       "<div>\n",
       "<style scoped>\n",
       "    .dataframe tbody tr th:only-of-type {\n",
       "        vertical-align: middle;\n",
       "    }\n",
       "\n",
       "    .dataframe tbody tr th {\n",
       "        vertical-align: top;\n",
       "    }\n",
       "\n",
       "    .dataframe thead th {\n",
       "        text-align: right;\n",
       "    }\n",
       "</style>\n",
       "<table border=\"1\" class=\"dataframe\">\n",
       "  <thead>\n",
       "    <tr style=\"text-align: right;\">\n",
       "      <th></th>\n",
       "      <th>Sales</th>\n",
       "      <th>Profit</th>\n",
       "    </tr>\n",
       "    <tr>\n",
       "      <th>Customer Name</th>\n",
       "      <th></th>\n",
       "      <th></th>\n",
       "    </tr>\n",
       "  </thead>\n",
       "  <tbody>\n",
       "    <tr>\n",
       "      <th>Emily Phan</th>\n",
       "      <td>117124.4380</td>\n",
       "      <td>34005.44</td>\n",
       "    </tr>\n",
       "    <tr>\n",
       "      <th>Deborah Brumfield</th>\n",
       "      <td>97433.1355</td>\n",
       "      <td>31121.22</td>\n",
       "    </tr>\n",
       "    <tr>\n",
       "      <th>Roy Skaria</th>\n",
       "      <td>92542.1530</td>\n",
       "      <td>1343.94</td>\n",
       "    </tr>\n",
       "    <tr>\n",
       "      <th>Sylvia Foulston</th>\n",
       "      <td>88875.7575</td>\n",
       "      <td>5141.90</td>\n",
       "    </tr>\n",
       "    <tr>\n",
       "      <th>Grant Carroll</th>\n",
       "      <td>88417.0025</td>\n",
       "      <td>27977.29</td>\n",
       "    </tr>\n",
       "    <tr>\n",
       "      <th>Alejandro Grove</th>\n",
       "      <td>83561.9300</td>\n",
       "      <td>20588.92</td>\n",
       "    </tr>\n",
       "    <tr>\n",
       "      <th>Darren Budd</th>\n",
       "      <td>81577.3435</td>\n",
       "      <td>1857.66</td>\n",
       "    </tr>\n",
       "    <tr>\n",
       "      <th>Julia Barnett</th>\n",
       "      <td>80044.4520</td>\n",
       "      <td>-1956.09</td>\n",
       "    </tr>\n",
       "    <tr>\n",
       "      <th>John Lucas</th>\n",
       "      <td>79696.1875</td>\n",
       "      <td>12725.08</td>\n",
       "    </tr>\n",
       "    <tr>\n",
       "      <th>Liz MacKendrick</th>\n",
       "      <td>76306.4315</td>\n",
       "      <td>20397.24</td>\n",
       "    </tr>\n",
       "  </tbody>\n",
       "</table>\n",
       "</div>"
      ],
      "text/plain": [
       "                         Sales    Profit\n",
       "Customer Name                           \n",
       "Emily Phan         117124.4380  34005.44\n",
       "Deborah Brumfield   97433.1355  31121.22\n",
       "Roy Skaria          92542.1530   1343.94\n",
       "Sylvia Foulston     88875.7575   5141.90\n",
       "Grant Carroll       88417.0025  27977.29\n",
       "Alejandro Grove     83561.9300  20588.92\n",
       "Darren Budd         81577.3435   1857.66\n",
       "Julia Barnett       80044.4520  -1956.09\n",
       "John Lucas          79696.1875  12725.08\n",
       "Liz MacKendrick     76306.4315  20397.24"
      ]
     },
     "execution_count": 66,
     "metadata": {},
     "output_type": "execute_result"
    }
   ],
   "source": [
    "top_customers = df.groupby('Customer Name')[['Sales','Profit']].sum().sort_values(by='Sales',ascending = False).head(10)\n",
    "top_customers"
   ]
  },
  {
   "cell_type": "markdown",
   "id": "a7198e18",
   "metadata": {},
   "source": [
    "\n",
    "11. What is the average shipping cost for each shipping mode?\n"
   ]
  },
  {
   "cell_type": "code",
   "execution_count": 70,
   "id": "6618f483",
   "metadata": {},
   "outputs": [
    {
     "data": {
      "text/plain": [
       "Ship Mode\n",
       "Delivery Truck    45.350733\n",
       "Express Air        7.986684\n",
       "Regular Air        7.656809\n",
       "Name: Shipping Cost, dtype: float64"
      ]
     },
     "execution_count": 70,
     "metadata": {},
     "output_type": "execute_result"
    }
   ],
   "source": [
    "average_shipping_cost = df.groupby('Ship Mode')['Shipping Cost'].mean()\n",
    "average_shipping_cost"
   ]
  },
  {
   "cell_type": "markdown",
   "id": "7a0de6dc",
   "metadata": {},
   "source": [
    "12. Does shipping mode affect the delivery time (difference between Order Date and Ship Date)?"
   ]
  },
  {
   "cell_type": "code",
   "execution_count": 81,
   "id": "2adf9b1e",
   "metadata": {},
   "outputs": [
    {
     "data": {
      "text/plain": [
       "Ship Mode\n",
       "Express Air       4.752798\n",
       "Regular Air       0.667464\n",
       "Delivery Truck    0.077661\n",
       "Name: Delivery Time(Days), dtype: float64"
      ]
     },
     "execution_count": 81,
     "metadata": {},
     "output_type": "execute_result"
    }
   ],
   "source": [
    "df['Order Date'] = pd.to_datetime(df['Order Date'])\n",
    "df['Ship Date'] = pd.to_datetime(df['Ship Date'])\n",
    "df['Delivery Time(Days)'] =  (df['Ship Date'] - df['Order Date']).dt.days\n",
    "shipping_analysis = df.groupby('Ship Mode')['Delivery Time(Days)'].mean().sort_values(ascending =False)\n",
    "shipping_analysis"
   ]
  },
  {
   "cell_type": "code",
   "execution_count": 84,
   "id": "a4f52986",
   "metadata": {},
   "outputs": [
    {
     "data": {
      "text/plain": [
       "(0.0, 300.0)"
      ]
     },
     "execution_count": 84,
     "metadata": {},
     "output_type": "execute_result"
    },
    {
     "data": {
      "image/png": "[encoded data removed]",
      "text/plain": [
       "<Figure size 640x480 with 1 Axes>"
      ]
     },
     "metadata": {},
     "output_type": "display_data"
    }
   ],
   "source": [
    "ax1 = sns.boxplot(data = df, x = 'Ship Mode', y='Delivery Time(Days)')\n",
    "ax1.set_ylim(0,300)"
   ]
  },
  {
   "cell_type": "markdown",
   "id": "d0c10791",
   "metadata": {},
   "source": [
    "13. Which provinces incur the highest average shipping costs?"
   ]
  },
  {
   "cell_type": "code",
   "execution_count": 89,
   "id": "422a97e9",
   "metadata": {},
   "outputs": [
    {
     "data": {
      "text/plain": [
       "Province\n",
       "Prince Edward Island     14.077630\n",
       "Nova Scotia              13.966422\n",
       "Yukon                    13.781937\n",
       "Northwest Territories    13.753629\n",
       "Quebec                   13.499795\n",
       "Manitoba                 13.178676\n",
       "Ontario                  12.856112\n",
       "Alberta                  12.853954\n",
       "Nunavut                  12.769494\n",
       "New Brunswick            12.527585\n",
       "British Columbia         11.957798\n",
       "Newfoundland             11.751463\n",
       "Saskachewan              11.413187\n",
       "Name: Shipping Cost, dtype: float64"
      ]
     },
     "execution_count": 89,
     "metadata": {},
     "output_type": "execute_result"
    }
   ],
   "source": [
    "highest_average_shipping_cost = df.groupby('Province')['Shipping Cost'].mean().sort_values(ascending =False)\n",
    "highest_average_shipping_cost"
   ]
  },
  {
   "cell_type": "markdown",
   "id": "9c43132b",
   "metadata": {},
   "source": [
    "14. How does shipping cost impact profit for different regions?"
   ]
  },
  {
   "cell_type": "code",
   "execution_count": 93,
   "id": "fa13179d",
   "metadata": {},
   "outputs": [
    {
     "data": {
      "text/html": [
       "<div>\n",
       "<style scoped>\n",
       "    .dataframe tbody tr th:only-of-type {\n",
       "        vertical-align: middle;\n",
       "    }\n",
       "\n",
       "    .dataframe tbody tr th {\n",
       "        vertical-align: top;\n",
       "    }\n",
       "\n",
       "    .dataframe thead th {\n",
       "        text-align: right;\n",
       "    }\n",
       "</style>\n",
       "<table border=\"1\" class=\"dataframe\">\n",
       "  <thead>\n",
       "    <tr style=\"text-align: right;\">\n",
       "      <th></th>\n",
       "      <th>Shipping Cost</th>\n",
       "      <th>Profit</th>\n",
       "    </tr>\n",
       "    <tr>\n",
       "      <th>Region</th>\n",
       "      <th></th>\n",
       "      <th></th>\n",
       "    </tr>\n",
       "  </thead>\n",
       "  <tbody>\n",
       "    <tr>\n",
       "      <th>Yukon</th>\n",
       "      <td>13.781937</td>\n",
       "      <td>136.253155</td>\n",
       "    </tr>\n",
       "    <tr>\n",
       "      <th>Northwest Territories</th>\n",
       "      <td>13.753629</td>\n",
       "      <td>255.464670</td>\n",
       "    </tr>\n",
       "    <tr>\n",
       "      <th>Quebec</th>\n",
       "      <td>13.499795</td>\n",
       "      <td>179.803649</td>\n",
       "    </tr>\n",
       "    <tr>\n",
       "      <th>Atlantic</th>\n",
       "      <td>13.389657</td>\n",
       "      <td>221.259870</td>\n",
       "    </tr>\n",
       "    <tr>\n",
       "      <th>Ontario</th>\n",
       "      <td>12.856112</td>\n",
       "      <td>189.960865</td>\n",
       "    </tr>\n",
       "    <tr>\n",
       "      <th>Nunavut</th>\n",
       "      <td>12.769494</td>\n",
       "      <td>35.963418</td>\n",
       "    </tr>\n",
       "    <tr>\n",
       "      <th>West</th>\n",
       "      <td>12.347137</td>\n",
       "      <td>149.175595</td>\n",
       "    </tr>\n",
       "    <tr>\n",
       "      <th>Prarie</th>\n",
       "      <td>12.233839</td>\n",
       "      <td>188.253294</td>\n",
       "    </tr>\n",
       "  </tbody>\n",
       "</table>\n",
       "</div>"
      ],
      "text/plain": [
       "                       Shipping Cost      Profit\n",
       "Region                                          \n",
       "Yukon                      13.781937  136.253155\n",
       "Northwest Territories      13.753629  255.464670\n",
       "Quebec                     13.499795  179.803649\n",
       "Atlantic                   13.389657  221.259870\n",
       "Ontario                    12.856112  189.960865\n",
       "Nunavut                    12.769494   35.963418\n",
       "West                       12.347137  149.175595\n",
       "Prarie                     12.233839  188.253294"
      ]
     },
     "execution_count": 93,
     "metadata": {},
     "output_type": "execute_result"
    }
   ],
   "source": [
    "shipping_cost_analaysis = df.groupby('Region')[['Shipping Cost','Profit']].mean().sort_values(by='Shipping Cost', ascending =False)\n",
    "shipping_cost_analaysis"
   ]
  },
  {
   "cell_type": "code",
   "execution_count": 97,
   "id": "d14d26a5",
   "metadata": {},
   "outputs": [
    {
     "data": {
      "text/plain": [
       "Text(0, 0.5, 'Amount')"
      ]
     },
     "execution_count": 97,
     "metadata": {},
     "output_type": "execute_result"
    },
    {
     "data": {
      "image/png": "[encoded data removed]",
      "text/plain": [
       "<Figure size 640x480 with 1 Axes>"
      ]
     },
     "metadata": {},
     "output_type": "display_data"
    }
   ],
   "source": [
    "shipping_cost_analaysis.plot(kind = 'bar' )\n",
    "plt.title('Average Shipping cost Vs Profit')\n",
    "plt.ylabel('Amount')"
   ]
  },
  {
   "cell_type": "code",
   "execution_count": null,
   "id": "85400b25",
   "metadata": {},
   "outputs": [],
   "source": [
    "### **Time-Based Analysis**\n",
    "15. What are the monthly or yearly trends in sales and profit?\n",
    "16. Are there specific times of the year (e.g., months, seasons) where sales spike?\n",
    "17. Does the order priority distribution change over time?\n"
   ]
  },
  {
   "cell_type": "code",
   "execution_count": 98,
   "id": "7c857f9f",
   "metadata": {},
   "outputs": [
    {
     "name": "stdout",
     "output_type": "stream",
     "text": [
      "<class 'pandas.core.frame.DataFrame'>\n",
      "RangeIndex: 8399 entries, 0 to 8398\n",
      "Data columns (total 20 columns):\n",
      " #   Column                Non-Null Count  Dtype         \n",
      "---  ------                --------------  -----         \n",
      " 0   Order ID              8399 non-null   int64         \n",
      " 1   Order Date            8399 non-null   datetime64[ns]\n",
      " 2   Order Priority        8399 non-null   object        \n",
      " 3   Order Quantity        8399 non-null   int64         \n",
      " 4   Sales                 8399 non-null   float64       \n",
      " 5   Discount              8399 non-null   float64       \n",
      " 6   Ship Mode             8399 non-null   object        \n",
      " 7   Profit                8399 non-null   float64       \n",
      " 8   Unit Price            8399 non-null   float64       \n",
      " 9   Shipping Cost         8399 non-null   float64       \n",
      " 10  Customer Name         8399 non-null   object        \n",
      " 11  Province              8399 non-null   object        \n",
      " 12  Region                8399 non-null   object        \n",
      " 13  Customer Segment      8399 non-null   object        \n",
      " 14  Product Category      8399 non-null   object        \n",
      " 15  Product Sub-Category  8399 non-null   object        \n",
      " 16  Product Base Margin   8399 non-null   float64       \n",
      " 17  Ship Date             8399 non-null   datetime64[ns]\n",
      " 18  Profit Margin         8399 non-null   float64       \n",
      " 19  Delivery Time(Days)   8399 non-null   int64         \n",
      "dtypes: datetime64[ns](2), float64(7), int64(3), object(8)\n",
      "memory usage: 1.3+ MB\n"
     ]
    }
   ],
   "source": [
    "df.info()"
   ]
  },
  {
   "cell_type": "code",
   "execution_count": 116,
   "id": "7acc2bad",
   "metadata": {},
   "outputs": [],
   "source": [
    "df['Month'] = df['Order Date'].dt.month\n",
    "df['Month_name'] = df['Order Date'].dt.strftime('%B')\n",
    "df['Year'] = df['Order Date'].dt.year"
   ]
  },
  {
   "cell_type": "code",
   "execution_count": 131,
   "id": "51c9c920",
   "metadata": {},
   "outputs": [
    {
     "data": {
      "text/html": [
       "<div>\n",
       "<style scoped>\n",
       "    .dataframe tbody tr th:only-of-type {\n",
       "        vertical-align: middle;\n",
       "    }\n",
       "\n",
       "    .dataframe tbody tr th {\n",
       "        vertical-align: top;\n",
       "    }\n",
       "\n",
       "    .dataframe thead th {\n",
       "        text-align: right;\n",
       "    }\n",
       "</style>\n",
       "<table border=\"1\" class=\"dataframe\">\n",
       "  <thead>\n",
       "    <tr style=\"text-align: right;\">\n",
       "      <th></th>\n",
       "      <th>Sales</th>\n",
       "      <th>Profit</th>\n",
       "    </tr>\n",
       "    <tr>\n",
       "      <th>Year</th>\n",
       "      <th></th>\n",
       "      <th></th>\n",
       "    </tr>\n",
       "  </thead>\n",
       "  <tbody>\n",
       "    <tr>\n",
       "      <th>2009</th>\n",
       "      <td>4209139.46</td>\n",
       "      <td>434538.73</td>\n",
       "    </tr>\n",
       "    <tr>\n",
       "      <th>2010</th>\n",
       "      <td>3549680.80</td>\n",
       "      <td>363871.48</td>\n",
       "    </tr>\n",
       "    <tr>\n",
       "      <th>2011</th>\n",
       "      <td>3436816.70</td>\n",
       "      <td>381455.99</td>\n",
       "    </tr>\n",
       "    <tr>\n",
       "      <th>2012</th>\n",
       "      <td>3719963.86</td>\n",
       "      <td>341901.78</td>\n",
       "    </tr>\n",
       "  </tbody>\n",
       "</table>\n",
       "</div>"
      ],
      "text/plain": [
       "           Sales     Profit\n",
       "Year                       \n",
       "2009  4209139.46  434538.73\n",
       "2010  3549680.80  363871.48\n",
       "2011  3436816.70  381455.99\n",
       "2012  3719963.86  341901.78"
      ]
     },
     "execution_count": 131,
     "metadata": {},
     "output_type": "execute_result"
    }
   ],
   "source": [
    "yearly_trends = df.groupby('Year')[['Sales','Profit']].sum()\n",
    "yearly_trends = round(yearly_trends,2)\n",
    "yearly_trends"
   ]
  },
  {
   "cell_type": "code",
   "execution_count": 124,
   "id": "b9e5620e",
   "metadata": {},
   "outputs": [
    {
     "data": {
      "text/html": [
       "<div>\n",
       "<style scoped>\n",
       "    .dataframe tbody tr th:only-of-type {\n",
       "        vertical-align: middle;\n",
       "    }\n",
       "\n",
       "    .dataframe tbody tr th {\n",
       "        vertical-align: top;\n",
       "    }\n",
       "\n",
       "    .dataframe thead th {\n",
       "        text-align: right;\n",
       "    }\n",
       "</style>\n",
       "<table border=\"1\" class=\"dataframe\">\n",
       "  <thead>\n",
       "    <tr style=\"text-align: right;\">\n",
       "      <th></th>\n",
       "      <th>Sales</th>\n",
       "      <th>Profit</th>\n",
       "    </tr>\n",
       "    <tr>\n",
       "      <th>Month</th>\n",
       "      <th></th>\n",
       "      <th></th>\n",
       "    </tr>\n",
       "  </thead>\n",
       "  <tbody>\n",
       "    <tr>\n",
       "      <th>1</th>\n",
       "      <td>1157985.09</td>\n",
       "      <td>107666.32</td>\n",
       "    </tr>\n",
       "    <tr>\n",
       "      <th>2</th>\n",
       "      <td>1270772.74</td>\n",
       "      <td>133402.94</td>\n",
       "    </tr>\n",
       "    <tr>\n",
       "      <th>3</th>\n",
       "      <td>1281884.58</td>\n",
       "      <td>136423.37</td>\n",
       "    </tr>\n",
       "    <tr>\n",
       "      <th>4</th>\n",
       "      <td>1256957.10</td>\n",
       "      <td>127220.84</td>\n",
       "    </tr>\n",
       "    <tr>\n",
       "      <th>5</th>\n",
       "      <td>1339404.78</td>\n",
       "      <td>161068.81</td>\n",
       "    </tr>\n",
       "    <tr>\n",
       "      <th>6</th>\n",
       "      <td>1119779.79</td>\n",
       "      <td>104053.56</td>\n",
       "    </tr>\n",
       "    <tr>\n",
       "      <th>7</th>\n",
       "      <td>1207589.66</td>\n",
       "      <td>119723.38</td>\n",
       "    </tr>\n",
       "    <tr>\n",
       "      <th>8</th>\n",
       "      <td>944130.56</td>\n",
       "      <td>74996.68</td>\n",
       "    </tr>\n",
       "    <tr>\n",
       "      <th>9</th>\n",
       "      <td>1318203.47</td>\n",
       "      <td>175390.67</td>\n",
       "    </tr>\n",
       "    <tr>\n",
       "      <th>10</th>\n",
       "      <td>1419786.24</td>\n",
       "      <td>165404.93</td>\n",
       "    </tr>\n",
       "    <tr>\n",
       "      <th>11</th>\n",
       "      <td>1252528.38</td>\n",
       "      <td>104404.38</td>\n",
       "    </tr>\n",
       "    <tr>\n",
       "      <th>12</th>\n",
       "      <td>1346578.43</td>\n",
       "      <td>112012.10</td>\n",
       "    </tr>\n",
       "  </tbody>\n",
       "</table>\n",
       "</div>"
      ],
      "text/plain": [
       "            Sales     Profit\n",
       "Month                       \n",
       "1      1157985.09  107666.32\n",
       "2      1270772.74  133402.94\n",
       "3      1281884.58  136423.37\n",
       "4      1256957.10  127220.84\n",
       "5      1339404.78  161068.81\n",
       "6      1119779.79  104053.56\n",
       "7      1207589.66  119723.38\n",
       "8       944130.56   74996.68\n",
       "9      1318203.47  175390.67\n",
       "10     1419786.24  165404.93\n",
       "11     1252528.38  104404.38\n",
       "12     1346578.43  112012.10"
      ]
     },
     "execution_count": 124,
     "metadata": {},
     "output_type": "execute_result"
    }
   ],
   "source": [
    "monthly_trends = df.groupby('Month')[['Sales','Profit']].sum().sort_index()\n",
    "monthly_trends = round(monthly_trends,2)\n",
    "monthly_trends"
   ]
  },
  {
   "cell_type": "code",
   "execution_count": 136,
   "id": "24538ab9",
   "metadata": {},
   "outputs": [
    {
     "data": {
      "image/png": "[encoded data removed]",
      "text/plain": [
       "<Figure size 640x480 with 1 Axes>"
      ]
     },
     "metadata": {},
     "output_type": "display_data"
    }
   ],
   "source": [
    "ax3 = yearly_trends.plot(kind = 'line', marker = 'o')"
   ]
  },
  {
   "cell_type": "code",
   "execution_count": 137,
   "id": "75f2ef43",
   "metadata": {},
   "outputs": [
    {
     "data": {
      "image/png": "[encoded data removed]",
      "text/plain": [
       "<Figure size 640x480 with 1 Axes>"
      ]
     },
     "metadata": {},
     "output_type": "display_data"
    }
   ],
   "source": [
    "ax4 = monthly_trends.plot(kind='line', marker = 'o')"
   ]
  },
  {
   "cell_type": "markdown",
   "id": "a4067727",
   "metadata": {},
   "source": [
    "Does the order priority distribution change over time?"
   ]
  },
  {
   "cell_type": "code",
   "execution_count": 138,
   "id": "7a699070",
   "metadata": {},
   "outputs": [
    {
     "data": {
      "text/html": [
       "<div>\n",
       "<style scoped>\n",
       "    .dataframe tbody tr th:only-of-type {\n",
       "        vertical-align: middle;\n",
       "    }\n",
       "\n",
       "    .dataframe tbody tr th {\n",
       "        vertical-align: top;\n",
       "    }\n",
       "\n",
       "    .dataframe thead th {\n",
       "        text-align: right;\n",
       "    }\n",
       "</style>\n",
       "<table border=\"1\" class=\"dataframe\">\n",
       "  <thead>\n",
       "    <tr style=\"text-align: right;\">\n",
       "      <th>Order Priority</th>\n",
       "      <th>Critical</th>\n",
       "      <th>High</th>\n",
       "      <th>Low</th>\n",
       "      <th>Medium</th>\n",
       "      <th>Not Specified</th>\n",
       "    </tr>\n",
       "    <tr>\n",
       "      <th>Year</th>\n",
       "      <th></th>\n",
       "      <th></th>\n",
       "      <th></th>\n",
       "      <th></th>\n",
       "      <th></th>\n",
       "    </tr>\n",
       "  </thead>\n",
       "  <tbody>\n",
       "    <tr>\n",
       "      <th>2009</th>\n",
       "      <td>443</td>\n",
       "      <td>417</td>\n",
       "      <td>420</td>\n",
       "      <td>428</td>\n",
       "      <td>445</td>\n",
       "    </tr>\n",
       "    <tr>\n",
       "      <th>2010</th>\n",
       "      <td>342</td>\n",
       "      <td>454</td>\n",
       "      <td>483</td>\n",
       "      <td>447</td>\n",
       "      <td>416</td>\n",
       "    </tr>\n",
       "    <tr>\n",
       "      <th>2011</th>\n",
       "      <td>412</td>\n",
       "      <td>449</td>\n",
       "      <td>385</td>\n",
       "      <td>369</td>\n",
       "      <td>387</td>\n",
       "    </tr>\n",
       "    <tr>\n",
       "      <th>2012</th>\n",
       "      <td>411</td>\n",
       "      <td>448</td>\n",
       "      <td>432</td>\n",
       "      <td>387</td>\n",
       "      <td>424</td>\n",
       "    </tr>\n",
       "  </tbody>\n",
       "</table>\n",
       "</div>"
      ],
      "text/plain": [
       "Order Priority  Critical  High  Low  Medium  Not Specified\n",
       "Year                                                      \n",
       "2009                 443   417  420     428            445\n",
       "2010                 342   454  483     447            416\n",
       "2011                 412   449  385     369            387\n",
       "2012                 411   448  432     387            424"
      ]
     },
     "execution_count": 138,
     "metadata": {},
     "output_type": "execute_result"
    }
   ],
   "source": [
    "order_priority = df.groupby(['Year', 'Order Priority'])['Order ID'].count().unstack()\n",
    "order_priority"
   ]
  },
  {
   "cell_type": "code",
   "execution_count": null,
   "id": "bc955b2b",
   "metadata": {},
   "outputs": [],
   "source": [
    "19. Which product subcategories have the highest and lowest average unit prices?\n",
    "20. What is the relationship between product base margin and profitability?\n",
    "21. How does the discount percentage vary across product categories and subcategories?\n",
    "22. Which product subcategories are most frequently ordered?\n"
   ]
  },
  {
   "cell_type": "code",
   "execution_count": 139,
   "id": "3966a186",
   "metadata": {},
   "outputs": [
    {
     "name": "stdout",
     "output_type": "stream",
     "text": [
      "<class 'pandas.core.frame.DataFrame'>\n",
      "RangeIndex: 8399 entries, 0 to 8398\n",
      "Data columns (total 24 columns):\n",
      " #   Column                Non-Null Count  Dtype         \n",
      "---  ------                --------------  -----         \n",
      " 0   Order ID              8399 non-null   int64         \n",
      " 1   Order Date            8399 non-null   datetime64[ns]\n",
      " 2   Order Priority        8399 non-null   object        \n",
      " 3   Order Quantity        8399 non-null   int64         \n",
      " 4   Sales                 8399 non-null   float64       \n",
      " 5   Discount              8399 non-null   float64       \n",
      " 6   Ship Mode             8399 non-null   object        \n",
      " 7   Profit                8399 non-null   float64       \n",
      " 8   Unit Price            8399 non-null   float64       \n",
      " 9   Shipping Cost         8399 non-null   float64       \n",
      " 10  Customer Name         8399 non-null   object        \n",
      " 11  Province              8399 non-null   object        \n",
      " 12  Region                8399 non-null   object        \n",
      " 13  Customer Segment      8399 non-null   object        \n",
      " 14  Product Category      8399 non-null   object        \n",
      " 15  Product Sub-Category  8399 non-null   object        \n",
      " 16  Product Base Margin   8399 non-null   float64       \n",
      " 17  Ship Date             8399 non-null   datetime64[ns]\n",
      " 18  Profit Margin         8399 non-null   float64       \n",
      " 19  Delivery Time(Days)   8399 non-null   int64         \n",
      " 20  Month                 8399 non-null   int64         \n",
      " 21  Date                  8399 non-null   object        \n",
      " 22  Year                  8399 non-null   int64         \n",
      " 23  Month_name            8399 non-null   object        \n",
      "dtypes: datetime64[ns](2), float64(7), int64(5), object(10)\n",
      "memory usage: 1.5+ MB\n"
     ]
    }
   ],
   "source": [
    "df.info()"
   ]
  },
  {
   "cell_type": "code",
   "execution_count": 142,
   "id": "6f8cc10b",
   "metadata": {},
   "outputs": [
    {
     "data": {
      "text/plain": [
       "('Copiers and Fax', 'Rubber Bands')"
      ]
     },
     "execution_count": 142,
     "metadata": {},
     "output_type": "execute_result"
    }
   ],
   "source": [
    "average_unit_prices =  df.groupby('Product Sub-Category')['Unit Price'].mean()\n",
    "highest_unit_price = average_unit_prices.idxmax()\n",
    "lowest_unit_price = average_unit_prices.idxmin()\n",
    "highest_unit_price, lowest_unit_price"
   ]
  },
  {
   "cell_type": "code",
   "execution_count": 146,
   "id": "b2aa0129",
   "metadata": {},
   "outputs": [
    {
     "data": {
      "text/plain": [
       "-0.11485220070092586"
      ]
     },
     "execution_count": 146,
     "metadata": {},
     "output_type": "execute_result"
    }
   ],
   "source": [
    "relationship = df['Product Base Margin'].corr(df['Profit'])\n",
    "relationship"
   ]
  },
  {
   "cell_type": "code",
   "execution_count": 153,
   "id": "78e4c282",
   "metadata": {},
   "outputs": [
    {
     "data": {
      "text/plain": [
       "Product Category  Product Sub-Category          \n",
       "Furniture         Bookcases                         0.048095\n",
       "                  Chairs & Chairmats                0.050311\n",
       "                  Office Furnishings                0.048807\n",
       "                  Tables                            0.049861\n",
       "Office Supplies   Appliances                        0.050645\n",
       "                  Binders and Binder Accessories    0.050383\n",
       "                  Envelopes                         0.048862\n",
       "                  Labels                            0.049549\n",
       "                  Paper                             0.049412\n",
       "                  Pens & Art Supplies               0.051280\n",
       "                  Rubber Bands                      0.051508\n",
       "                  Scissors, Rulers and Trimmers     0.049236\n",
       "                  Storage & Organization            0.051081\n",
       "Technology        Computer Peripherals              0.048575\n",
       "                  Copiers and Fax                   0.051494\n",
       "                  Office Machines                   0.050504\n",
       "                  Telephones and Communication      0.047950\n",
       "Name: Discount, dtype: float64"
      ]
     },
     "execution_count": 153,
     "metadata": {},
     "output_type": "execute_result"
    }
   ],
   "source": [
    "discount = df.groupby(['Product Category','Product Sub-Category'])['Discount'].mean()\n",
    "discount"
   ]
  },
  {
   "cell_type": "code",
   "execution_count": 161,
   "id": "e70770c9",
   "metadata": {},
   "outputs": [
    {
     "data": {
      "text/plain": [
       "Product Sub-Category\n",
       "Paper                             1225\n",
       "Binders and Binder Accessories     915\n",
       "Telephones and Communication       883\n",
       "Office Furnishings                 788\n",
       "Computer Peripherals               758\n",
       "Pens & Art Supplies                633\n",
       "Storage & Organization             546\n",
       "Appliances                         434\n",
       "Chairs & Chairmats                 386\n",
       "Tables                             361\n",
       "Office Machines                    337\n",
       "Labels                             288\n",
       "Envelopes                          246\n",
       "Bookcases                          189\n",
       "Rubber Bands                       179\n",
       "Scissors, Rulers and Trimmers      144\n",
       "Copiers and Fax                     87\n",
       "Name: Order ID, dtype: int64"
      ]
     },
     "execution_count": 161,
     "metadata": {},
     "output_type": "execute_result"
    }
   ],
   "source": [
    "frequently_ordered = df.groupby('Product Sub-Category')['Order ID'].count().sort_values(ascending = False)\n",
    "frequently_ordered"
   ]
  },
  {
   "cell_type": "markdown",
   "id": "df894f73",
   "metadata": {},
   "source": [
    "23. Which region contributes the most to total sales and profit?"
   ]
  },
  {
   "cell_type": "code",
   "execution_count": 162,
   "id": "bddb124f",
   "metadata": {},
   "outputs": [
    {
     "name": "stdout",
     "output_type": "stream",
     "text": [
      "<class 'pandas.core.frame.DataFrame'>\n",
      "RangeIndex: 8399 entries, 0 to 8398\n",
      "Data columns (total 24 columns):\n",
      " #   Column                Non-Null Count  Dtype         \n",
      "---  ------                --------------  -----         \n",
      " 0   Order ID              8399 non-null   int64         \n",
      " 1   Order Date            8399 non-null   datetime64[ns]\n",
      " 2   Order Priority        8399 non-null   object        \n",
      " 3   Order Quantity        8399 non-null   int64         \n",
      " 4   Sales                 8399 non-null   float64       \n",
      " 5   Discount              8399 non-null   float64       \n",
      " 6   Ship Mode             8399 non-null   object        \n",
      " 7   Profit                8399 non-null   float64       \n",
      " 8   Unit Price            8399 non-null   float64       \n",
      " 9   Shipping Cost         8399 non-null   float64       \n",
      " 10  Customer Name         8399 non-null   object        \n",
      " 11  Province              8399 non-null   object        \n",
      " 12  Region                8399 non-null   object        \n",
      " 13  Customer Segment      8399 non-null   object        \n",
      " 14  Product Category      8399 non-null   object        \n",
      " 15  Product Sub-Category  8399 non-null   object        \n",
      " 16  Product Base Margin   8399 non-null   float64       \n",
      " 17  Ship Date             8399 non-null   datetime64[ns]\n",
      " 18  Profit Margin         8399 non-null   float64       \n",
      " 19  Delivery Time(Days)   8399 non-null   int64         \n",
      " 20  Month                 8399 non-null   int64         \n",
      " 21  Date                  8399 non-null   object        \n",
      " 22  Year                  8399 non-null   int64         \n",
      " 23  Month_name            8399 non-null   object        \n",
      "dtypes: datetime64[ns](2), float64(7), int64(5), object(10)\n",
      "memory usage: 1.5+ MB\n"
     ]
    }
   ],
   "source": [
    "df.info()"
   ]
  },
  {
   "cell_type": "code",
   "execution_count": 171,
   "id": "5e7fb2b9",
   "metadata": {},
   "outputs": [
    {
     "name": "stdout",
     "output_type": "stream",
     "text": [
      "most Contributed regions for total sales : West\n",
      "most Contributed regions for total profit : Ontario\n"
     ]
    }
   ],
   "source": [
    "contribute= df.groupby('Region')[['Sales', 'Profit']].sum().sort_values(by = ['Sales','Profit'], ascending = False)\n",
    "contribute_sales = contribute['Sales'].idxmax()\n",
    "contribute_Profit = contribute['Profit'].idxmax()\n",
    "print(f\"most Contributed regions for total sales : {contribute_sales}\")\n",
    "print(f\"most Contributed regions for total profit : {contribute_Profit}\")"
   ]
  },
  {
   "cell_type": "markdown",
   "id": "f071d6b7",
   "metadata": {},
   "source": [
    "Which provinces have the highest and lowest average order quantities?"
   ]
  },
  {
   "cell_type": "code",
   "execution_count": 178,
   "id": "25dd81b2",
   "metadata": {},
   "outputs": [
    {
     "name": "stdout",
     "output_type": "stream",
     "text": [
      "Prince Edward Island province has the highest average order quanitites\n",
      "Newfoundland province has the lowest average order quantities\n"
     ]
    }
   ],
   "source": [
    "provinces = df.groupby('Province')['Order Quantity'].mean().sort_values(ascending = False)\n",
    "provinces_highest = provinces.idxmax()\n",
    "provinces_lowest = provinces.idxmin()\n",
    "print(f'{provinces_highest} province has the highest average order quanitites')\n",
    "print(f'{provinces_lowest} province has the lowest average order quantities')"
   ]
  },
  {
   "cell_type": "markdown",
   "id": "ad890cb9",
   "metadata": {},
   "source": [
    "Build Linear Regression"
   ]
  },
  {
   "cell_type": "code",
   "execution_count": 179,
   "id": "f107eb8a",
   "metadata": {},
   "outputs": [],
   "source": [
    "df1 = df.copy()"
   ]
  },
  {
   "cell_type": "code",
   "execution_count": 180,
   "id": "bc27fa5e",
   "metadata": {},
   "outputs": [],
   "source": [
    "Y = df1['Sales']"
   ]
  },
  {
   "cell_type": "code",
   "execution_count": 226,
   "id": "87bf6c00",
   "metadata": {},
   "outputs": [],
   "source": [
    "X = df1[['Order Quantity', 'Discount','Profit','Unit Price','Profit Margin']] "
   ]
  },
  {
   "cell_type": "code",
   "execution_count": 227,
   "id": "e1e78ac4",
   "metadata": {},
   "outputs": [
    {
     "data": {
      "text/plain": [
       "((8399, 5), (8399,))"
      ]
     },
     "execution_count": 227,
     "metadata": {},
     "output_type": "execute_result"
    }
   ],
   "source": [
    "X.shape ,  Y.shape"
   ]
  },
  {
   "cell_type": "code",
   "execution_count": 228,
   "id": "3fd3a20f",
   "metadata": {},
   "outputs": [],
   "source": [
    "from sklearn.model_selection import train_test_split"
   ]
  },
  {
   "cell_type": "code",
   "execution_count": 229,
   "id": "d05894b7",
   "metadata": {},
   "outputs": [],
   "source": [
    "X_train, X_test, Y_train, Y_test = train_test_split(X, Y, test_size = 0.2)"
   ]
  },
  {
   "cell_type": "code",
   "execution_count": 230,
   "id": "8cfef46c",
   "metadata": {},
   "outputs": [
    {
     "data": {
      "text/plain": [
       "((6719, 5), (6719,))"
      ]
     },
     "execution_count": 230,
     "metadata": {},
     "output_type": "execute_result"
    }
   ],
   "source": [
    "X_train.shape, Y_train.shape"
   ]
  },
  {
   "cell_type": "code",
   "execution_count": 231,
   "id": "fb7e12e0",
   "metadata": {},
   "outputs": [
    {
     "data": {
      "text/plain": [
       "((1680, 5), (1680,))"
      ]
     },
     "execution_count": 231,
     "metadata": {},
     "output_type": "execute_result"
    }
   ],
   "source": [
    "X_test.shape, Y_test.shape"
   ]
  },
  {
   "cell_type": "code",
   "execution_count": 232,
   "id": "f03fc8c9",
   "metadata": {},
   "outputs": [],
   "source": [
    "model = linear_model.LinearRegression()"
   ]
  },
  {
   "cell_type": "code",
   "execution_count": 233,
   "id": "326a2f0e",
   "metadata": {},
   "outputs": [
    {
     "data": {
      "text/html": [
       "<style>#sk-container-id-1 {color: black;background-color: white;}#sk-container-id-1 pre{padding: 0;}#sk-container-id-1 div.sk-toggleable {background-color: white;}#sk-container-id-1 label.sk-toggleable__label {cursor: pointer;display: block;width: 100%;margin-bottom: 0;padding: 0.3em;box-sizing: border-box;text-align: center;}#sk-container-id-1 label.sk-toggleable__label-arrow:before {content: \"▸\";float: left;margin-right: 0.25em;color: #696969;}#sk-container-id-1 label.sk-toggleable__label-arrow:hover:before {color: black;}#sk-container-id-1 div.sk-estimator:hover label.sk-toggleable__label-arrow:before {color: black;}#sk-container-id-1 div.sk-toggleable__content {max-height: 0;max-width: 0;overflow: hidden;text-align: left;background-color: #f0f8ff;}#sk-container-id-1 div.sk-toggleable__content pre {margin: 0.2em;color: black;border-radius: 0.25em;background-color: #f0f8ff;}#sk-container-id-1 input.sk-toggleable__control:checked~div.sk-toggleable__content {max-height: 200px;max-width: 100%;overflow: auto;}#sk-container-id-1 input.sk-toggleable__control:checked~label.sk-toggleable__label-arrow:before {content: \"▾\";}#sk-container-id-1 div.sk-estimator input.sk-toggleable__control:checked~label.sk-toggleable__label {background-color: #d4ebff;}#sk-container-id-1 div.sk-label input.sk-toggleable__control:checked~label.sk-toggleable__label {background-color: #d4ebff;}#sk-container-id-1 input.sk-hidden--visually {border: 0;clip: rect(1px 1px 1px 1px);clip: rect(1px, 1px, 1px, 1px);height: 1px;margin: -1px;overflow: hidden;padding: 0;position: absolute;width: 1px;}#sk-container-id-1 div.sk-estimator {font-family: monospace;background-color: #f0f8ff;border: 1px dotted black;border-radius: 0.25em;box-sizing: border-box;margin-bottom: 0.5em;}#sk-container-id-1 div.sk-estimator:hover {background-color: #d4ebff;}#sk-container-id-1 div.sk-parallel-item::after {content: \"\";width: 100%;border-bottom: 1px solid gray;flex-grow: 1;}#sk-container-id-1 div.sk-label:hover label.sk-toggleable__label {background-color: #d4ebff;}#sk-container-id-1 div.sk-serial::before {content: \"\";position: absolute;border-left: 1px solid gray;box-sizing: border-box;top: 0;bottom: 0;left: 50%;z-index: 0;}#sk-container-id-1 div.sk-serial {display: flex;flex-direction: column;align-items: center;background-color: white;padding-right: 0.2em;padding-left: 0.2em;position: relative;}#sk-container-id-1 div.sk-item {position: relative;z-index: 1;}#sk-container-id-1 div.sk-parallel {display: flex;align-items: stretch;justify-content: center;background-color: white;position: relative;}#sk-container-id-1 div.sk-item::before, #sk-container-id-1 div.sk-parallel-item::before {content: \"\";position: absolute;border-left: 1px solid gray;box-sizing: border-box;top: 0;bottom: 0;left: 50%;z-index: -1;}#sk-container-id-1 div.sk-parallel-item {display: flex;flex-direction: column;z-index: 1;position: relative;background-color: white;}#sk-container-id-1 div.sk-parallel-item:first-child::after {align-self: flex-end;width: 50%;}#sk-container-id-1 div.sk-parallel-item:last-child::after {align-self: flex-start;width: 50%;}#sk-container-id-1 div.sk-parallel-item:only-child::after {width: 0;}#sk-container-id-1 div.sk-dashed-wrapped {border: 1px dashed gray;margin: 0 0.4em 0.5em 0.4em;box-sizing: border-box;padding-bottom: 0.4em;background-color: white;}#sk-container-id-1 div.sk-label label {font-family: monospace;font-weight: bold;display: inline-block;line-height: 1.2em;}#sk-container-id-1 div.sk-label-container {text-align: center;}#sk-container-id-1 div.sk-container {/* jupyter's `normalize.less` sets `[hidden] { display: none; }` but bootstrap.min.css set `[hidden] { display: none !important; }` so we also need the `!important` here to be able to override the default hidden behavior on the sphinx rendered scikit-learn.org. See: https://github.com/scikit-learn/scikit-learn/issues/21755 */display: inline-block !important;position: relative;}#sk-container-id-1 div.sk-text-repr-fallback {display: none;}</style><div id=\"sk-container-id-1\" class=\"sk-top-container\"><div class=\"sk-text-repr-fallback\"><pre>LinearRegression()</pre><b>In a Jupyter environment, please rerun this cell to show the HTML representation or trust the notebook. <br />On GitHub, the HTML representation is unable to render, please try loading this page with nbviewer.org.</b></div><div class=\"sk-container\" hidden><div class=\"sk-item\"><div class=\"sk-estimator sk-toggleable\"><input class=\"sk-toggleable__control sk-hidden--visually\" id=\"sk-estimator-id-1\" type=\"checkbox\" checked><label for=\"sk-estimator-id-1\" class=\"sk-toggleable__label sk-toggleable__label-arrow\">LinearRegression</label><div class=\"sk-toggleable__content\"><pre>LinearRegression()</pre></div></div></div></div></div>"
      ],
      "text/plain": [
       "LinearRegression()"
      ]
     },
     "execution_count": 233,
     "metadata": {},
     "output_type": "execute_result"
    }
   ],
   "source": [
    "model.fit(X_train, Y_train)"
   ]
  },
  {
   "cell_type": "code",
   "execution_count": 238,
   "id": "d2895aed",
   "metadata": {},
   "outputs": [],
   "source": [
    "Y_pred = model.predict(X_test)"
   ]
  },
  {
   "cell_type": "code",
   "execution_count": 239,
   "id": "70c3a2a9",
   "metadata": {},
   "outputs": [
    {
     "data": {
      "text/plain": [
       "array([2379.36058468, 1203.59044489, 1179.3586998 , ...,  376.07469902,\n",
       "       4211.28477519, 4368.59192227])"
      ]
     },
     "execution_count": 239,
     "metadata": {},
     "output_type": "execute_result"
    }
   ],
   "source": [
    "Y_pred"
   ]
  },
  {
   "cell_type": "code",
   "execution_count": 241,
   "id": "c41a3dec",
   "metadata": {},
   "outputs": [
    {
     "data": {
      "text/plain": [
       "Text(0.5, 1.0, 'Actual Sales VS Predicted Sales')"
      ]
     },
     "execution_count": 241,
     "metadata": {},
     "output_type": "execute_result"
    },
    {
     "data": {
      "image/png": "[encoded data removed]",
      "text/plain": [
       "<Figure size 640x480 with 1 Axes>"
      ]
     },
     "metadata": {},
     "output_type": "display_data"
    }
   ],
   "source": [
    "ax = sns.scatterplot(x = Y_test, y=Y_pred, alpha = 0.7)\n",
    "ax.set_xlabel(\"Actual Sales\")\n",
    "ax.set_ylabel(\"Predicted Sales\")\n",
    "ax.set_title(\"Actual Sales VS Predicted Sales\")"
   ]
  },
  {
   "cell_type": "code",
   "execution_count": null,
   "id": "f91a35c0",
   "metadata": {},
   "outputs": [],
   "source": []
  }
 ],
 "metadata": {
  "kernelspec": {
   "display_name": "Python 3 (ipykernel)",
   "language": "python",
   "name": "python3"
  },
  "language_info": {
   "codemirror_mode": {
    "name": "ipython",
    "version": 3
   },
   "file_extension": ".py",
   "mimetype": "text/x-python",
   "name": "python",
   "nbconvert_exporter": "python",
   "pygments_lexer": "ipython3",
   "version": "3.11.3"
  }
 },
 "nbformat": 4,
 "nbformat_minor": 5
}
