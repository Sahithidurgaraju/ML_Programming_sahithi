{
 "cells": [
  {
   "cell_type": "markdown",
   "id": "de035e7d",
   "metadata": {
    "papermill": {
     "duration": 0.01678,
     "end_time": "2025-03-05T16:05:14.276116",
     "exception": false,
     "start_time": "2025-03-05T16:05:14.259336",
     "status": "completed"
    },
    "tags": []
   },
   "source": [
    "MACHINE LEARNING ALGORITHMS"
   ]
  },
  {
   "cell_type": "markdown",
   "id": "36d9f6b8",
   "metadata": {
    "papermill": {
     "duration": 0.015431,
     "end_time": "2025-03-05T16:05:14.307037",
     "exception": false,
     "start_time": "2025-03-05T16:05:14.291606",
     "status": "completed"
    },
    "tags": []
   },
   "source": [
    "1. LINEAR REGRESSION"
   ]
  },
  {
   "cell_type": "markdown",
   "id": "a6fde448",
   "metadata": {
    "papermill": {
     "duration": 0.015319,
     "end_time": "2025-03-05T16:05:14.338573",
     "exception": false,
     "start_time": "2025-03-05T16:05:14.323254",
     "status": "completed"
    },
    "tags": []
   },
   "source": [
    "Example Data set : Super Market Sales"
   ]
  },
  {
   "cell_type": "markdown",
   "id": "721902fb",
   "metadata": {
    "papermill": {
     "duration": 0.01599,
     "end_time": "2025-03-05T16:05:14.370168",
     "exception": false,
     "start_time": "2025-03-05T16:05:14.354178",
     "status": "completed"
    },
    "tags": []
   },
   "source": [
    "1. import necessary libraries"
   ]
  },
  {
   "cell_type": "code",
   "execution_count": 1,
   "id": "838b8d16",
   "metadata": {
    "execution": {
     "iopub.execute_input": "2025-03-05T16:05:14.403119Z",
     "iopub.status.busy": "2025-03-05T16:05:14.402762Z",
     "iopub.status.idle": "2025-03-05T16:05:15.731603Z",
     "shell.execute_reply": "2025-03-05T16:05:15.730535Z"
    },
    "papermill": {
     "duration": 1.347725,
     "end_time": "2025-03-05T16:05:15.733512",
     "exception": false,
     "start_time": "2025-03-05T16:05:14.385787",
     "status": "completed"
    },
    "tags": []
   },
   "outputs": [],
   "source": [
    "from sklearn import linear_model\n",
    "from sklearn.model_selection import train_test_split\n",
    "from sklearn.metrics import mean_squared_error, r2_score"
   ]
  },
  {
   "cell_type": "code",
   "execution_count": 2,
   "id": "0154b532",
   "metadata": {
    "execution": {
     "iopub.execute_input": "2025-03-05T16:05:15.766107Z",
     "iopub.status.busy": "2025-03-05T16:05:15.765627Z",
     "iopub.status.idle": "2025-03-05T16:05:17.059099Z",
     "shell.execute_reply": "2025-03-05T16:05:17.058091Z"
    },
    "papermill": {
     "duration": 1.311824,
     "end_time": "2025-03-05T16:05:17.061012",
     "exception": false,
     "start_time": "2025-03-05T16:05:15.749188",
     "status": "completed"
    },
    "tags": []
   },
   "outputs": [],
   "source": [
    "import pandas as pd\n",
    "import numpy as np\n",
    "import matplotlib.pyplot as plt\n",
    "import seaborn as sns\n",
    "pd.set_option('display.float_format', lambda x: '%.2f' %x)"
   ]
  },
  {
   "cell_type": "code",
   "execution_count": 3,
   "id": "06ca2fe2",
   "metadata": {
    "execution": {
     "iopub.execute_input": "2025-03-05T16:05:17.093505Z",
     "iopub.status.busy": "2025-03-05T16:05:17.092960Z",
     "iopub.status.idle": "2025-03-05T16:05:17.154935Z",
     "shell.execute_reply": "2025-03-05T16:05:17.154046Z"
    },
    "papermill": {
     "duration": 0.079914,
     "end_time": "2025-03-05T16:05:17.156757",
     "exception": false,
     "start_time": "2025-03-05T16:05:17.076843",
     "status": "completed"
    },
    "tags": []
   },
   "outputs": [],
   "source": [
    "df = pd.read_csv(\"/kaggle/input/supermarketsales/superstore_sales.csv\")"
   ]
  },
  {
   "cell_type": "code",
   "execution_count": 4,
   "id": "ac16c32b",
   "metadata": {
    "execution": {
     "iopub.execute_input": "2025-03-05T16:05:17.190316Z",
     "iopub.status.busy": "2025-03-05T16:05:17.189912Z",
     "iopub.status.idle": "2025-03-05T16:05:17.223683Z",
     "shell.execute_reply": "2025-03-05T16:05:17.222608Z"
    },
    "papermill": {
     "duration": 0.052456,
     "end_time": "2025-03-05T16:05:17.225463",
     "exception": false,
     "start_time": "2025-03-05T16:05:17.173007",
     "status": "completed"
    },
    "tags": []
   },
   "outputs": [
    {
     "data": {
      "text/html": [
       "<div>\n",
       "<style scoped>\n",
       "    .dataframe tbody tr th:only-of-type {\n",
       "        vertical-align: middle;\n",
       "    }\n",
       "\n",
       "    .dataframe tbody tr th {\n",
       "        vertical-align: top;\n",
       "    }\n",
       "\n",
       "    .dataframe thead th {\n",
       "        text-align: right;\n",
       "    }\n",
       "</style>\n",
       "<table border=\"1\" class=\"dataframe\">\n",
       "  <thead>\n",
       "    <tr style=\"text-align: right;\">\n",
       "      <th></th>\n",
       "      <th>Order ID</th>\n",
       "      <th>Order Date</th>\n",
       "      <th>Order Priority</th>\n",
       "      <th>Order Quantity</th>\n",
       "      <th>Sales</th>\n",
       "      <th>Discount</th>\n",
       "      <th>Ship Mode</th>\n",
       "      <th>Profit</th>\n",
       "      <th>Unit Price</th>\n",
       "      <th>Shipping Cost</th>\n",
       "      <th>Customer Name</th>\n",
       "      <th>Province</th>\n",
       "      <th>Region</th>\n",
       "      <th>Customer Segment</th>\n",
       "      <th>Product Category</th>\n",
       "      <th>Product Sub-Category</th>\n",
       "      <th>Product Base Margin</th>\n",
       "      <th>Ship Date</th>\n",
       "    </tr>\n",
       "  </thead>\n",
       "  <tbody>\n",
       "    <tr>\n",
       "      <th>0</th>\n",
       "      <td>3</td>\n",
       "      <td>13-10-2010</td>\n",
       "      <td>Low</td>\n",
       "      <td>6</td>\n",
       "      <td>261.54</td>\n",
       "      <td>0.04</td>\n",
       "      <td>Regular Air</td>\n",
       "      <td>-213.25</td>\n",
       "      <td>38.94</td>\n",
       "      <td>35.00</td>\n",
       "      <td>Muhammed MacIntyre</td>\n",
       "      <td>Nunavut</td>\n",
       "      <td>Nunavut</td>\n",
       "      <td>Small Business</td>\n",
       "      <td>Office Supplies</td>\n",
       "      <td>Storage &amp; Organization</td>\n",
       "      <td>0.80</td>\n",
       "      <td>20-10-2010</td>\n",
       "    </tr>\n",
       "    <tr>\n",
       "      <th>1</th>\n",
       "      <td>293</td>\n",
       "      <td>01-10-2012</td>\n",
       "      <td>High</td>\n",
       "      <td>49</td>\n",
       "      <td>10123.02</td>\n",
       "      <td>0.07</td>\n",
       "      <td>Delivery Truck</td>\n",
       "      <td>457.81</td>\n",
       "      <td>208.16</td>\n",
       "      <td>68.02</td>\n",
       "      <td>Barry French</td>\n",
       "      <td>Nunavut</td>\n",
       "      <td>Nunavut</td>\n",
       "      <td>Consumer</td>\n",
       "      <td>Office Supplies</td>\n",
       "      <td>Appliances</td>\n",
       "      <td>0.58</td>\n",
       "      <td>02-10-2012</td>\n",
       "    </tr>\n",
       "    <tr>\n",
       "      <th>2</th>\n",
       "      <td>293</td>\n",
       "      <td>01-10-2012</td>\n",
       "      <td>High</td>\n",
       "      <td>27</td>\n",
       "      <td>244.57</td>\n",
       "      <td>0.01</td>\n",
       "      <td>Regular Air</td>\n",
       "      <td>46.71</td>\n",
       "      <td>8.69</td>\n",
       "      <td>2.99</td>\n",
       "      <td>Barry French</td>\n",
       "      <td>Nunavut</td>\n",
       "      <td>Nunavut</td>\n",
       "      <td>Consumer</td>\n",
       "      <td>Office Supplies</td>\n",
       "      <td>Binders and Binder Accessories</td>\n",
       "      <td>0.39</td>\n",
       "      <td>03-10-2012</td>\n",
       "    </tr>\n",
       "    <tr>\n",
       "      <th>3</th>\n",
       "      <td>483</td>\n",
       "      <td>10-07-2011</td>\n",
       "      <td>High</td>\n",
       "      <td>30</td>\n",
       "      <td>4965.76</td>\n",
       "      <td>0.08</td>\n",
       "      <td>Regular Air</td>\n",
       "      <td>1198.97</td>\n",
       "      <td>195.99</td>\n",
       "      <td>3.99</td>\n",
       "      <td>Clay Rozendal</td>\n",
       "      <td>Nunavut</td>\n",
       "      <td>Nunavut</td>\n",
       "      <td>Corporate</td>\n",
       "      <td>Technology</td>\n",
       "      <td>Telephones and Communication</td>\n",
       "      <td>0.58</td>\n",
       "      <td>12-07-2011</td>\n",
       "    </tr>\n",
       "    <tr>\n",
       "      <th>4</th>\n",
       "      <td>515</td>\n",
       "      <td>28-08-2010</td>\n",
       "      <td>Not Specified</td>\n",
       "      <td>19</td>\n",
       "      <td>394.27</td>\n",
       "      <td>0.08</td>\n",
       "      <td>Regular Air</td>\n",
       "      <td>30.94</td>\n",
       "      <td>21.78</td>\n",
       "      <td>5.94</td>\n",
       "      <td>Carlos Soltero</td>\n",
       "      <td>Nunavut</td>\n",
       "      <td>Nunavut</td>\n",
       "      <td>Consumer</td>\n",
       "      <td>Office Supplies</td>\n",
       "      <td>Appliances</td>\n",
       "      <td>0.50</td>\n",
       "      <td>30-08-2010</td>\n",
       "    </tr>\n",
       "    <tr>\n",
       "      <th>...</th>\n",
       "      <td>...</td>\n",
       "      <td>...</td>\n",
       "      <td>...</td>\n",
       "      <td>...</td>\n",
       "      <td>...</td>\n",
       "      <td>...</td>\n",
       "      <td>...</td>\n",
       "      <td>...</td>\n",
       "      <td>...</td>\n",
       "      <td>...</td>\n",
       "      <td>...</td>\n",
       "      <td>...</td>\n",
       "      <td>...</td>\n",
       "      <td>...</td>\n",
       "      <td>...</td>\n",
       "      <td>...</td>\n",
       "      <td>...</td>\n",
       "      <td>...</td>\n",
       "    </tr>\n",
       "    <tr>\n",
       "      <th>8394</th>\n",
       "      <td>55558</td>\n",
       "      <td>09-08-2010</td>\n",
       "      <td>Medium</td>\n",
       "      <td>8</td>\n",
       "      <td>1294.04</td>\n",
       "      <td>0.05</td>\n",
       "      <td>Delivery Truck</td>\n",
       "      <td>-323.18</td>\n",
       "      <td>150.98</td>\n",
       "      <td>66.27</td>\n",
       "      <td>Mick Brown</td>\n",
       "      <td>Alberta</td>\n",
       "      <td>West</td>\n",
       "      <td>Consumer</td>\n",
       "      <td>Furniture</td>\n",
       "      <td>Bookcases</td>\n",
       "      <td>0.65</td>\n",
       "      <td>09-08-2010</td>\n",
       "    </tr>\n",
       "    <tr>\n",
       "      <th>8395</th>\n",
       "      <td>55558</td>\n",
       "      <td>09-08-2010</td>\n",
       "      <td>Medium</td>\n",
       "      <td>23</td>\n",
       "      <td>392.57</td>\n",
       "      <td>0.04</td>\n",
       "      <td>Regular Air</td>\n",
       "      <td>22.25</td>\n",
       "      <td>17.07</td>\n",
       "      <td>8.13</td>\n",
       "      <td>Mick Brown</td>\n",
       "      <td>Alberta</td>\n",
       "      <td>West</td>\n",
       "      <td>Consumer</td>\n",
       "      <td>Office Supplies</td>\n",
       "      <td>Envelopes</td>\n",
       "      <td>0.38</td>\n",
       "      <td>11-08-2010</td>\n",
       "    </tr>\n",
       "    <tr>\n",
       "      <th>8396</th>\n",
       "      <td>56550</td>\n",
       "      <td>08-04-2011</td>\n",
       "      <td>Not Specified</td>\n",
       "      <td>37</td>\n",
       "      <td>823.78</td>\n",
       "      <td>0.03</td>\n",
       "      <td>Express Air</td>\n",
       "      <td>343.05</td>\n",
       "      <td>22.23</td>\n",
       "      <td>5.08</td>\n",
       "      <td>Frank Hawley</td>\n",
       "      <td>Alberta</td>\n",
       "      <td>West</td>\n",
       "      <td>Home Office</td>\n",
       "      <td>Furniture</td>\n",
       "      <td>Office Furnishings</td>\n",
       "      <td>0.41</td>\n",
       "      <td>10-04-2011</td>\n",
       "    </tr>\n",
       "    <tr>\n",
       "      <th>8397</th>\n",
       "      <td>56550</td>\n",
       "      <td>08-04-2011</td>\n",
       "      <td>Not Specified</td>\n",
       "      <td>8</td>\n",
       "      <td>469.84</td>\n",
       "      <td>0.00</td>\n",
       "      <td>Regular Air</td>\n",
       "      <td>-159.24</td>\n",
       "      <td>65.99</td>\n",
       "      <td>8.99</td>\n",
       "      <td>Frank Hawley</td>\n",
       "      <td>Alberta</td>\n",
       "      <td>West</td>\n",
       "      <td>Home Office</td>\n",
       "      <td>Technology</td>\n",
       "      <td>Telephones and Communication</td>\n",
       "      <td>0.56</td>\n",
       "      <td>09-04-2011</td>\n",
       "    </tr>\n",
       "    <tr>\n",
       "      <th>8398</th>\n",
       "      <td>56581</td>\n",
       "      <td>08-02-2009</td>\n",
       "      <td>High</td>\n",
       "      <td>20</td>\n",
       "      <td>2026.01</td>\n",
       "      <td>0.10</td>\n",
       "      <td>Express Air</td>\n",
       "      <td>580.43</td>\n",
       "      <td>105.98</td>\n",
       "      <td>13.99</td>\n",
       "      <td>Grant Donatelli</td>\n",
       "      <td>Alberta</td>\n",
       "      <td>West</td>\n",
       "      <td>Consumer</td>\n",
       "      <td>Furniture</td>\n",
       "      <td>Office Furnishings</td>\n",
       "      <td>0.65</td>\n",
       "      <td>11-02-2009</td>\n",
       "    </tr>\n",
       "  </tbody>\n",
       "</table>\n",
       "<p>8399 rows × 18 columns</p>\n",
       "</div>"
      ],
      "text/plain": [
       "      Order ID  Order Date Order Priority  Order Quantity    Sales  Discount  \\\n",
       "0            3  13-10-2010            Low               6   261.54      0.04   \n",
       "1          293  01-10-2012           High              49 10123.02      0.07   \n",
       "2          293  01-10-2012           High              27   244.57      0.01   \n",
       "3          483  10-07-2011           High              30  4965.76      0.08   \n",
       "4          515  28-08-2010  Not Specified              19   394.27      0.08   \n",
       "...        ...         ...            ...             ...      ...       ...   \n",
       "8394     55558  09-08-2010         Medium               8  1294.04      0.05   \n",
       "8395     55558  09-08-2010         Medium              23   392.57      0.04   \n",
       "8396     56550  08-04-2011  Not Specified              37   823.78      0.03   \n",
       "8397     56550  08-04-2011  Not Specified               8   469.84      0.00   \n",
       "8398     56581  08-02-2009           High              20  2026.01      0.10   \n",
       "\n",
       "           Ship Mode  Profit  Unit Price  Shipping Cost       Customer Name  \\\n",
       "0        Regular Air -213.25       38.94          35.00  Muhammed MacIntyre   \n",
       "1     Delivery Truck  457.81      208.16          68.02        Barry French   \n",
       "2        Regular Air   46.71        8.69           2.99        Barry French   \n",
       "3        Regular Air 1198.97      195.99           3.99       Clay Rozendal   \n",
       "4        Regular Air   30.94       21.78           5.94      Carlos Soltero   \n",
       "...              ...     ...         ...            ...                 ...   \n",
       "8394  Delivery Truck -323.18      150.98          66.27          Mick Brown   \n",
       "8395     Regular Air   22.25       17.07           8.13          Mick Brown   \n",
       "8396     Express Air  343.05       22.23           5.08        Frank Hawley   \n",
       "8397     Regular Air -159.24       65.99           8.99        Frank Hawley   \n",
       "8398     Express Air  580.43      105.98          13.99     Grant Donatelli   \n",
       "\n",
       "     Province   Region Customer Segment Product Category  \\\n",
       "0     Nunavut  Nunavut   Small Business  Office Supplies   \n",
       "1     Nunavut  Nunavut         Consumer  Office Supplies   \n",
       "2     Nunavut  Nunavut         Consumer  Office Supplies   \n",
       "3     Nunavut  Nunavut        Corporate       Technology   \n",
       "4     Nunavut  Nunavut         Consumer  Office Supplies   \n",
       "...       ...      ...              ...              ...   \n",
       "8394  Alberta     West         Consumer        Furniture   \n",
       "8395  Alberta     West         Consumer  Office Supplies   \n",
       "8396  Alberta     West      Home Office        Furniture   \n",
       "8397  Alberta     West      Home Office       Technology   \n",
       "8398  Alberta     West         Consumer        Furniture   \n",
       "\n",
       "                Product Sub-Category  Product Base Margin   Ship Date  \n",
       "0             Storage & Organization                 0.80  20-10-2010  \n",
       "1                         Appliances                 0.58  02-10-2012  \n",
       "2     Binders and Binder Accessories                 0.39  03-10-2012  \n",
       "3       Telephones and Communication                 0.58  12-07-2011  \n",
       "4                         Appliances                 0.50  30-08-2010  \n",
       "...                              ...                  ...         ...  \n",
       "8394                       Bookcases                 0.65  09-08-2010  \n",
       "8395                       Envelopes                 0.38  11-08-2010  \n",
       "8396              Office Furnishings                 0.41  10-04-2011  \n",
       "8397    Telephones and Communication                 0.56  09-04-2011  \n",
       "8398              Office Furnishings                 0.65  11-02-2009  \n",
       "\n",
       "[8399 rows x 18 columns]"
      ]
     },
     "execution_count": 4,
     "metadata": {},
     "output_type": "execute_result"
    }
   ],
   "source": [
    "df"
   ]
  },
  {
   "cell_type": "code",
   "execution_count": 5,
   "id": "5b799d0e",
   "metadata": {
    "execution": {
     "iopub.execute_input": "2025-03-05T16:05:17.260333Z",
     "iopub.status.busy": "2025-03-05T16:05:17.259945Z",
     "iopub.status.idle": "2025-03-05T16:05:17.265167Z",
     "shell.execute_reply": "2025-03-05T16:05:17.264238Z"
    },
    "papermill": {
     "duration": 0.023926,
     "end_time": "2025-03-05T16:05:17.266662",
     "exception": false,
     "start_time": "2025-03-05T16:05:17.242736",
     "status": "completed"
    },
    "tags": []
   },
   "outputs": [
    {
     "data": {
      "text/plain": [
       "(8399, 18)"
      ]
     },
     "execution_count": 5,
     "metadata": {},
     "output_type": "execute_result"
    }
   ],
   "source": [
    "df.shape"
   ]
  },
  {
   "cell_type": "code",
   "execution_count": 6,
   "id": "57a08b69",
   "metadata": {
    "execution": {
     "iopub.execute_input": "2025-03-05T16:05:17.301762Z",
     "iopub.status.busy": "2025-03-05T16:05:17.301425Z",
     "iopub.status.idle": "2025-03-05T16:05:17.324923Z",
     "shell.execute_reply": "2025-03-05T16:05:17.323765Z"
    },
    "papermill": {
     "duration": 0.042753,
     "end_time": "2025-03-05T16:05:17.326606",
     "exception": false,
     "start_time": "2025-03-05T16:05:17.283853",
     "status": "completed"
    },
    "tags": []
   },
   "outputs": [
    {
     "name": "stdout",
     "output_type": "stream",
     "text": [
      "<class 'pandas.core.frame.DataFrame'>\n",
      "RangeIndex: 8399 entries, 0 to 8398\n",
      "Data columns (total 18 columns):\n",
      " #   Column                Non-Null Count  Dtype  \n",
      "---  ------                --------------  -----  \n",
      " 0   Order ID              8399 non-null   int64  \n",
      " 1   Order Date            8399 non-null   object \n",
      " 2   Order Priority        8399 non-null   object \n",
      " 3   Order Quantity        8399 non-null   int64  \n",
      " 4   Sales                 8399 non-null   float64\n",
      " 5   Discount              8399 non-null   float64\n",
      " 6   Ship Mode             8399 non-null   object \n",
      " 7   Profit                8399 non-null   float64\n",
      " 8   Unit Price            8399 non-null   float64\n",
      " 9   Shipping Cost         8399 non-null   float64\n",
      " 10  Customer Name         8399 non-null   object \n",
      " 11  Province              8399 non-null   object \n",
      " 12  Region                8399 non-null   object \n",
      " 13  Customer Segment      8399 non-null   object \n",
      " 14  Product Category      8399 non-null   object \n",
      " 15  Product Sub-Category  8399 non-null   object \n",
      " 16  Product Base Margin   8336 non-null   float64\n",
      " 17  Ship Date             8399 non-null   object \n",
      "dtypes: float64(6), int64(2), object(10)\n",
      "memory usage: 1.2+ MB\n"
     ]
    }
   ],
   "source": [
    "df.info()"
   ]
  },
  {
   "cell_type": "code",
   "execution_count": 7,
   "id": "05341f76",
   "metadata": {
    "execution": {
     "iopub.execute_input": "2025-03-05T16:05:17.360466Z",
     "iopub.status.busy": "2025-03-05T16:05:17.360059Z",
     "iopub.status.idle": "2025-03-05T16:05:17.390033Z",
     "shell.execute_reply": "2025-03-05T16:05:17.388515Z"
    },
    "papermill": {
     "duration": 0.049238,
     "end_time": "2025-03-05T16:05:17.391869",
     "exception": false,
     "start_time": "2025-03-05T16:05:17.342631",
     "status": "completed"
    },
    "tags": []
   },
   "outputs": [
    {
     "data": {
      "text/html": [
       "<div>\n",
       "<style scoped>\n",
       "    .dataframe tbody tr th:only-of-type {\n",
       "        vertical-align: middle;\n",
       "    }\n",
       "\n",
       "    .dataframe tbody tr th {\n",
       "        vertical-align: top;\n",
       "    }\n",
       "\n",
       "    .dataframe thead th {\n",
       "        text-align: right;\n",
       "    }\n",
       "</style>\n",
       "<table border=\"1\" class=\"dataframe\">\n",
       "  <thead>\n",
       "    <tr style=\"text-align: right;\">\n",
       "      <th></th>\n",
       "      <th>Order ID</th>\n",
       "      <th>Order Quantity</th>\n",
       "      <th>Sales</th>\n",
       "      <th>Discount</th>\n",
       "      <th>Profit</th>\n",
       "      <th>Unit Price</th>\n",
       "      <th>Shipping Cost</th>\n",
       "      <th>Product Base Margin</th>\n",
       "    </tr>\n",
       "  </thead>\n",
       "  <tbody>\n",
       "    <tr>\n",
       "      <th>count</th>\n",
       "      <td>8399.00</td>\n",
       "      <td>8399.00</td>\n",
       "      <td>8399.00</td>\n",
       "      <td>8399.00</td>\n",
       "      <td>8399.00</td>\n",
       "      <td>8399.00</td>\n",
       "      <td>8399.00</td>\n",
       "      <td>8336.00</td>\n",
       "    </tr>\n",
       "    <tr>\n",
       "      <th>mean</th>\n",
       "      <td>29965.18</td>\n",
       "      <td>25.57</td>\n",
       "      <td>1775.88</td>\n",
       "      <td>0.05</td>\n",
       "      <td>181.18</td>\n",
       "      <td>89.35</td>\n",
       "      <td>12.84</td>\n",
       "      <td>0.51</td>\n",
       "    </tr>\n",
       "    <tr>\n",
       "      <th>std</th>\n",
       "      <td>17260.88</td>\n",
       "      <td>14.48</td>\n",
       "      <td>3585.05</td>\n",
       "      <td>0.03</td>\n",
       "      <td>1196.65</td>\n",
       "      <td>290.35</td>\n",
       "      <td>17.26</td>\n",
       "      <td>0.14</td>\n",
       "    </tr>\n",
       "    <tr>\n",
       "      <th>min</th>\n",
       "      <td>3.00</td>\n",
       "      <td>1.00</td>\n",
       "      <td>2.24</td>\n",
       "      <td>0.00</td>\n",
       "      <td>-14140.70</td>\n",
       "      <td>0.99</td>\n",
       "      <td>0.49</td>\n",
       "      <td>0.35</td>\n",
       "    </tr>\n",
       "    <tr>\n",
       "      <th>25%</th>\n",
       "      <td>15011.50</td>\n",
       "      <td>13.00</td>\n",
       "      <td>143.19</td>\n",
       "      <td>0.02</td>\n",
       "      <td>-83.31</td>\n",
       "      <td>6.48</td>\n",
       "      <td>3.30</td>\n",
       "      <td>0.38</td>\n",
       "    </tr>\n",
       "    <tr>\n",
       "      <th>50%</th>\n",
       "      <td>29857.00</td>\n",
       "      <td>26.00</td>\n",
       "      <td>449.42</td>\n",
       "      <td>0.05</td>\n",
       "      <td>-1.50</td>\n",
       "      <td>20.99</td>\n",
       "      <td>6.07</td>\n",
       "      <td>0.52</td>\n",
       "    </tr>\n",
       "    <tr>\n",
       "      <th>75%</th>\n",
       "      <td>44596.00</td>\n",
       "      <td>38.00</td>\n",
       "      <td>1709.32</td>\n",
       "      <td>0.08</td>\n",
       "      <td>162.75</td>\n",
       "      <td>85.99</td>\n",
       "      <td>13.99</td>\n",
       "      <td>0.59</td>\n",
       "    </tr>\n",
       "    <tr>\n",
       "      <th>max</th>\n",
       "      <td>59973.00</td>\n",
       "      <td>50.00</td>\n",
       "      <td>89061.05</td>\n",
       "      <td>0.25</td>\n",
       "      <td>27220.69</td>\n",
       "      <td>6783.02</td>\n",
       "      <td>164.73</td>\n",
       "      <td>0.85</td>\n",
       "    </tr>\n",
       "  </tbody>\n",
       "</table>\n",
       "</div>"
      ],
      "text/plain": [
       "       Order ID  Order Quantity    Sales  Discount    Profit  Unit Price  \\\n",
       "count   8399.00         8399.00  8399.00   8399.00   8399.00     8399.00   \n",
       "mean   29965.18           25.57  1775.88      0.05    181.18       89.35   \n",
       "std    17260.88           14.48  3585.05      0.03   1196.65      290.35   \n",
       "min        3.00            1.00     2.24      0.00 -14140.70        0.99   \n",
       "25%    15011.50           13.00   143.19      0.02    -83.31        6.48   \n",
       "50%    29857.00           26.00   449.42      0.05     -1.50       20.99   \n",
       "75%    44596.00           38.00  1709.32      0.08    162.75       85.99   \n",
       "max    59973.00           50.00 89061.05      0.25  27220.69     6783.02   \n",
       "\n",
       "       Shipping Cost  Product Base Margin  \n",
       "count        8399.00              8336.00  \n",
       "mean           12.84                 0.51  \n",
       "std            17.26                 0.14  \n",
       "min             0.49                 0.35  \n",
       "25%             3.30                 0.38  \n",
       "50%             6.07                 0.52  \n",
       "75%            13.99                 0.59  \n",
       "max           164.73                 0.85  "
      ]
     },
     "execution_count": 7,
     "metadata": {},
     "output_type": "execute_result"
    }
   ],
   "source": [
    "df.describe()"
   ]
  },
  {
   "cell_type": "code",
   "execution_count": 8,
   "id": "3f1233b0",
   "metadata": {
    "execution": {
     "iopub.execute_input": "2025-03-05T16:05:17.426740Z",
     "iopub.status.busy": "2025-03-05T16:05:17.426394Z",
     "iopub.status.idle": "2025-03-05T16:05:17.438298Z",
     "shell.execute_reply": "2025-03-05T16:05:17.437403Z"
    },
    "papermill": {
     "duration": 0.031086,
     "end_time": "2025-03-05T16:05:17.439752",
     "exception": false,
     "start_time": "2025-03-05T16:05:17.408666",
     "status": "completed"
    },
    "tags": []
   },
   "outputs": [
    {
     "data": {
      "text/plain": [
       "Order ID                 0\n",
       "Order Date               0\n",
       "Order Priority           0\n",
       "Order Quantity           0\n",
       "Sales                    0\n",
       "Discount                 0\n",
       "Ship Mode                0\n",
       "Profit                   0\n",
       "Unit Price               0\n",
       "Shipping Cost            0\n",
       "Customer Name            0\n",
       "Province                 0\n",
       "Region                   0\n",
       "Customer Segment         0\n",
       "Product Category         0\n",
       "Product Sub-Category     0\n",
       "Product Base Margin     63\n",
       "Ship Date                0\n",
       "dtype: int64"
      ]
     },
     "execution_count": 8,
     "metadata": {},
     "output_type": "execute_result"
    }
   ],
   "source": [
    "df.isnull().sum()"
   ]
  },
  {
   "cell_type": "code",
   "execution_count": 9,
   "id": "98fb35ab",
   "metadata": {
    "execution": {
     "iopub.execute_input": "2025-03-05T16:05:17.474478Z",
     "iopub.status.busy": "2025-03-05T16:05:17.474093Z",
     "iopub.status.idle": "2025-03-05T16:05:17.480030Z",
     "shell.execute_reply": "2025-03-05T16:05:17.479243Z"
    },
    "papermill": {
     "duration": 0.024896,
     "end_time": "2025-03-05T16:05:17.481449",
     "exception": false,
     "start_time": "2025-03-05T16:05:17.456553",
     "status": "completed"
    },
    "tags": []
   },
   "outputs": [
    {
     "data": {
      "text/plain": [
       "63"
      ]
     },
     "execution_count": 9,
     "metadata": {},
     "output_type": "execute_result"
    }
   ],
   "source": [
    "df['Product Base Margin'].isna().sum()"
   ]
  },
  {
   "cell_type": "code",
   "execution_count": 10,
   "id": "0ae4d7fa",
   "metadata": {
    "execution": {
     "iopub.execute_input": "2025-03-05T16:05:17.517720Z",
     "iopub.status.busy": "2025-03-05T16:05:17.517360Z",
     "iopub.status.idle": "2025-03-05T16:05:17.523662Z",
     "shell.execute_reply": "2025-03-05T16:05:17.522715Z"
    },
    "papermill": {
     "duration": 0.025475,
     "end_time": "2025-03-05T16:05:17.525316",
     "exception": false,
     "start_time": "2025-03-05T16:05:17.499841",
     "status": "completed"
    },
    "tags": []
   },
   "outputs": [
    {
     "data": {
      "text/plain": [
       "0    0.80\n",
       "1    0.58\n",
       "2    0.39\n",
       "3    0.58\n",
       "4    0.50\n",
       "5    0.37\n",
       "6    0.38\n",
       "7     NaN\n",
       "8     NaN\n",
       "9    0.38\n",
       "10   0.40\n",
       "11   0.53\n",
       "12   0.50\n",
       "13   0.71\n",
       "14   0.37\n",
       "15   0.53\n",
       "16   0.40\n",
       "17   0.60\n",
       "18   0.68\n",
       "19   0.59\n",
       "Name: Product Base Margin, dtype: float64"
      ]
     },
     "execution_count": 10,
     "metadata": {},
     "output_type": "execute_result"
    }
   ],
   "source": [
    "df['Product Base Margin'].head(20)"
   ]
  },
  {
   "cell_type": "code",
   "execution_count": 11,
   "id": "1bb72504",
   "metadata": {
    "execution": {
     "iopub.execute_input": "2025-03-05T16:05:17.560923Z",
     "iopub.status.busy": "2025-03-05T16:05:17.560583Z",
     "iopub.status.idle": "2025-03-05T16:05:17.566285Z",
     "shell.execute_reply": "2025-03-05T16:05:17.565175Z"
    },
    "papermill": {
     "duration": 0.025526,
     "end_time": "2025-03-05T16:05:17.567939",
     "exception": false,
     "start_time": "2025-03-05T16:05:17.542413",
     "status": "completed"
    },
    "tags": []
   },
   "outputs": [],
   "source": [
    "df['Product Base Margin'] = df['Product Base Margin'].fillna(0)"
   ]
  },
  {
   "cell_type": "code",
   "execution_count": 12,
   "id": "a32e8633",
   "metadata": {
    "execution": {
     "iopub.execute_input": "2025-03-05T16:05:17.603454Z",
     "iopub.status.busy": "2025-03-05T16:05:17.603054Z",
     "iopub.status.idle": "2025-03-05T16:05:17.609602Z",
     "shell.execute_reply": "2025-03-05T16:05:17.608497Z"
    },
    "papermill": {
     "duration": 0.025792,
     "end_time": "2025-03-05T16:05:17.611017",
     "exception": false,
     "start_time": "2025-03-05T16:05:17.585225",
     "status": "completed"
    },
    "tags": []
   },
   "outputs": [
    {
     "data": {
      "text/plain": [
       "0   0.80\n",
       "1   0.58\n",
       "2   0.39\n",
       "3   0.58\n",
       "4   0.50\n",
       "5   0.37\n",
       "6   0.38\n",
       "7   0.00\n",
       "8   0.00\n",
       "9   0.38\n",
       "Name: Product Base Margin, dtype: float64"
      ]
     },
     "execution_count": 12,
     "metadata": {},
     "output_type": "execute_result"
    }
   ],
   "source": [
    "df['Product Base Margin'].head(10)"
   ]
  },
  {
   "cell_type": "code",
   "execution_count": 13,
   "id": "f116ab6b",
   "metadata": {
    "execution": {
     "iopub.execute_input": "2025-03-05T16:05:17.646484Z",
     "iopub.status.busy": "2025-03-05T16:05:17.646098Z",
     "iopub.status.idle": "2025-03-05T16:05:17.671657Z",
     "shell.execute_reply": "2025-03-05T16:05:17.670704Z"
    },
    "papermill": {
     "duration": 0.045191,
     "end_time": "2025-03-05T16:05:17.673429",
     "exception": false,
     "start_time": "2025-03-05T16:05:17.628238",
     "status": "completed"
    },
    "tags": []
   },
   "outputs": [
    {
     "data": {
      "text/html": [
       "<div>\n",
       "<style scoped>\n",
       "    .dataframe tbody tr th:only-of-type {\n",
       "        vertical-align: middle;\n",
       "    }\n",
       "\n",
       "    .dataframe tbody tr th {\n",
       "        vertical-align: top;\n",
       "    }\n",
       "\n",
       "    .dataframe thead th {\n",
       "        text-align: right;\n",
       "    }\n",
       "</style>\n",
       "<table border=\"1\" class=\"dataframe\">\n",
       "  <thead>\n",
       "    <tr style=\"text-align: right;\">\n",
       "      <th></th>\n",
       "      <th>Order ID</th>\n",
       "      <th>Order Quantity</th>\n",
       "      <th>Sales</th>\n",
       "      <th>Discount</th>\n",
       "      <th>Profit</th>\n",
       "      <th>Unit Price</th>\n",
       "      <th>Shipping Cost</th>\n",
       "      <th>Product Base Margin</th>\n",
       "    </tr>\n",
       "  </thead>\n",
       "  <tbody>\n",
       "    <tr>\n",
       "      <th>count</th>\n",
       "      <td>8399.00</td>\n",
       "      <td>8399.00</td>\n",
       "      <td>8399.00</td>\n",
       "      <td>8399.00</td>\n",
       "      <td>8399.00</td>\n",
       "      <td>8399.00</td>\n",
       "      <td>8399.00</td>\n",
       "      <td>8399.00</td>\n",
       "    </tr>\n",
       "    <tr>\n",
       "      <th>mean</th>\n",
       "      <td>29965.18</td>\n",
       "      <td>25.57</td>\n",
       "      <td>1775.88</td>\n",
       "      <td>0.05</td>\n",
       "      <td>181.18</td>\n",
       "      <td>89.35</td>\n",
       "      <td>12.84</td>\n",
       "      <td>0.51</td>\n",
       "    </tr>\n",
       "    <tr>\n",
       "      <th>std</th>\n",
       "      <td>17260.88</td>\n",
       "      <td>14.48</td>\n",
       "      <td>3585.05</td>\n",
       "      <td>0.03</td>\n",
       "      <td>1196.65</td>\n",
       "      <td>290.35</td>\n",
       "      <td>17.26</td>\n",
       "      <td>0.14</td>\n",
       "    </tr>\n",
       "    <tr>\n",
       "      <th>min</th>\n",
       "      <td>3.00</td>\n",
       "      <td>1.00</td>\n",
       "      <td>2.24</td>\n",
       "      <td>0.00</td>\n",
       "      <td>-14140.70</td>\n",
       "      <td>0.99</td>\n",
       "      <td>0.49</td>\n",
       "      <td>0.00</td>\n",
       "    </tr>\n",
       "    <tr>\n",
       "      <th>25%</th>\n",
       "      <td>15011.50</td>\n",
       "      <td>13.00</td>\n",
       "      <td>143.19</td>\n",
       "      <td>0.02</td>\n",
       "      <td>-83.31</td>\n",
       "      <td>6.48</td>\n",
       "      <td>3.30</td>\n",
       "      <td>0.38</td>\n",
       "    </tr>\n",
       "    <tr>\n",
       "      <th>50%</th>\n",
       "      <td>29857.00</td>\n",
       "      <td>26.00</td>\n",
       "      <td>449.42</td>\n",
       "      <td>0.05</td>\n",
       "      <td>-1.50</td>\n",
       "      <td>20.99</td>\n",
       "      <td>6.07</td>\n",
       "      <td>0.52</td>\n",
       "    </tr>\n",
       "    <tr>\n",
       "      <th>75%</th>\n",
       "      <td>44596.00</td>\n",
       "      <td>38.00</td>\n",
       "      <td>1709.32</td>\n",
       "      <td>0.08</td>\n",
       "      <td>162.75</td>\n",
       "      <td>85.99</td>\n",
       "      <td>13.99</td>\n",
       "      <td>0.59</td>\n",
       "    </tr>\n",
       "    <tr>\n",
       "      <th>max</th>\n",
       "      <td>59973.00</td>\n",
       "      <td>50.00</td>\n",
       "      <td>89061.05</td>\n",
       "      <td>0.25</td>\n",
       "      <td>27220.69</td>\n",
       "      <td>6783.02</td>\n",
       "      <td>164.73</td>\n",
       "      <td>0.85</td>\n",
       "    </tr>\n",
       "  </tbody>\n",
       "</table>\n",
       "</div>"
      ],
      "text/plain": [
       "       Order ID  Order Quantity    Sales  Discount    Profit  Unit Price  \\\n",
       "count   8399.00         8399.00  8399.00   8399.00   8399.00     8399.00   \n",
       "mean   29965.18           25.57  1775.88      0.05    181.18       89.35   \n",
       "std    17260.88           14.48  3585.05      0.03   1196.65      290.35   \n",
       "min        3.00            1.00     2.24      0.00 -14140.70        0.99   \n",
       "25%    15011.50           13.00   143.19      0.02    -83.31        6.48   \n",
       "50%    29857.00           26.00   449.42      0.05     -1.50       20.99   \n",
       "75%    44596.00           38.00  1709.32      0.08    162.75       85.99   \n",
       "max    59973.00           50.00 89061.05      0.25  27220.69     6783.02   \n",
       "\n",
       "       Shipping Cost  Product Base Margin  \n",
       "count        8399.00              8399.00  \n",
       "mean           12.84                 0.51  \n",
       "std            17.26                 0.14  \n",
       "min             0.49                 0.00  \n",
       "25%             3.30                 0.38  \n",
       "50%             6.07                 0.52  \n",
       "75%            13.99                 0.59  \n",
       "max           164.73                 0.85  "
      ]
     },
     "execution_count": 13,
     "metadata": {},
     "output_type": "execute_result"
    }
   ],
   "source": [
    "df.describe()"
   ]
  },
  {
   "cell_type": "code",
   "execution_count": 14,
   "id": "f7f76f05",
   "metadata": {
    "execution": {
     "iopub.execute_input": "2025-03-05T16:05:17.761938Z",
     "iopub.status.busy": "2025-03-05T16:05:17.761608Z",
     "iopub.status.idle": "2025-03-05T16:05:17.776495Z",
     "shell.execute_reply": "2025-03-05T16:05:17.775359Z"
    },
    "papermill": {
     "duration": 0.086899,
     "end_time": "2025-03-05T16:05:17.777938",
     "exception": false,
     "start_time": "2025-03-05T16:05:17.691039",
     "status": "completed"
    },
    "tags": []
   },
   "outputs": [
    {
     "name": "stdout",
     "output_type": "stream",
     "text": [
      "<class 'pandas.core.frame.DataFrame'>\n",
      "RangeIndex: 8399 entries, 0 to 8398\n",
      "Data columns (total 18 columns):\n",
      " #   Column                Non-Null Count  Dtype  \n",
      "---  ------                --------------  -----  \n",
      " 0   Order ID              8399 non-null   int64  \n",
      " 1   Order Date            8399 non-null   object \n",
      " 2   Order Priority        8399 non-null   object \n",
      " 3   Order Quantity        8399 non-null   int64  \n",
      " 4   Sales                 8399 non-null   float64\n",
      " 5   Discount              8399 non-null   float64\n",
      " 6   Ship Mode             8399 non-null   object \n",
      " 7   Profit                8399 non-null   float64\n",
      " 8   Unit Price            8399 non-null   float64\n",
      " 9   Shipping Cost         8399 non-null   float64\n",
      " 10  Customer Name         8399 non-null   object \n",
      " 11  Province              8399 non-null   object \n",
      " 12  Region                8399 non-null   object \n",
      " 13  Customer Segment      8399 non-null   object \n",
      " 14  Product Category      8399 non-null   object \n",
      " 15  Product Sub-Category  8399 non-null   object \n",
      " 16  Product Base Margin   8399 non-null   float64\n",
      " 17  Ship Date             8399 non-null   object \n",
      "dtypes: float64(6), int64(2), object(10)\n",
      "memory usage: 1.2+ MB\n"
     ]
    }
   ],
   "source": [
    "df.info()"
   ]
  },
  {
   "cell_type": "code",
   "execution_count": 15,
   "id": "c5d710d5",
   "metadata": {
    "execution": {
     "iopub.execute_input": "2025-03-05T16:05:17.814604Z",
     "iopub.status.busy": "2025-03-05T16:05:17.814271Z",
     "iopub.status.idle": "2025-03-05T16:05:17.831463Z",
     "shell.execute_reply": "2025-03-05T16:05:17.830522Z"
    },
    "papermill": {
     "duration": 0.037387,
     "end_time": "2025-03-05T16:05:17.833088",
     "exception": false,
     "start_time": "2025-03-05T16:05:17.795701",
     "status": "completed"
    },
    "tags": []
   },
   "outputs": [
    {
     "data": {
      "text/html": [
       "<div>\n",
       "<style scoped>\n",
       "    .dataframe tbody tr th:only-of-type {\n",
       "        vertical-align: middle;\n",
       "    }\n",
       "\n",
       "    .dataframe tbody tr th {\n",
       "        vertical-align: top;\n",
       "    }\n",
       "\n",
       "    .dataframe thead th {\n",
       "        text-align: right;\n",
       "    }\n",
       "</style>\n",
       "<table border=\"1\" class=\"dataframe\">\n",
       "  <thead>\n",
       "    <tr style=\"text-align: right;\">\n",
       "      <th></th>\n",
       "      <th>Order ID</th>\n",
       "      <th>Order Date</th>\n",
       "      <th>Order Priority</th>\n",
       "      <th>Order Quantity</th>\n",
       "      <th>Sales</th>\n",
       "      <th>Discount</th>\n",
       "      <th>Ship Mode</th>\n",
       "      <th>Profit</th>\n",
       "      <th>Unit Price</th>\n",
       "      <th>Shipping Cost</th>\n",
       "      <th>Customer Name</th>\n",
       "      <th>Province</th>\n",
       "      <th>Region</th>\n",
       "      <th>Customer Segment</th>\n",
       "      <th>Product Category</th>\n",
       "      <th>Product Sub-Category</th>\n",
       "      <th>Product Base Margin</th>\n",
       "      <th>Ship Date</th>\n",
       "    </tr>\n",
       "  </thead>\n",
       "  <tbody>\n",
       "    <tr>\n",
       "      <th>0</th>\n",
       "      <td>3</td>\n",
       "      <td>13-10-2010</td>\n",
       "      <td>Low</td>\n",
       "      <td>6</td>\n",
       "      <td>261.54</td>\n",
       "      <td>0.04</td>\n",
       "      <td>Regular Air</td>\n",
       "      <td>-213.25</td>\n",
       "      <td>38.94</td>\n",
       "      <td>35.00</td>\n",
       "      <td>Muhammed MacIntyre</td>\n",
       "      <td>Nunavut</td>\n",
       "      <td>Nunavut</td>\n",
       "      <td>Small Business</td>\n",
       "      <td>Office Supplies</td>\n",
       "      <td>Storage &amp; Organization</td>\n",
       "      <td>0.80</td>\n",
       "      <td>20-10-2010</td>\n",
       "    </tr>\n",
       "    <tr>\n",
       "      <th>1</th>\n",
       "      <td>293</td>\n",
       "      <td>01-10-2012</td>\n",
       "      <td>High</td>\n",
       "      <td>49</td>\n",
       "      <td>10123.02</td>\n",
       "      <td>0.07</td>\n",
       "      <td>Delivery Truck</td>\n",
       "      <td>457.81</td>\n",
       "      <td>208.16</td>\n",
       "      <td>68.02</td>\n",
       "      <td>Barry French</td>\n",
       "      <td>Nunavut</td>\n",
       "      <td>Nunavut</td>\n",
       "      <td>Consumer</td>\n",
       "      <td>Office Supplies</td>\n",
       "      <td>Appliances</td>\n",
       "      <td>0.58</td>\n",
       "      <td>02-10-2012</td>\n",
       "    </tr>\n",
       "    <tr>\n",
       "      <th>2</th>\n",
       "      <td>293</td>\n",
       "      <td>01-10-2012</td>\n",
       "      <td>High</td>\n",
       "      <td>27</td>\n",
       "      <td>244.57</td>\n",
       "      <td>0.01</td>\n",
       "      <td>Regular Air</td>\n",
       "      <td>46.71</td>\n",
       "      <td>8.69</td>\n",
       "      <td>2.99</td>\n",
       "      <td>Barry French</td>\n",
       "      <td>Nunavut</td>\n",
       "      <td>Nunavut</td>\n",
       "      <td>Consumer</td>\n",
       "      <td>Office Supplies</td>\n",
       "      <td>Binders and Binder Accessories</td>\n",
       "      <td>0.39</td>\n",
       "      <td>03-10-2012</td>\n",
       "    </tr>\n",
       "    <tr>\n",
       "      <th>3</th>\n",
       "      <td>483</td>\n",
       "      <td>10-07-2011</td>\n",
       "      <td>High</td>\n",
       "      <td>30</td>\n",
       "      <td>4965.76</td>\n",
       "      <td>0.08</td>\n",
       "      <td>Regular Air</td>\n",
       "      <td>1198.97</td>\n",
       "      <td>195.99</td>\n",
       "      <td>3.99</td>\n",
       "      <td>Clay Rozendal</td>\n",
       "      <td>Nunavut</td>\n",
       "      <td>Nunavut</td>\n",
       "      <td>Corporate</td>\n",
       "      <td>Technology</td>\n",
       "      <td>Telephones and Communication</td>\n",
       "      <td>0.58</td>\n",
       "      <td>12-07-2011</td>\n",
       "    </tr>\n",
       "    <tr>\n",
       "      <th>4</th>\n",
       "      <td>515</td>\n",
       "      <td>28-08-2010</td>\n",
       "      <td>Not Specified</td>\n",
       "      <td>19</td>\n",
       "      <td>394.27</td>\n",
       "      <td>0.08</td>\n",
       "      <td>Regular Air</td>\n",
       "      <td>30.94</td>\n",
       "      <td>21.78</td>\n",
       "      <td>5.94</td>\n",
       "      <td>Carlos Soltero</td>\n",
       "      <td>Nunavut</td>\n",
       "      <td>Nunavut</td>\n",
       "      <td>Consumer</td>\n",
       "      <td>Office Supplies</td>\n",
       "      <td>Appliances</td>\n",
       "      <td>0.50</td>\n",
       "      <td>30-08-2010</td>\n",
       "    </tr>\n",
       "    <tr>\n",
       "      <th>...</th>\n",
       "      <td>...</td>\n",
       "      <td>...</td>\n",
       "      <td>...</td>\n",
       "      <td>...</td>\n",
       "      <td>...</td>\n",
       "      <td>...</td>\n",
       "      <td>...</td>\n",
       "      <td>...</td>\n",
       "      <td>...</td>\n",
       "      <td>...</td>\n",
       "      <td>...</td>\n",
       "      <td>...</td>\n",
       "      <td>...</td>\n",
       "      <td>...</td>\n",
       "      <td>...</td>\n",
       "      <td>...</td>\n",
       "      <td>...</td>\n",
       "      <td>...</td>\n",
       "    </tr>\n",
       "    <tr>\n",
       "      <th>8394</th>\n",
       "      <td>55558</td>\n",
       "      <td>09-08-2010</td>\n",
       "      <td>Medium</td>\n",
       "      <td>8</td>\n",
       "      <td>1294.04</td>\n",
       "      <td>0.05</td>\n",
       "      <td>Delivery Truck</td>\n",
       "      <td>-323.18</td>\n",
       "      <td>150.98</td>\n",
       "      <td>66.27</td>\n",
       "      <td>Mick Brown</td>\n",
       "      <td>Alberta</td>\n",
       "      <td>West</td>\n",
       "      <td>Consumer</td>\n",
       "      <td>Furniture</td>\n",
       "      <td>Bookcases</td>\n",
       "      <td>0.65</td>\n",
       "      <td>09-08-2010</td>\n",
       "    </tr>\n",
       "    <tr>\n",
       "      <th>8395</th>\n",
       "      <td>55558</td>\n",
       "      <td>09-08-2010</td>\n",
       "      <td>Medium</td>\n",
       "      <td>23</td>\n",
       "      <td>392.57</td>\n",
       "      <td>0.04</td>\n",
       "      <td>Regular Air</td>\n",
       "      <td>22.25</td>\n",
       "      <td>17.07</td>\n",
       "      <td>8.13</td>\n",
       "      <td>Mick Brown</td>\n",
       "      <td>Alberta</td>\n",
       "      <td>West</td>\n",
       "      <td>Consumer</td>\n",
       "      <td>Office Supplies</td>\n",
       "      <td>Envelopes</td>\n",
       "      <td>0.38</td>\n",
       "      <td>11-08-2010</td>\n",
       "    </tr>\n",
       "    <tr>\n",
       "      <th>8396</th>\n",
       "      <td>56550</td>\n",
       "      <td>08-04-2011</td>\n",
       "      <td>Not Specified</td>\n",
       "      <td>37</td>\n",
       "      <td>823.78</td>\n",
       "      <td>0.03</td>\n",
       "      <td>Express Air</td>\n",
       "      <td>343.05</td>\n",
       "      <td>22.23</td>\n",
       "      <td>5.08</td>\n",
       "      <td>Frank Hawley</td>\n",
       "      <td>Alberta</td>\n",
       "      <td>West</td>\n",
       "      <td>Home Office</td>\n",
       "      <td>Furniture</td>\n",
       "      <td>Office Furnishings</td>\n",
       "      <td>0.41</td>\n",
       "      <td>10-04-2011</td>\n",
       "    </tr>\n",
       "    <tr>\n",
       "      <th>8397</th>\n",
       "      <td>56550</td>\n",
       "      <td>08-04-2011</td>\n",
       "      <td>Not Specified</td>\n",
       "      <td>8</td>\n",
       "      <td>469.84</td>\n",
       "      <td>0.00</td>\n",
       "      <td>Regular Air</td>\n",
       "      <td>-159.24</td>\n",
       "      <td>65.99</td>\n",
       "      <td>8.99</td>\n",
       "      <td>Frank Hawley</td>\n",
       "      <td>Alberta</td>\n",
       "      <td>West</td>\n",
       "      <td>Home Office</td>\n",
       "      <td>Technology</td>\n",
       "      <td>Telephones and Communication</td>\n",
       "      <td>0.56</td>\n",
       "      <td>09-04-2011</td>\n",
       "    </tr>\n",
       "    <tr>\n",
       "      <th>8398</th>\n",
       "      <td>56581</td>\n",
       "      <td>08-02-2009</td>\n",
       "      <td>High</td>\n",
       "      <td>20</td>\n",
       "      <td>2026.01</td>\n",
       "      <td>0.10</td>\n",
       "      <td>Express Air</td>\n",
       "      <td>580.43</td>\n",
       "      <td>105.98</td>\n",
       "      <td>13.99</td>\n",
       "      <td>Grant Donatelli</td>\n",
       "      <td>Alberta</td>\n",
       "      <td>West</td>\n",
       "      <td>Consumer</td>\n",
       "      <td>Furniture</td>\n",
       "      <td>Office Furnishings</td>\n",
       "      <td>0.65</td>\n",
       "      <td>11-02-2009</td>\n",
       "    </tr>\n",
       "  </tbody>\n",
       "</table>\n",
       "<p>8399 rows × 18 columns</p>\n",
       "</div>"
      ],
      "text/plain": [
       "      Order ID  Order Date Order Priority  Order Quantity    Sales  Discount  \\\n",
       "0            3  13-10-2010            Low               6   261.54      0.04   \n",
       "1          293  01-10-2012           High              49 10123.02      0.07   \n",
       "2          293  01-10-2012           High              27   244.57      0.01   \n",
       "3          483  10-07-2011           High              30  4965.76      0.08   \n",
       "4          515  28-08-2010  Not Specified              19   394.27      0.08   \n",
       "...        ...         ...            ...             ...      ...       ...   \n",
       "8394     55558  09-08-2010         Medium               8  1294.04      0.05   \n",
       "8395     55558  09-08-2010         Medium              23   392.57      0.04   \n",
       "8396     56550  08-04-2011  Not Specified              37   823.78      0.03   \n",
       "8397     56550  08-04-2011  Not Specified               8   469.84      0.00   \n",
       "8398     56581  08-02-2009           High              20  2026.01      0.10   \n",
       "\n",
       "           Ship Mode  Profit  Unit Price  Shipping Cost       Customer Name  \\\n",
       "0        Regular Air -213.25       38.94          35.00  Muhammed MacIntyre   \n",
       "1     Delivery Truck  457.81      208.16          68.02        Barry French   \n",
       "2        Regular Air   46.71        8.69           2.99        Barry French   \n",
       "3        Regular Air 1198.97      195.99           3.99       Clay Rozendal   \n",
       "4        Regular Air   30.94       21.78           5.94      Carlos Soltero   \n",
       "...              ...     ...         ...            ...                 ...   \n",
       "8394  Delivery Truck -323.18      150.98          66.27          Mick Brown   \n",
       "8395     Regular Air   22.25       17.07           8.13          Mick Brown   \n",
       "8396     Express Air  343.05       22.23           5.08        Frank Hawley   \n",
       "8397     Regular Air -159.24       65.99           8.99        Frank Hawley   \n",
       "8398     Express Air  580.43      105.98          13.99     Grant Donatelli   \n",
       "\n",
       "     Province   Region Customer Segment Product Category  \\\n",
       "0     Nunavut  Nunavut   Small Business  Office Supplies   \n",
       "1     Nunavut  Nunavut         Consumer  Office Supplies   \n",
       "2     Nunavut  Nunavut         Consumer  Office Supplies   \n",
       "3     Nunavut  Nunavut        Corporate       Technology   \n",
       "4     Nunavut  Nunavut         Consumer  Office Supplies   \n",
       "...       ...      ...              ...              ...   \n",
       "8394  Alberta     West         Consumer        Furniture   \n",
       "8395  Alberta     West         Consumer  Office Supplies   \n",
       "8396  Alberta     West      Home Office        Furniture   \n",
       "8397  Alberta     West      Home Office       Technology   \n",
       "8398  Alberta     West         Consumer        Furniture   \n",
       "\n",
       "                Product Sub-Category  Product Base Margin   Ship Date  \n",
       "0             Storage & Organization                 0.80  20-10-2010  \n",
       "1                         Appliances                 0.58  02-10-2012  \n",
       "2     Binders and Binder Accessories                 0.39  03-10-2012  \n",
       "3       Telephones and Communication                 0.58  12-07-2011  \n",
       "4                         Appliances                 0.50  30-08-2010  \n",
       "...                              ...                  ...         ...  \n",
       "8394                       Bookcases                 0.65  09-08-2010  \n",
       "8395                       Envelopes                 0.38  11-08-2010  \n",
       "8396              Office Furnishings                 0.41  10-04-2011  \n",
       "8397    Telephones and Communication                 0.56  09-04-2011  \n",
       "8398              Office Furnishings                 0.65  11-02-2009  \n",
       "\n",
       "[8399 rows x 18 columns]"
      ]
     },
     "execution_count": 15,
     "metadata": {},
     "output_type": "execute_result"
    }
   ],
   "source": [
    "df"
   ]
  },
  {
   "cell_type": "markdown",
   "id": "c036ac18",
   "metadata": {
    "papermill": {
     "duration": 0.01731,
     "end_time": "2025-03-05T16:05:17.868928",
     "exception": false,
     "start_time": "2025-03-05T16:05:17.851618",
     "status": "completed"
    },
    "tags": []
   },
   "source": [
    " **Sales and Profit Analysis**\n",
    "1. What is the total sales, profit, and shipping cost across the dataset?\n"
   ]
  },
  {
   "cell_type": "code",
   "execution_count": 16,
   "id": "5843fa50",
   "metadata": {
    "execution": {
     "iopub.execute_input": "2025-03-05T16:05:17.905255Z",
     "iopub.status.busy": "2025-03-05T16:05:17.904824Z",
     "iopub.status.idle": "2025-03-05T16:05:17.911255Z",
     "shell.execute_reply": "2025-03-05T16:05:17.910330Z"
    },
    "papermill": {
     "duration": 0.026433,
     "end_time": "2025-03-05T16:05:17.912835",
     "exception": false,
     "start_time": "2025-03-05T16:05:17.886402",
     "status": "completed"
    },
    "tags": []
   },
   "outputs": [],
   "source": [
    "Total_sales, Total_Profit, Total_shipping_cost = df[['Sales', 'Profit', 'Shipping Cost']].sum()"
   ]
  },
  {
   "cell_type": "code",
   "execution_count": 17,
   "id": "3fe23c02",
   "metadata": {
    "execution": {
     "iopub.execute_input": "2025-03-05T16:05:17.950512Z",
     "iopub.status.busy": "2025-03-05T16:05:17.950125Z",
     "iopub.status.idle": "2025-03-05T16:05:17.956255Z",
     "shell.execute_reply": "2025-03-05T16:05:17.955151Z"
    },
    "papermill": {
     "duration": 0.02642,
     "end_time": "2025-03-05T16:05:17.957772",
     "exception": false,
     "start_time": "2025-03-05T16:05:17.931352",
     "status": "completed"
    },
    "tags": []
   },
   "outputs": [
    {
     "name": "stdout",
     "output_type": "stream",
     "text": [
      "Total sales: 14915600.82\n",
      "Total profit: 1521767.98\n",
      "Total Shipping cost: 107831.04\n"
     ]
    }
   ],
   "source": [
    "print(\"Total sales:\", round(Total_sales,2))\n",
    "print(\"Total profit:\", round(Total_Profit,2))\n",
    "print(\"Total Shipping cost:\", round(Total_shipping_cost,2))"
   ]
  },
  {
   "cell_type": "markdown",
   "id": "828f6687",
   "metadata": {
    "papermill": {
     "duration": 0.017557,
     "end_time": "2025-03-05T16:05:17.993914",
     "exception": false,
     "start_time": "2025-03-05T16:05:17.976357",
     "status": "completed"
    },
    "tags": []
   },
   "source": [
    "2. Which provinces contribute the most and least to overall sales?"
   ]
  },
  {
   "cell_type": "code",
   "execution_count": 18,
   "id": "fd136ada",
   "metadata": {
    "execution": {
     "iopub.execute_input": "2025-03-05T16:05:18.031219Z",
     "iopub.status.busy": "2025-03-05T16:05:18.030820Z",
     "iopub.status.idle": "2025-03-05T16:05:18.041007Z",
     "shell.execute_reply": "2025-03-05T16:05:18.040090Z"
    },
    "papermill": {
     "duration": 0.030593,
     "end_time": "2025-03-05T16:05:18.042548",
     "exception": false,
     "start_time": "2025-03-05T16:05:18.011955",
     "status": "completed"
    },
    "tags": []
   },
   "outputs": [
    {
     "data": {
      "text/plain": [
       "Province\n",
       "Alberta                 1704791.49\n",
       "British Columbia        1892757.78\n",
       "Manitoba                1372848.78\n",
       "New Brunswick            684211.52\n",
       "Newfoundland             102924.07\n",
       "Northwest Territories    800847.33\n",
       "Nova Scotia              817729.36\n",
       "Nunavut                  116376.48\n",
       "Ontario                 3063212.48\n",
       "Prince Edward Island     409383.25\n",
       "Quebec                  1510195.08\n",
       "Saskachewan             1464455.82\n",
       "Yukon                    975867.37\n",
       "Name: Sales, dtype: float64"
      ]
     },
     "execution_count": 18,
     "metadata": {},
     "output_type": "execute_result"
    }
   ],
   "source": [
    "province = df.groupby('Province')['Sales'].sum()\n",
    "round(province,2)"
   ]
  },
  {
   "cell_type": "code",
   "execution_count": 19,
   "id": "e08ebc7f",
   "metadata": {
    "execution": {
     "iopub.execute_input": "2025-03-05T16:05:18.079708Z",
     "iopub.status.busy": "2025-03-05T16:05:18.079370Z",
     "iopub.status.idle": "2025-03-05T16:05:18.083224Z",
     "shell.execute_reply": "2025-03-05T16:05:18.082443Z"
    },
    "papermill": {
     "duration": 0.024009,
     "end_time": "2025-03-05T16:05:18.084653",
     "exception": false,
     "start_time": "2025-03-05T16:05:18.060644",
     "status": "completed"
    },
    "tags": []
   },
   "outputs": [],
   "source": [
    "most_contributed_province = province.idxmax()"
   ]
  },
  {
   "cell_type": "code",
   "execution_count": 20,
   "id": "47797457",
   "metadata": {
    "execution": {
     "iopub.execute_input": "2025-03-05T16:05:18.123586Z",
     "iopub.status.busy": "2025-03-05T16:05:18.123250Z",
     "iopub.status.idle": "2025-03-05T16:05:18.128168Z",
     "shell.execute_reply": "2025-03-05T16:05:18.127261Z"
    },
    "papermill": {
     "duration": 0.025673,
     "end_time": "2025-03-05T16:05:18.129661",
     "exception": false,
     "start_time": "2025-03-05T16:05:18.103988",
     "status": "completed"
    },
    "tags": []
   },
   "outputs": [
    {
     "data": {
      "text/plain": [
       "'Ontario'"
      ]
     },
     "execution_count": 20,
     "metadata": {},
     "output_type": "execute_result"
    }
   ],
   "source": [
    "most_contributed_province"
   ]
  },
  {
   "cell_type": "code",
   "execution_count": 21,
   "id": "feee1f3f",
   "metadata": {
    "execution": {
     "iopub.execute_input": "2025-03-05T16:05:18.166930Z",
     "iopub.status.busy": "2025-03-05T16:05:18.166567Z",
     "iopub.status.idle": "2025-03-05T16:05:18.170863Z",
     "shell.execute_reply": "2025-03-05T16:05:18.169893Z"
    },
    "papermill": {
     "duration": 0.024766,
     "end_time": "2025-03-05T16:05:18.172408",
     "exception": false,
     "start_time": "2025-03-05T16:05:18.147642",
     "status": "completed"
    },
    "tags": []
   },
   "outputs": [],
   "source": [
    "least_contributed_province = province.idxmin()"
   ]
  },
  {
   "cell_type": "code",
   "execution_count": 22,
   "id": "ac761464",
   "metadata": {
    "execution": {
     "iopub.execute_input": "2025-03-05T16:05:18.210050Z",
     "iopub.status.busy": "2025-03-05T16:05:18.209711Z",
     "iopub.status.idle": "2025-03-05T16:05:18.214975Z",
     "shell.execute_reply": "2025-03-05T16:05:18.214001Z"
    },
    "papermill": {
     "duration": 0.025929,
     "end_time": "2025-03-05T16:05:18.216591",
     "exception": false,
     "start_time": "2025-03-05T16:05:18.190662",
     "status": "completed"
    },
    "tags": []
   },
   "outputs": [
    {
     "data": {
      "text/plain": [
       "'Newfoundland'"
      ]
     },
     "execution_count": 22,
     "metadata": {},
     "output_type": "execute_result"
    }
   ],
   "source": [
    "least_contributed_province"
   ]
  },
  {
   "cell_type": "code",
   "execution_count": 23,
   "id": "7b012397",
   "metadata": {
    "execution": {
     "iopub.execute_input": "2025-03-05T16:05:18.254417Z",
     "iopub.status.busy": "2025-03-05T16:05:18.254014Z",
     "iopub.status.idle": "2025-03-05T16:05:18.259237Z",
     "shell.execute_reply": "2025-03-05T16:05:18.258169Z"
    },
    "papermill": {
     "duration": 0.025813,
     "end_time": "2025-03-05T16:05:18.260742",
     "exception": false,
     "start_time": "2025-03-05T16:05:18.234929",
     "status": "completed"
    },
    "tags": []
   },
   "outputs": [
    {
     "name": "stdout",
     "output_type": "stream",
     "text": [
      "Most_contributed Province overall to sales: Ontario\n"
     ]
    }
   ],
   "source": [
    "print(f\"Most_contributed Province overall to sales: { most_contributed_province}\")"
   ]
  },
  {
   "cell_type": "code",
   "execution_count": 24,
   "id": "c22d49ad",
   "metadata": {
    "execution": {
     "iopub.execute_input": "2025-03-05T16:05:18.298687Z",
     "iopub.status.busy": "2025-03-05T16:05:18.298328Z",
     "iopub.status.idle": "2025-03-05T16:05:18.303334Z",
     "shell.execute_reply": "2025-03-05T16:05:18.302236Z"
    },
    "papermill": {
     "duration": 0.025755,
     "end_time": "2025-03-05T16:05:18.304917",
     "exception": false,
     "start_time": "2025-03-05T16:05:18.279162",
     "status": "completed"
    },
    "tags": []
   },
   "outputs": [
    {
     "name": "stdout",
     "output_type": "stream",
     "text": [
      "Least_contributed Province overall to sales: Newfoundland\n"
     ]
    }
   ],
   "source": [
    "print(f\"Least_contributed Province overall to sales: { least_contributed_province}\")"
   ]
  },
  {
   "cell_type": "markdown",
   "id": "ec1ad5de",
   "metadata": {
    "papermill": {
     "duration": 0.01769,
     "end_time": "2025-03-05T16:05:18.340945",
     "exception": false,
     "start_time": "2025-03-05T16:05:18.323255",
     "status": "completed"
    },
    "tags": []
   },
   "source": [
    "3. What is the average profit margin (Profit/Sales) for each region?"
   ]
  },
  {
   "cell_type": "code",
   "execution_count": 25,
   "id": "acc9be71",
   "metadata": {
    "execution": {
     "iopub.execute_input": "2025-03-05T16:05:18.378525Z",
     "iopub.status.busy": "2025-03-05T16:05:18.378123Z",
     "iopub.status.idle": "2025-03-05T16:05:18.391263Z",
     "shell.execute_reply": "2025-03-05T16:05:18.390201Z"
    },
    "papermill": {
     "duration": 0.034088,
     "end_time": "2025-03-05T16:05:18.392995",
     "exception": false,
     "start_time": "2025-03-05T16:05:18.358907",
     "status": "completed"
    },
    "tags": []
   },
   "outputs": [],
   "source": [
    "df['Profit Margin'] = df['Profit'] / df['Sales']"
   ]
  },
  {
   "cell_type": "code",
   "execution_count": 26,
   "id": "6a768600",
   "metadata": {
    "execution": {
     "iopub.execute_input": "2025-03-05T16:05:18.430952Z",
     "iopub.status.busy": "2025-03-05T16:05:18.430628Z",
     "iopub.status.idle": "2025-03-05T16:05:18.437644Z",
     "shell.execute_reply": "2025-03-05T16:05:18.436749Z"
    },
    "papermill": {
     "duration": 0.02759,
     "end_time": "2025-03-05T16:05:18.439070",
     "exception": false,
     "start_time": "2025-03-05T16:05:18.411480",
     "status": "completed"
    },
    "tags": []
   },
   "outputs": [
    {
     "data": {
      "text/plain": [
       "0      -0.82\n",
       "1       0.05\n",
       "2       0.19\n",
       "3       0.24\n",
       "4       0.08\n",
       "        ... \n",
       "8394   -0.25\n",
       "8395    0.06\n",
       "8396    0.42\n",
       "8397   -0.34\n",
       "8398    0.29\n",
       "Name: Profit Margin, Length: 8399, dtype: float64"
      ]
     },
     "execution_count": 26,
     "metadata": {},
     "output_type": "execute_result"
    }
   ],
   "source": [
    "df['Profit Margin']"
   ]
  },
  {
   "cell_type": "code",
   "execution_count": 27,
   "id": "cfba1293",
   "metadata": {
    "execution": {
     "iopub.execute_input": "2025-03-05T16:05:18.484828Z",
     "iopub.status.busy": "2025-03-05T16:05:18.484325Z",
     "iopub.status.idle": "2025-03-05T16:05:18.493618Z",
     "shell.execute_reply": "2025-03-05T16:05:18.492392Z"
    },
    "papermill": {
     "duration": 0.037058,
     "end_time": "2025-03-05T16:05:18.495420",
     "exception": false,
     "start_time": "2025-03-05T16:05:18.458362",
     "status": "completed"
    },
    "tags": []
   },
   "outputs": [],
   "source": [
    "region  = df.groupby('Region')['Profit Margin'].mean()"
   ]
  },
  {
   "cell_type": "code",
   "execution_count": 28,
   "id": "bd4fa05a",
   "metadata": {
    "execution": {
     "iopub.execute_input": "2025-03-05T16:05:18.541188Z",
     "iopub.status.busy": "2025-03-05T16:05:18.540838Z",
     "iopub.status.idle": "2025-03-05T16:05:18.546812Z",
     "shell.execute_reply": "2025-03-05T16:05:18.546045Z"
    },
    "papermill": {
     "duration": 0.028343,
     "end_time": "2025-03-05T16:05:18.548256",
     "exception": false,
     "start_time": "2025-03-05T16:05:18.519913",
     "status": "completed"
    },
    "tags": []
   },
   "outputs": [
    {
     "data": {
      "text/plain": [
       "Region\n",
       "Atlantic                -0.12\n",
       "Northwest Territories   -0.12\n",
       "Nunavut                 -0.14\n",
       "Ontario                 -0.13\n",
       "Prarie                  -0.12\n",
       "Quebec                  -0.14\n",
       "West                    -0.14\n",
       "Yukon                   -0.17\n",
       "Name: Profit Margin, dtype: float64"
      ]
     },
     "execution_count": 28,
     "metadata": {},
     "output_type": "execute_result"
    }
   ],
   "source": [
    "region"
   ]
  },
  {
   "cell_type": "markdown",
   "id": "0f10fbf9",
   "metadata": {
    "papermill": {
     "duration": 0.018245,
     "end_time": "2025-03-05T16:05:18.585512",
     "exception": false,
     "start_time": "2025-03-05T16:05:18.567267",
     "status": "completed"
    },
    "tags": []
   },
   "source": [
    "4. Are there specific product categories or subcategories that consistently yield high profits?"
   ]
  },
  {
   "cell_type": "code",
   "execution_count": 29,
   "id": "fa224637",
   "metadata": {
    "execution": {
     "iopub.execute_input": "2025-03-05T16:05:18.633936Z",
     "iopub.status.busy": "2025-03-05T16:05:18.633560Z",
     "iopub.status.idle": "2025-03-05T16:05:18.641918Z",
     "shell.execute_reply": "2025-03-05T16:05:18.640079Z"
    },
    "papermill": {
     "duration": 0.040616,
     "end_time": "2025-03-05T16:05:18.644479",
     "exception": false,
     "start_time": "2025-03-05T16:05:18.603863",
     "status": "completed"
    },
    "tags": []
   },
   "outputs": [],
   "source": [
    "products = df.groupby('Product Category')['Profit'].sum().sort_values(ascending = False)"
   ]
  },
  {
   "cell_type": "code",
   "execution_count": 30,
   "id": "fa55933a",
   "metadata": {
    "execution": {
     "iopub.execute_input": "2025-03-05T16:05:18.705695Z",
     "iopub.status.busy": "2025-03-05T16:05:18.704836Z",
     "iopub.status.idle": "2025-03-05T16:05:18.712026Z",
     "shell.execute_reply": "2025-03-05T16:05:18.710865Z"
    },
    "papermill": {
     "duration": 0.0416,
     "end_time": "2025-03-05T16:05:18.714216",
     "exception": false,
     "start_time": "2025-03-05T16:05:18.672616",
     "status": "completed"
    },
    "tags": []
   },
   "outputs": [
    {
     "data": {
      "text/plain": [
       "Product Category\n",
       "Technology        886313.52\n",
       "Office Supplies   518021.43\n",
       "Furniture         117433.03\n",
       "Name: Profit, dtype: float64"
      ]
     },
     "execution_count": 30,
     "metadata": {},
     "output_type": "execute_result"
    }
   ],
   "source": [
    "products"
   ]
  },
  {
   "cell_type": "code",
   "execution_count": 31,
   "id": "3375bd49",
   "metadata": {
    "execution": {
     "iopub.execute_input": "2025-03-05T16:05:18.768637Z",
     "iopub.status.busy": "2025-03-05T16:05:18.768035Z",
     "iopub.status.idle": "2025-03-05T16:05:18.775316Z",
     "shell.execute_reply": "2025-03-05T16:05:18.774250Z"
    },
    "papermill": {
     "duration": 0.037354,
     "end_time": "2025-03-05T16:05:18.776998",
     "exception": false,
     "start_time": "2025-03-05T16:05:18.739644",
     "status": "completed"
    },
    "tags": []
   },
   "outputs": [],
   "source": [
    "products_sub_category = df.groupby('Product Sub-Category')['Profit'].sum().sort_values(ascending = False)"
   ]
  },
  {
   "cell_type": "code",
   "execution_count": 32,
   "id": "ce10ad28",
   "metadata": {
    "execution": {
     "iopub.execute_input": "2025-03-05T16:05:18.823325Z",
     "iopub.status.busy": "2025-03-05T16:05:18.822909Z",
     "iopub.status.idle": "2025-03-05T16:05:18.829787Z",
     "shell.execute_reply": "2025-03-05T16:05:18.828744Z"
    },
    "papermill": {
     "duration": 0.028574,
     "end_time": "2025-03-05T16:05:18.831311",
     "exception": false,
     "start_time": "2025-03-05T16:05:18.802737",
     "status": "completed"
    },
    "tags": []
   },
   "outputs": [
    {
     "data": {
      "text/plain": [
       "Product Sub-Category\n",
       "Telephones and Communication     316951.62\n",
       "Office Machines                  307712.93\n",
       "Binders and Binder Accessories   307413.39\n",
       "Copiers and Fax                  167361.49\n",
       "Chairs & Chairmats               149649.73\n",
       "Office Furnishings               100427.93\n",
       "Appliances                        97158.06\n",
       "Computer Peripherals              94287.48\n",
       "Envelopes                         48182.60\n",
       "Paper                             45263.20\n",
       "Labels                            13677.17\n",
       "Pens & Art Supplies                7564.78\n",
       "Storage & Organization             6664.15\n",
       "Rubber Bands                       -102.67\n",
       "Scissors, Rulers and Trimmers     -7799.25\n",
       "Bookcases                        -33582.13\n",
       "Tables                           -99062.50\n",
       "Name: Profit, dtype: float64"
      ]
     },
     "execution_count": 32,
     "metadata": {},
     "output_type": "execute_result"
    }
   ],
   "source": [
    "products_sub_category"
   ]
  },
  {
   "cell_type": "markdown",
   "id": "ca7fe1ce",
   "metadata": {
    "papermill": {
     "duration": 0.018358,
     "end_time": "2025-03-05T16:05:18.868685",
     "exception": false,
     "start_time": "2025-03-05T16:05:18.850327",
     "status": "completed"
    },
    "tags": []
   },
   "source": [
    "5. Is there any correlation between discount percentage and profit?"
   ]
  },
  {
   "cell_type": "code",
   "execution_count": 33,
   "id": "9725bf8f",
   "metadata": {
    "execution": {
     "iopub.execute_input": "2025-03-05T16:05:18.907109Z",
     "iopub.status.busy": "2025-03-05T16:05:18.906776Z",
     "iopub.status.idle": "2025-03-05T16:05:18.920423Z",
     "shell.execute_reply": "2025-03-05T16:05:18.919390Z"
    },
    "papermill": {
     "duration": 0.035038,
     "end_time": "2025-03-05T16:05:18.922214",
     "exception": false,
     "start_time": "2025-03-05T16:05:18.887176",
     "status": "completed"
    },
    "tags": []
   },
   "outputs": [],
   "source": [
    "correlation = df['Discount'].corr(df['Profit'])"
   ]
  },
  {
   "cell_type": "code",
   "execution_count": 34,
   "id": "fc6ab973",
   "metadata": {
    "execution": {
     "iopub.execute_input": "2025-03-05T16:05:18.960964Z",
     "iopub.status.busy": "2025-03-05T16:05:18.960618Z",
     "iopub.status.idle": "2025-03-05T16:05:18.965123Z",
     "shell.execute_reply": "2025-03-05T16:05:18.964080Z"
    },
    "papermill": {
     "duration": 0.025373,
     "end_time": "2025-03-05T16:05:18.966758",
     "exception": false,
     "start_time": "2025-03-05T16:05:18.941385",
     "status": "completed"
    },
    "tags": []
   },
   "outputs": [
    {
     "name": "stdout",
     "output_type": "stream",
     "text": [
      "The correlation between discount and profit: -0.037128373576373545\n"
     ]
    }
   ],
   "source": [
    "print(f\"The correlation between discount and profit: {correlation}\")"
   ]
  },
  {
   "cell_type": "code",
   "execution_count": 35,
   "id": "7975b868",
   "metadata": {
    "execution": {
     "iopub.execute_input": "2025-03-05T16:05:19.005184Z",
     "iopub.status.busy": "2025-03-05T16:05:19.004822Z",
     "iopub.status.idle": "2025-03-05T16:05:19.316478Z",
     "shell.execute_reply": "2025-03-05T16:05:19.315430Z"
    },
    "papermill": {
     "duration": 0.332692,
     "end_time": "2025-03-05T16:05:19.318046",
     "exception": false,
     "start_time": "2025-03-05T16:05:18.985354",
     "status": "completed"
    },
    "tags": []
   },
   "outputs": [
    {
     "data": {
      "text/plain": [
       "<Axes: xlabel='Discount', ylabel='Profit'>"
      ]
     },
     "execution_count": 35,
     "metadata": {},
     "output_type": "execute_result"
    },
    {
     "data": {
      "image/png": "[encoded data removed]",
      "text/plain": [
       "<Figure size 640x480 with 1 Axes>"
      ]
     },
     "metadata": {},
     "output_type": "display_data"
    }
   ],
   "source": [
    "sns.scatterplot(data = df, x='Discount', y='Profit', alpha = 0.5)"
   ]
  },
  {
   "cell_type": "markdown",
   "id": "d8a64f2e",
   "metadata": {
    "papermill": {
     "duration": 0.021331,
     "end_time": "2025-03-05T16:05:19.359782",
     "exception": false,
     "start_time": "2025-03-05T16:05:19.338451",
     "status": "completed"
    },
    "tags": []
   },
   "source": [
    "6. What is the average order quantity across all orders?\n"
   ]
  },
  {
   "cell_type": "code",
   "execution_count": 36,
   "id": "c9045b1b",
   "metadata": {
    "execution": {
     "iopub.execute_input": "2025-03-05T16:05:19.400675Z",
     "iopub.status.busy": "2025-03-05T16:05:19.400363Z",
     "iopub.status.idle": "2025-03-05T16:05:19.405679Z",
     "shell.execute_reply": "2025-03-05T16:05:19.404916Z"
    },
    "papermill": {
     "duration": 0.026817,
     "end_time": "2025-03-05T16:05:19.407111",
     "exception": false,
     "start_time": "2025-03-05T16:05:19.380294",
     "status": "completed"
    },
    "tags": []
   },
   "outputs": [],
   "source": [
    "order_quantity  = df.groupby('Product Category')['Order Quantity'].mean()"
   ]
  },
  {
   "cell_type": "code",
   "execution_count": 37,
   "id": "ebb42234",
   "metadata": {
    "execution": {
     "iopub.execute_input": "2025-03-05T16:05:19.445581Z",
     "iopub.status.busy": "2025-03-05T16:05:19.445232Z",
     "iopub.status.idle": "2025-03-05T16:05:19.451524Z",
     "shell.execute_reply": "2025-03-05T16:05:19.450584Z"
    },
    "papermill": {
     "duration": 0.027225,
     "end_time": "2025-03-05T16:05:19.452988",
     "exception": false,
     "start_time": "2025-03-05T16:05:19.425763",
     "status": "completed"
    },
    "tags": []
   },
   "outputs": [
    {
     "data": {
      "text/plain": [
       "Product Category\n",
       "Furniture         25.71\n",
       "Office Supplies   25.66\n",
       "Technology        25.27\n",
       "Name: Order Quantity, dtype: float64"
      ]
     },
     "execution_count": 37,
     "metadata": {},
     "output_type": "execute_result"
    }
   ],
   "source": [
    "order_quantity"
   ]
  },
  {
   "cell_type": "code",
   "execution_count": 38,
   "id": "8e888d6a",
   "metadata": {
    "execution": {
     "iopub.execute_input": "2025-03-05T16:05:19.495541Z",
     "iopub.status.busy": "2025-03-05T16:05:19.495200Z",
     "iopub.status.idle": "2025-03-05T16:05:19.500741Z",
     "shell.execute_reply": "2025-03-05T16:05:19.499940Z"
    },
    "papermill": {
     "duration": 0.028835,
     "end_time": "2025-03-05T16:05:19.502089",
     "exception": false,
     "start_time": "2025-03-05T16:05:19.473254",
     "status": "completed"
    },
    "tags": []
   },
   "outputs": [],
   "source": [
    "order_sub_quantity  = df.groupby('Product Sub-Category')['Order Quantity'].mean()"
   ]
  },
  {
   "cell_type": "code",
   "execution_count": 39,
   "id": "ff1a0834",
   "metadata": {
    "execution": {
     "iopub.execute_input": "2025-03-05T16:05:19.542878Z",
     "iopub.status.busy": "2025-03-05T16:05:19.542547Z",
     "iopub.status.idle": "2025-03-05T16:05:19.548891Z",
     "shell.execute_reply": "2025-03-05T16:05:19.548015Z"
    },
    "papermill": {
     "duration": 0.028566,
     "end_time": "2025-03-05T16:05:19.550634",
     "exception": false,
     "start_time": "2025-03-05T16:05:19.522068",
     "status": "completed"
    },
    "tags": []
   },
   "outputs": [
    {
     "data": {
      "text/plain": [
       "Product Sub-Category\n",
       "Appliances                       25.12\n",
       "Binders and Binder Accessories   25.13\n",
       "Bookcases                        25.88\n",
       "Chairs & Chairmats               24.84\n",
       "Computer Peripherals             25.36\n",
       "Copiers and Fax                  24.46\n",
       "Envelopes                        26.74\n",
       "Labels                           25.35\n",
       "Office Furnishings               26.20\n",
       "Office Machines                  23.31\n",
       "Paper                            25.20\n",
       "Pens & Art Supplies              26.82\n",
       "Rubber Bands                     27.49\n",
       "Scissors, Rulers and Trimmers    27.30\n",
       "Storage & Organization           25.28\n",
       "Tables                           25.47\n",
       "Telephones and Communication     26.01\n",
       "Name: Order Quantity, dtype: float64"
      ]
     },
     "execution_count": 39,
     "metadata": {},
     "output_type": "execute_result"
    }
   ],
   "source": [
    "order_sub_quantity"
   ]
  },
  {
   "cell_type": "code",
   "execution_count": 40,
   "id": "2f904bd5",
   "metadata": {
    "execution": {
     "iopub.execute_input": "2025-03-05T16:05:19.592089Z",
     "iopub.status.busy": "2025-03-05T16:05:19.591759Z",
     "iopub.status.idle": "2025-03-05T16:05:19.595767Z",
     "shell.execute_reply": "2025-03-05T16:05:19.594977Z"
    },
    "papermill": {
     "duration": 0.026088,
     "end_time": "2025-03-05T16:05:19.597189",
     "exception": false,
     "start_time": "2025-03-05T16:05:19.571101",
     "status": "completed"
    },
    "tags": []
   },
   "outputs": [],
   "source": [
    "order_quantity_overall = df['Order Quantity'].mean()"
   ]
  },
  {
   "cell_type": "code",
   "execution_count": 41,
   "id": "22885248",
   "metadata": {
    "execution": {
     "iopub.execute_input": "2025-03-05T16:05:19.637541Z",
     "iopub.status.busy": "2025-03-05T16:05:19.637219Z",
     "iopub.status.idle": "2025-03-05T16:05:19.642200Z",
     "shell.execute_reply": "2025-03-05T16:05:19.641378Z"
    },
    "papermill": {
     "duration": 0.026685,
     "end_time": "2025-03-05T16:05:19.643570",
     "exception": false,
     "start_time": "2025-03-05T16:05:19.616885",
     "status": "completed"
    },
    "tags": []
   },
   "outputs": [
    {
     "data": {
      "text/plain": [
       "25.571734730325037"
      ]
     },
     "execution_count": 41,
     "metadata": {},
     "output_type": "execute_result"
    }
   ],
   "source": [
    "order_quantity_overall"
   ]
  },
  {
   "cell_type": "markdown",
   "id": "8e643f03",
   "metadata": {
    "papermill": {
     "duration": 0.019571,
     "end_time": "2025-03-05T16:05:19.683091",
     "exception": false,
     "start_time": "2025-03-05T16:05:19.663520",
     "status": "completed"
    },
    "tags": []
   },
   "source": [
    "7. How does customer segment affect sales and profitability?\n"
   ]
  },
  {
   "cell_type": "code",
   "execution_count": 42,
   "id": "010a3847",
   "metadata": {
    "execution": {
     "iopub.execute_input": "2025-03-05T16:05:19.724312Z",
     "iopub.status.busy": "2025-03-05T16:05:19.723927Z",
     "iopub.status.idle": "2025-03-05T16:05:19.738362Z",
     "shell.execute_reply": "2025-03-05T16:05:19.737062Z"
    },
    "papermill": {
     "duration": 0.037069,
     "end_time": "2025-03-05T16:05:19.739899",
     "exception": false,
     "start_time": "2025-03-05T16:05:19.702830",
     "status": "completed"
    },
    "tags": []
   },
   "outputs": [
    {
     "name": "stdout",
     "output_type": "stream",
     "text": [
      "<class 'pandas.core.frame.DataFrame'>\n",
      "RangeIndex: 8399 entries, 0 to 8398\n",
      "Data columns (total 19 columns):\n",
      " #   Column                Non-Null Count  Dtype  \n",
      "---  ------                --------------  -----  \n",
      " 0   Order ID              8399 non-null   int64  \n",
      " 1   Order Date            8399 non-null   object \n",
      " 2   Order Priority        8399 non-null   object \n",
      " 3   Order Quantity        8399 non-null   int64  \n",
      " 4   Sales                 8399 non-null   float64\n",
      " 5   Discount              8399 non-null   float64\n",
      " 6   Ship Mode             8399 non-null   object \n",
      " 7   Profit                8399 non-null   float64\n",
      " 8   Unit Price            8399 non-null   float64\n",
      " 9   Shipping Cost         8399 non-null   float64\n",
      " 10  Customer Name         8399 non-null   object \n",
      " 11  Province              8399 non-null   object \n",
      " 12  Region                8399 non-null   object \n",
      " 13  Customer Segment      8399 non-null   object \n",
      " 14  Product Category      8399 non-null   object \n",
      " 15  Product Sub-Category  8399 non-null   object \n",
      " 16  Product Base Margin   8399 non-null   float64\n",
      " 17  Ship Date             8399 non-null   object \n",
      " 18  Profit Margin         8399 non-null   float64\n",
      "dtypes: float64(7), int64(2), object(10)\n",
      "memory usage: 1.2+ MB\n"
     ]
    }
   ],
   "source": [
    "df.info()"
   ]
  },
  {
   "cell_type": "code",
   "execution_count": 43,
   "id": "feafd3bb",
   "metadata": {
    "execution": {
     "iopub.execute_input": "2025-03-05T16:05:19.782319Z",
     "iopub.status.busy": "2025-03-05T16:05:19.781902Z",
     "iopub.status.idle": "2025-03-05T16:05:19.798312Z",
     "shell.execute_reply": "2025-03-05T16:05:19.797482Z"
    },
    "papermill": {
     "duration": 0.039352,
     "end_time": "2025-03-05T16:05:19.800005",
     "exception": false,
     "start_time": "2025-03-05T16:05:19.760653",
     "status": "completed"
    },
    "tags": []
   },
   "outputs": [],
   "source": [
    "customer_segment = df.groupby('Customer Segment').agg(\n",
    "total_sales =  ('Sales', 'sum'),\n",
    "total_profit = ('Profit', 'sum'),\n",
    "Average_sales = ('Sales', 'mean'),\n",
    "Average_profit = ('Profit', 'mean')\n",
    ").sort_values(by = 'total_sales', ascending = False)"
   ]
  },
  {
   "cell_type": "code",
   "execution_count": 44,
   "id": "98e4e85a",
   "metadata": {
    "execution": {
     "iopub.execute_input": "2025-03-05T16:05:19.841467Z",
     "iopub.status.busy": "2025-03-05T16:05:19.841097Z",
     "iopub.status.idle": "2025-03-05T16:05:19.850370Z",
     "shell.execute_reply": "2025-03-05T16:05:19.849309Z"
    },
    "papermill": {
     "duration": 0.031551,
     "end_time": "2025-03-05T16:05:19.851896",
     "exception": false,
     "start_time": "2025-03-05T16:05:19.820345",
     "status": "completed"
    },
    "tags": []
   },
   "outputs": [
    {
     "data": {
      "text/html": [
       "<div>\n",
       "<style scoped>\n",
       "    .dataframe tbody tr th:only-of-type {\n",
       "        vertical-align: middle;\n",
       "    }\n",
       "\n",
       "    .dataframe tbody tr th {\n",
       "        vertical-align: top;\n",
       "    }\n",
       "\n",
       "    .dataframe thead th {\n",
       "        text-align: right;\n",
       "    }\n",
       "</style>\n",
       "<table border=\"1\" class=\"dataframe\">\n",
       "  <thead>\n",
       "    <tr style=\"text-align: right;\">\n",
       "      <th></th>\n",
       "      <th>total_sales</th>\n",
       "      <th>total_profit</th>\n",
       "      <th>Average_sales</th>\n",
       "      <th>Average_profit</th>\n",
       "    </tr>\n",
       "    <tr>\n",
       "      <th>Customer Segment</th>\n",
       "      <th></th>\n",
       "      <th></th>\n",
       "      <th></th>\n",
       "      <th></th>\n",
       "    </tr>\n",
       "  </thead>\n",
       "  <tbody>\n",
       "    <tr>\n",
       "      <th>Corporate</th>\n",
       "      <td>5498904.88</td>\n",
       "      <td>599746.00</td>\n",
       "      <td>1787.68</td>\n",
       "      <td>194.98</td>\n",
       "    </tr>\n",
       "    <tr>\n",
       "      <th>Home Office</th>\n",
       "      <td>3564763.88</td>\n",
       "      <td>318354.03</td>\n",
       "      <td>1754.31</td>\n",
       "      <td>156.67</td>\n",
       "    </tr>\n",
       "    <tr>\n",
       "      <th>Consumer</th>\n",
       "      <td>3063611.08</td>\n",
       "      <td>287959.94</td>\n",
       "      <td>1857.86</td>\n",
       "      <td>174.63</td>\n",
       "    </tr>\n",
       "    <tr>\n",
       "      <th>Small Business</th>\n",
       "      <td>2788320.99</td>\n",
       "      <td>315708.01</td>\n",
       "      <td>1698.12</td>\n",
       "      <td>192.27</td>\n",
       "    </tr>\n",
       "  </tbody>\n",
       "</table>\n",
       "</div>"
      ],
      "text/plain": [
       "                  total_sales  total_profit  Average_sales  Average_profit\n",
       "Customer Segment                                                          \n",
       "Corporate          5498904.88     599746.00        1787.68          194.98\n",
       "Home Office        3564763.88     318354.03        1754.31          156.67\n",
       "Consumer           3063611.08     287959.94        1857.86          174.63\n",
       "Small Business     2788320.99     315708.01        1698.12          192.27"
      ]
     },
     "execution_count": 44,
     "metadata": {},
     "output_type": "execute_result"
    }
   ],
   "source": [
    "round(customer_segment,2)"
   ]
  },
  {
   "cell_type": "markdown",
   "id": "2e01f539",
   "metadata": {
    "papermill": {
     "duration": 0.020237,
     "end_time": "2025-03-05T16:05:19.892561",
     "exception": false,
     "start_time": "2025-03-05T16:05:19.872324",
     "status": "completed"
    },
    "tags": []
   },
   "source": [
    "8. Which customer segment has the highest average order quantity?"
   ]
  },
  {
   "cell_type": "code",
   "execution_count": 45,
   "id": "8be86848",
   "metadata": {
    "execution": {
     "iopub.execute_input": "2025-03-05T16:05:19.934020Z",
     "iopub.status.busy": "2025-03-05T16:05:19.933663Z",
     "iopub.status.idle": "2025-03-05T16:05:19.939670Z",
     "shell.execute_reply": "2025-03-05T16:05:19.938652Z"
    },
    "papermill": {
     "duration": 0.028458,
     "end_time": "2025-03-05T16:05:19.941231",
     "exception": false,
     "start_time": "2025-03-05T16:05:19.912773",
     "status": "completed"
    },
    "tags": []
   },
   "outputs": [],
   "source": [
    "highest_order_quantity = df.groupby('Customer Segment')['Order Quantity'].mean().sort_values(ascending = False)"
   ]
  },
  {
   "cell_type": "code",
   "execution_count": 46,
   "id": "8a093027",
   "metadata": {
    "execution": {
     "iopub.execute_input": "2025-03-05T16:05:19.982371Z",
     "iopub.status.busy": "2025-03-05T16:05:19.981985Z",
     "iopub.status.idle": "2025-03-05T16:05:19.986311Z",
     "shell.execute_reply": "2025-03-05T16:05:19.985486Z"
    },
    "papermill": {
     "duration": 0.026485,
     "end_time": "2025-03-05T16:05:19.987758",
     "exception": false,
     "start_time": "2025-03-05T16:05:19.961273",
     "status": "completed"
    },
    "tags": []
   },
   "outputs": [],
   "source": [
    "highest_order_quantity = highest_order_quantity.idxmax()"
   ]
  },
  {
   "cell_type": "code",
   "execution_count": 47,
   "id": "6ed64b26",
   "metadata": {
    "execution": {
     "iopub.execute_input": "2025-03-05T16:05:20.029241Z",
     "iopub.status.busy": "2025-03-05T16:05:20.028844Z",
     "iopub.status.idle": "2025-03-05T16:05:20.034154Z",
     "shell.execute_reply": "2025-03-05T16:05:20.033228Z"
    },
    "papermill": {
     "duration": 0.027824,
     "end_time": "2025-03-05T16:05:20.035544",
     "exception": false,
     "start_time": "2025-03-05T16:05:20.007720",
     "status": "completed"
    },
    "tags": []
   },
   "outputs": [
    {
     "data": {
      "text/plain": [
       "'Home Office'"
      ]
     },
     "execution_count": 47,
     "metadata": {},
     "output_type": "execute_result"
    }
   ],
   "source": [
    "highest_order_quantity"
   ]
  },
  {
   "cell_type": "markdown",
   "id": "d22f5d58",
   "metadata": {
    "papermill": {
     "duration": 0.020167,
     "end_time": "2025-03-05T16:05:20.076076",
     "exception": false,
     "start_time": "2025-03-05T16:05:20.055909",
     "status": "completed"
    },
    "tags": []
   },
   "source": [
    "9. What is the distribution of order priorities, and how do they affect shipping cost or profit?"
   ]
  },
  {
   "cell_type": "code",
   "execution_count": 48,
   "id": "df3865ca",
   "metadata": {
    "execution": {
     "iopub.execute_input": "2025-03-05T16:05:20.117421Z",
     "iopub.status.busy": "2025-03-05T16:05:20.117024Z",
     "iopub.status.idle": "2025-03-05T16:05:20.127422Z",
     "shell.execute_reply": "2025-03-05T16:05:20.126662Z"
    },
    "papermill": {
     "duration": 0.032821,
     "end_time": "2025-03-05T16:05:20.128932",
     "exception": false,
     "start_time": "2025-03-05T16:05:20.096111",
     "status": "completed"
    },
    "tags": []
   },
   "outputs": [],
   "source": [
    "distribution_of_order_priorities = df.groupby('Order Priority')[['Shipping Cost', 'Profit']].agg(['sum', 'mean'])"
   ]
  },
  {
   "cell_type": "code",
   "execution_count": 49,
   "id": "203792ca",
   "metadata": {
    "execution": {
     "iopub.execute_input": "2025-03-05T16:05:20.172834Z",
     "iopub.status.busy": "2025-03-05T16:05:20.172471Z",
     "iopub.status.idle": "2025-03-05T16:05:20.182957Z",
     "shell.execute_reply": "2025-03-05T16:05:20.182076Z"
    },
    "papermill": {
     "duration": 0.034134,
     "end_time": "2025-03-05T16:05:20.184487",
     "exception": false,
     "start_time": "2025-03-05T16:05:20.150353",
     "status": "completed"
    },
    "tags": []
   },
   "outputs": [
    {
     "data": {
      "text/html": [
       "<div>\n",
       "<style scoped>\n",
       "    .dataframe tbody tr th:only-of-type {\n",
       "        vertical-align: middle;\n",
       "    }\n",
       "\n",
       "    .dataframe tbody tr th {\n",
       "        vertical-align: top;\n",
       "    }\n",
       "\n",
       "    .dataframe thead tr th {\n",
       "        text-align: left;\n",
       "    }\n",
       "\n",
       "    .dataframe thead tr:last-of-type th {\n",
       "        text-align: right;\n",
       "    }\n",
       "</style>\n",
       "<table border=\"1\" class=\"dataframe\">\n",
       "  <thead>\n",
       "    <tr>\n",
       "      <th></th>\n",
       "      <th colspan=\"2\" halign=\"left\">Shipping Cost</th>\n",
       "      <th colspan=\"2\" halign=\"left\">Profit</th>\n",
       "    </tr>\n",
       "    <tr>\n",
       "      <th></th>\n",
       "      <th>sum</th>\n",
       "      <th>mean</th>\n",
       "      <th>sum</th>\n",
       "      <th>mean</th>\n",
       "    </tr>\n",
       "    <tr>\n",
       "      <th>Order Priority</th>\n",
       "      <th></th>\n",
       "      <th></th>\n",
       "      <th></th>\n",
       "      <th></th>\n",
       "    </tr>\n",
       "  </thead>\n",
       "  <tbody>\n",
       "    <tr>\n",
       "      <th>Critical</th>\n",
       "      <td>21112.68</td>\n",
       "      <td>13.13</td>\n",
       "      <td>182876.87</td>\n",
       "      <td>113.73</td>\n",
       "    </tr>\n",
       "    <tr>\n",
       "      <th>High</th>\n",
       "      <td>22665.42</td>\n",
       "      <td>12.82</td>\n",
       "      <td>407069.65</td>\n",
       "      <td>230.24</td>\n",
       "    </tr>\n",
       "    <tr>\n",
       "      <th>Low</th>\n",
       "      <td>22946.86</td>\n",
       "      <td>13.34</td>\n",
       "      <td>386184.90</td>\n",
       "      <td>224.53</td>\n",
       "    </tr>\n",
       "    <tr>\n",
       "      <th>Medium</th>\n",
       "      <td>20513.93</td>\n",
       "      <td>12.58</td>\n",
       "      <td>327051.73</td>\n",
       "      <td>200.52</td>\n",
       "    </tr>\n",
       "    <tr>\n",
       "      <th>Not Specified</th>\n",
       "      <td>20592.15</td>\n",
       "      <td>12.32</td>\n",
       "      <td>218584.83</td>\n",
       "      <td>130.73</td>\n",
       "    </tr>\n",
       "  </tbody>\n",
       "</table>\n",
       "</div>"
      ],
      "text/plain": [
       "               Shipping Cost          Profit       \n",
       "                         sum  mean       sum   mean\n",
       "Order Priority                                     \n",
       "Critical            21112.68 13.13 182876.87 113.73\n",
       "High                22665.42 12.82 407069.65 230.24\n",
       "Low                 22946.86 13.34 386184.90 224.53\n",
       "Medium              20513.93 12.58 327051.73 200.52\n",
       "Not Specified       20592.15 12.32 218584.83 130.73"
      ]
     },
     "execution_count": 49,
     "metadata": {},
     "output_type": "execute_result"
    }
   ],
   "source": [
    "distribution_of_order_priorities"
   ]
  },
  {
   "cell_type": "code",
   "execution_count": 50,
   "id": "16c9d444",
   "metadata": {
    "execution": {
     "iopub.execute_input": "2025-03-05T16:05:20.226717Z",
     "iopub.status.busy": "2025-03-05T16:05:20.226401Z",
     "iopub.status.idle": "2025-03-05T16:05:20.444486Z",
     "shell.execute_reply": "2025-03-05T16:05:20.443493Z"
    },
    "papermill": {
     "duration": 0.241246,
     "end_time": "2025-03-05T16:05:20.446196",
     "exception": false,
     "start_time": "2025-03-05T16:05:20.204950",
     "status": "completed"
    },
    "tags": []
   },
   "outputs": [
    {
     "data": {
      "text/plain": [
       "<Axes: xlabel='Order Priority', ylabel='Shipping Cost'>"
      ]
     },
     "execution_count": 50,
     "metadata": {},
     "output_type": "execute_result"
    },
    {
     "data": {
      "image/png": "[encoded data removed]",
      "text/plain": [
       "<Figure size 640x480 with 1 Axes>"
      ]
     },
     "metadata": {},
     "output_type": "display_data"
    }
   ],
   "source": [
    "sns.scatterplot(data=df, x='Order Priority', y='Shipping Cost')"
   ]
  },
  {
   "cell_type": "markdown",
   "id": "894c7885",
   "metadata": {
    "papermill": {
     "duration": 0.020764,
     "end_time": "2025-03-05T16:05:20.488316",
     "exception": false,
     "start_time": "2025-03-05T16:05:20.467552",
     "status": "completed"
    },
    "tags": []
   },
   "source": [
    "\n",
    "10. Which customers generate the most revenue and profit?\n"
   ]
  },
  {
   "cell_type": "code",
   "execution_count": 51,
   "id": "9515425d",
   "metadata": {
    "execution": {
     "iopub.execute_input": "2025-03-05T16:05:20.534477Z",
     "iopub.status.busy": "2025-03-05T16:05:20.534066Z",
     "iopub.status.idle": "2025-03-05T16:05:20.546658Z",
     "shell.execute_reply": "2025-03-05T16:05:20.545694Z"
    },
    "papermill": {
     "duration": 0.036771,
     "end_time": "2025-03-05T16:05:20.548265",
     "exception": false,
     "start_time": "2025-03-05T16:05:20.511494",
     "status": "completed"
    },
    "tags": []
   },
   "outputs": [
    {
     "data": {
      "text/html": [
       "<div>\n",
       "<style scoped>\n",
       "    .dataframe tbody tr th:only-of-type {\n",
       "        vertical-align: middle;\n",
       "    }\n",
       "\n",
       "    .dataframe tbody tr th {\n",
       "        vertical-align: top;\n",
       "    }\n",
       "\n",
       "    .dataframe thead th {\n",
       "        text-align: right;\n",
       "    }\n",
       "</style>\n",
       "<table border=\"1\" class=\"dataframe\">\n",
       "  <thead>\n",
       "    <tr style=\"text-align: right;\">\n",
       "      <th></th>\n",
       "      <th>Sales</th>\n",
       "      <th>Profit</th>\n",
       "    </tr>\n",
       "    <tr>\n",
       "      <th>Customer Name</th>\n",
       "      <th></th>\n",
       "      <th></th>\n",
       "    </tr>\n",
       "  </thead>\n",
       "  <tbody>\n",
       "    <tr>\n",
       "      <th>Emily Phan</th>\n",
       "      <td>117124.44</td>\n",
       "      <td>34005.44</td>\n",
       "    </tr>\n",
       "    <tr>\n",
       "      <th>Deborah Brumfield</th>\n",
       "      <td>97433.14</td>\n",
       "      <td>31121.22</td>\n",
       "    </tr>\n",
       "    <tr>\n",
       "      <th>Roy Skaria</th>\n",
       "      <td>92542.15</td>\n",
       "      <td>1343.94</td>\n",
       "    </tr>\n",
       "    <tr>\n",
       "      <th>Sylvia Foulston</th>\n",
       "      <td>88875.76</td>\n",
       "      <td>5141.90</td>\n",
       "    </tr>\n",
       "    <tr>\n",
       "      <th>Grant Carroll</th>\n",
       "      <td>88417.00</td>\n",
       "      <td>27977.29</td>\n",
       "    </tr>\n",
       "    <tr>\n",
       "      <th>Alejandro Grove</th>\n",
       "      <td>83561.93</td>\n",
       "      <td>20588.92</td>\n",
       "    </tr>\n",
       "    <tr>\n",
       "      <th>Darren Budd</th>\n",
       "      <td>81577.34</td>\n",
       "      <td>1857.66</td>\n",
       "    </tr>\n",
       "    <tr>\n",
       "      <th>Julia Barnett</th>\n",
       "      <td>80044.45</td>\n",
       "      <td>-1956.09</td>\n",
       "    </tr>\n",
       "    <tr>\n",
       "      <th>John Lucas</th>\n",
       "      <td>79696.19</td>\n",
       "      <td>12725.08</td>\n",
       "    </tr>\n",
       "    <tr>\n",
       "      <th>Liz MacKendrick</th>\n",
       "      <td>76306.43</td>\n",
       "      <td>20397.24</td>\n",
       "    </tr>\n",
       "  </tbody>\n",
       "</table>\n",
       "</div>"
      ],
      "text/plain": [
       "                      Sales   Profit\n",
       "Customer Name                       \n",
       "Emily Phan        117124.44 34005.44\n",
       "Deborah Brumfield  97433.14 31121.22\n",
       "Roy Skaria         92542.15  1343.94\n",
       "Sylvia Foulston    88875.76  5141.90\n",
       "Grant Carroll      88417.00 27977.29\n",
       "Alejandro Grove    83561.93 20588.92\n",
       "Darren Budd        81577.34  1857.66\n",
       "Julia Barnett      80044.45 -1956.09\n",
       "John Lucas         79696.19 12725.08\n",
       "Liz MacKendrick    76306.43 20397.24"
      ]
     },
     "execution_count": 51,
     "metadata": {},
     "output_type": "execute_result"
    }
   ],
   "source": [
    "top_customers = df.groupby('Customer Name')[['Sales','Profit']].sum().sort_values(by='Sales',ascending = False).head(10)\n",
    "top_customers"
   ]
  },
  {
   "cell_type": "markdown",
   "id": "81876c22",
   "metadata": {
    "papermill": {
     "duration": 0.021021,
     "end_time": "2025-03-05T16:05:20.590747",
     "exception": false,
     "start_time": "2025-03-05T16:05:20.569726",
     "status": "completed"
    },
    "tags": []
   },
   "source": [
    "\n",
    "11. What is the average shipping cost for each shipping mode?\n"
   ]
  },
  {
   "cell_type": "code",
   "execution_count": 52,
   "id": "57da6922",
   "metadata": {
    "execution": {
     "iopub.execute_input": "2025-03-05T16:05:20.634346Z",
     "iopub.status.busy": "2025-03-05T16:05:20.633968Z",
     "iopub.status.idle": "2025-03-05T16:05:20.642012Z",
     "shell.execute_reply": "2025-03-05T16:05:20.641156Z"
    },
    "papermill": {
     "duration": 0.031518,
     "end_time": "2025-03-05T16:05:20.643576",
     "exception": false,
     "start_time": "2025-03-05T16:05:20.612058",
     "status": "completed"
    },
    "tags": []
   },
   "outputs": [
    {
     "data": {
      "text/plain": [
       "Ship Mode\n",
       "Delivery Truck   45.35\n",
       "Express Air       7.99\n",
       "Regular Air       7.66\n",
       "Name: Shipping Cost, dtype: float64"
      ]
     },
     "execution_count": 52,
     "metadata": {},
     "output_type": "execute_result"
    }
   ],
   "source": [
    "average_shipping_cost = df.groupby('Ship Mode')['Shipping Cost'].mean()\n",
    "average_shipping_cost"
   ]
  },
  {
   "cell_type": "markdown",
   "id": "ef69e19c",
   "metadata": {
    "papermill": {
     "duration": 0.021263,
     "end_time": "2025-03-05T16:05:20.686171",
     "exception": false,
     "start_time": "2025-03-05T16:05:20.664908",
     "status": "completed"
    },
    "tags": []
   },
   "source": [
    "12. Does shipping mode affect the delivery time (difference between Order Date and Ship Date)?"
   ]
  },
  {
   "cell_type": "code",
   "execution_count": 53,
   "id": "bfbd14ac",
   "metadata": {
    "execution": {
     "iopub.execute_input": "2025-03-05T16:05:20.730603Z",
     "iopub.status.busy": "2025-03-05T16:05:20.730247Z",
     "iopub.status.idle": "2025-03-05T16:05:20.773027Z",
     "shell.execute_reply": "2025-03-05T16:05:20.771852Z"
    },
    "papermill": {
     "duration": 0.066988,
     "end_time": "2025-03-05T16:05:20.774612",
     "exception": false,
     "start_time": "2025-03-05T16:05:20.707624",
     "status": "completed"
    },
    "tags": []
   },
   "outputs": [
    {
     "name": "stderr",
     "output_type": "stream",
     "text": [
      "<ipython-input-53-beaf2910f194>:1: UserWarning: Parsing dates in %d-%m-%Y format when dayfirst=False (the default) was specified. Pass `dayfirst=True` or specify a format to silence this warning.\n",
      "  df['Order Date'] = pd.to_datetime(df['Order Date'])\n",
      "<ipython-input-53-beaf2910f194>:2: UserWarning: Parsing dates in %d-%m-%Y format when dayfirst=False (the default) was specified. Pass `dayfirst=True` or specify a format to silence this warning.\n",
      "  df['Ship Date'] = pd.to_datetime(df['Ship Date'])\n"
     ]
    },
    {
     "data": {
      "text/plain": [
       "Ship Mode\n",
       "Delivery Truck   2.04\n",
       "Regular Air      2.04\n",
       "Express Air      2.00\n",
       "Name: Delivery Time(Days), dtype: float64"
      ]
     },
     "execution_count": 53,
     "metadata": {},
     "output_type": "execute_result"
    }
   ],
   "source": [
    "df['Order Date'] = pd.to_datetime(df['Order Date'])\n",
    "df['Ship Date'] = pd.to_datetime(df['Ship Date'])\n",
    "df['Delivery Time(Days)'] =  (df['Ship Date'] - df['Order Date']).dt.days\n",
    "shipping_analysis = df.groupby('Ship Mode')['Delivery Time(Days)'].mean().sort_values(ascending =False)\n",
    "shipping_analysis"
   ]
  },
  {
   "cell_type": "code",
   "execution_count": 54,
   "id": "1163d81a",
   "metadata": {
    "execution": {
     "iopub.execute_input": "2025-03-05T16:05:20.819774Z",
     "iopub.status.busy": "2025-03-05T16:05:20.819423Z",
     "iopub.status.idle": "2025-03-05T16:05:20.997128Z",
     "shell.execute_reply": "2025-03-05T16:05:20.996004Z"
    },
    "papermill": {
     "duration": 0.202083,
     "end_time": "2025-03-05T16:05:20.998754",
     "exception": false,
     "start_time": "2025-03-05T16:05:20.796671",
     "status": "completed"
    },
    "tags": []
   },
   "outputs": [
    {
     "data": {
      "text/plain": [
       "(0.0, 300.0)"
      ]
     },
     "execution_count": 54,
     "metadata": {},
     "output_type": "execute_result"
    },
    {
     "data": {
      "image/png": "[encoded data removed]",
      "text/plain": [
       "<Figure size 640x480 with 1 Axes>"
      ]
     },
     "metadata": {},
     "output_type": "display_data"
    }
   ],
   "source": [
    "ax1 = sns.boxplot(data = df, x = 'Ship Mode', y='Delivery Time(Days)')\n",
    "ax1.set_ylim(0,300)"
   ]
  },
  {
   "cell_type": "markdown",
   "id": "b0348ebd",
   "metadata": {
    "papermill": {
     "duration": 0.022415,
     "end_time": "2025-03-05T16:05:21.043955",
     "exception": false,
     "start_time": "2025-03-05T16:05:21.021540",
     "status": "completed"
    },
    "tags": []
   },
   "source": [
    "13. Which provinces incur the highest average shipping costs?"
   ]
  },
  {
   "cell_type": "code",
   "execution_count": 55,
   "id": "5b17bc67",
   "metadata": {
    "execution": {
     "iopub.execute_input": "2025-03-05T16:05:21.091206Z",
     "iopub.status.busy": "2025-03-05T16:05:21.090810Z",
     "iopub.status.idle": "2025-03-05T16:05:21.099202Z",
     "shell.execute_reply": "2025-03-05T16:05:21.098341Z"
    },
    "papermill": {
     "duration": 0.033761,
     "end_time": "2025-03-05T16:05:21.100803",
     "exception": false,
     "start_time": "2025-03-05T16:05:21.067042",
     "status": "completed"
    },
    "tags": []
   },
   "outputs": [
    {
     "data": {
      "text/plain": [
       "Province\n",
       "Prince Edward Island    14.08\n",
       "Nova Scotia             13.97\n",
       "Yukon                   13.78\n",
       "Northwest Territories   13.75\n",
       "Quebec                  13.50\n",
       "Manitoba                13.18\n",
       "Ontario                 12.86\n",
       "Alberta                 12.85\n",
       "Nunavut                 12.77\n",
       "New Brunswick           12.53\n",
       "British Columbia        11.96\n",
       "Newfoundland            11.75\n",
       "Saskachewan             11.41\n",
       "Name: Shipping Cost, dtype: float64"
      ]
     },
     "execution_count": 55,
     "metadata": {},
     "output_type": "execute_result"
    }
   ],
   "source": [
    "highest_average_shipping_cost = df.groupby('Province')['Shipping Cost'].mean().sort_values(ascending =False)\n",
    "highest_average_shipping_cost"
   ]
  },
  {
   "cell_type": "markdown",
   "id": "ba2cb656",
   "metadata": {
    "papermill": {
     "duration": 0.022801,
     "end_time": "2025-03-05T16:05:21.147417",
     "exception": false,
     "start_time": "2025-03-05T16:05:21.124616",
     "status": "completed"
    },
    "tags": []
   },
   "source": [
    "14. How does shipping cost impact profit for different regions?"
   ]
  },
  {
   "cell_type": "code",
   "execution_count": 56,
   "id": "8f639bad",
   "metadata": {
    "execution": {
     "iopub.execute_input": "2025-03-05T16:05:21.194285Z",
     "iopub.status.busy": "2025-03-05T16:05:21.193897Z",
     "iopub.status.idle": "2025-03-05T16:05:21.205101Z",
     "shell.execute_reply": "2025-03-05T16:05:21.204163Z"
    },
    "papermill": {
     "duration": 0.036385,
     "end_time": "2025-03-05T16:05:21.206697",
     "exception": false,
     "start_time": "2025-03-05T16:05:21.170312",
     "status": "completed"
    },
    "tags": []
   },
   "outputs": [
    {
     "data": {
      "text/html": [
       "<div>\n",
       "<style scoped>\n",
       "    .dataframe tbody tr th:only-of-type {\n",
       "        vertical-align: middle;\n",
       "    }\n",
       "\n",
       "    .dataframe tbody tr th {\n",
       "        vertical-align: top;\n",
       "    }\n",
       "\n",
       "    .dataframe thead th {\n",
       "        text-align: right;\n",
       "    }\n",
       "</style>\n",
       "<table border=\"1\" class=\"dataframe\">\n",
       "  <thead>\n",
       "    <tr style=\"text-align: right;\">\n",
       "      <th></th>\n",
       "      <th>Shipping Cost</th>\n",
       "      <th>Profit</th>\n",
       "    </tr>\n",
       "    <tr>\n",
       "      <th>Region</th>\n",
       "      <th></th>\n",
       "      <th></th>\n",
       "    </tr>\n",
       "  </thead>\n",
       "  <tbody>\n",
       "    <tr>\n",
       "      <th>Yukon</th>\n",
       "      <td>13.78</td>\n",
       "      <td>136.25</td>\n",
       "    </tr>\n",
       "    <tr>\n",
       "      <th>Northwest Territories</th>\n",
       "      <td>13.75</td>\n",
       "      <td>255.46</td>\n",
       "    </tr>\n",
       "    <tr>\n",
       "      <th>Quebec</th>\n",
       "      <td>13.50</td>\n",
       "      <td>179.80</td>\n",
       "    </tr>\n",
       "    <tr>\n",
       "      <th>Atlantic</th>\n",
       "      <td>13.39</td>\n",
       "      <td>221.26</td>\n",
       "    </tr>\n",
       "    <tr>\n",
       "      <th>Ontario</th>\n",
       "      <td>12.86</td>\n",
       "      <td>189.96</td>\n",
       "    </tr>\n",
       "    <tr>\n",
       "      <th>Nunavut</th>\n",
       "      <td>12.77</td>\n",
       "      <td>35.96</td>\n",
       "    </tr>\n",
       "    <tr>\n",
       "      <th>West</th>\n",
       "      <td>12.35</td>\n",
       "      <td>149.18</td>\n",
       "    </tr>\n",
       "    <tr>\n",
       "      <th>Prarie</th>\n",
       "      <td>12.23</td>\n",
       "      <td>188.25</td>\n",
       "    </tr>\n",
       "  </tbody>\n",
       "</table>\n",
       "</div>"
      ],
      "text/plain": [
       "                       Shipping Cost  Profit\n",
       "Region                                      \n",
       "Yukon                          13.78  136.25\n",
       "Northwest Territories          13.75  255.46\n",
       "Quebec                         13.50  179.80\n",
       "Atlantic                       13.39  221.26\n",
       "Ontario                        12.86  189.96\n",
       "Nunavut                        12.77   35.96\n",
       "West                           12.35  149.18\n",
       "Prarie                         12.23  188.25"
      ]
     },
     "execution_count": 56,
     "metadata": {},
     "output_type": "execute_result"
    }
   ],
   "source": [
    "shipping_cost_analaysis = df.groupby('Region')[['Shipping Cost','Profit']].mean().sort_values(by='Shipping Cost', ascending =False)\n",
    "shipping_cost_analaysis"
   ]
  },
  {
   "cell_type": "code",
   "execution_count": 57,
   "id": "b533336e",
   "metadata": {
    "execution": {
     "iopub.execute_input": "2025-03-05T16:05:21.253683Z",
     "iopub.status.busy": "2025-03-05T16:05:21.253304Z",
     "iopub.status.idle": "2025-03-05T16:05:21.581241Z",
     "shell.execute_reply": "2025-03-05T16:05:21.580196Z"
    },
    "papermill": {
     "duration": 0.353482,
     "end_time": "2025-03-05T16:05:21.583129",
     "exception": false,
     "start_time": "2025-03-05T16:05:21.229647",
     "status": "completed"
    },
    "tags": []
   },
   "outputs": [
    {
     "data": {
      "text/plain": [
       "Text(0, 0.5, 'Amount')"
      ]
     },
     "execution_count": 57,
     "metadata": {},
     "output_type": "execute_result"
    },
    {
     "data": {
      "image/png": "[encoded data removed]",
      "text/plain": [
       "<Figure size 640x480 with 1 Axes>"
      ]
     },
     "metadata": {},
     "output_type": "display_data"
    }
   ],
   "source": [
    "shipping_cost_analaysis.plot(kind = 'bar' )\n",
    "plt.title('Average Shipping cost Vs Profit')\n",
    "plt.ylabel('Amount')"
   ]
  },
  {
   "cell_type": "code",
   "execution_count": 58,
   "id": "e2df23ec",
   "metadata": {
    "execution": {
     "iopub.execute_input": "2025-03-05T16:05:21.631470Z",
     "iopub.status.busy": "2025-03-05T16:05:21.631066Z",
     "iopub.status.idle": "2025-03-05T16:05:21.638964Z",
     "shell.execute_reply": "2025-03-05T16:05:21.637691Z"
    },
    "papermill": {
     "duration": 0.033456,
     "end_time": "2025-03-05T16:05:21.640429",
     "exception": false,
     "start_time": "2025-03-05T16:05:21.606973",
     "status": "completed"
    },
    "tags": []
   },
   "outputs": [
    {
     "name": "stdout",
     "output_type": "stream",
     "text": [
      "Object `profit` not found.\n",
      "Object `spike` not found.\n"
     ]
    }
   ],
   "source": [
    "### **Time-Based Analysis**\n",
    "15. What are the monthly or yearly trends in sales and profit?\n",
    "16. Are there specific times of the year (e.g., months, seasons) where sales spike?\n",
    "17. Does the order priority distribution change over time?\n"
   ]
  },
  {
   "cell_type": "code",
   "execution_count": 59,
   "id": "2d0edb9e",
   "metadata": {
    "execution": {
     "iopub.execute_input": "2025-03-05T16:05:21.687964Z",
     "iopub.status.busy": "2025-03-05T16:05:21.687625Z",
     "iopub.status.idle": "2025-03-05T16:05:21.702976Z",
     "shell.execute_reply": "2025-03-05T16:05:21.701698Z"
    },
    "papermill": {
     "duration": 0.041334,
     "end_time": "2025-03-05T16:05:21.704704",
     "exception": false,
     "start_time": "2025-03-05T16:05:21.663370",
     "status": "completed"
    },
    "tags": []
   },
   "outputs": [
    {
     "name": "stdout",
     "output_type": "stream",
     "text": [
      "<class 'pandas.core.frame.DataFrame'>\n",
      "RangeIndex: 8399 entries, 0 to 8398\n",
      "Data columns (total 20 columns):\n",
      " #   Column                Non-Null Count  Dtype         \n",
      "---  ------                --------------  -----         \n",
      " 0   Order ID              8399 non-null   int64         \n",
      " 1   Order Date            8399 non-null   datetime64[ns]\n",
      " 2   Order Priority        8399 non-null   object        \n",
      " 3   Order Quantity        8399 non-null   int64         \n",
      " 4   Sales                 8399 non-null   float64       \n",
      " 5   Discount              8399 non-null   float64       \n",
      " 6   Ship Mode             8399 non-null   object        \n",
      " 7   Profit                8399 non-null   float64       \n",
      " 8   Unit Price            8399 non-null   float64       \n",
      " 9   Shipping Cost         8399 non-null   float64       \n",
      " 10  Customer Name         8399 non-null   object        \n",
      " 11  Province              8399 non-null   object        \n",
      " 12  Region                8399 non-null   object        \n",
      " 13  Customer Segment      8399 non-null   object        \n",
      " 14  Product Category      8399 non-null   object        \n",
      " 15  Product Sub-Category  8399 non-null   object        \n",
      " 16  Product Base Margin   8399 non-null   float64       \n",
      " 17  Ship Date             8399 non-null   datetime64[ns]\n",
      " 18  Profit Margin         8399 non-null   float64       \n",
      " 19  Delivery Time(Days)   8399 non-null   int64         \n",
      "dtypes: datetime64[ns](2), float64(7), int64(3), object(8)\n",
      "memory usage: 1.3+ MB\n"
     ]
    }
   ],
   "source": [
    "df.info()"
   ]
  },
  {
   "cell_type": "code",
   "execution_count": 60,
   "id": "931de3a3",
   "metadata": {
    "execution": {
     "iopub.execute_input": "2025-03-05T16:05:21.753015Z",
     "iopub.status.busy": "2025-03-05T16:05:21.752643Z",
     "iopub.status.idle": "2025-03-05T16:05:21.798097Z",
     "shell.execute_reply": "2025-03-05T16:05:21.797016Z"
    },
    "papermill": {
     "duration": 0.071771,
     "end_time": "2025-03-05T16:05:21.800026",
     "exception": false,
     "start_time": "2025-03-05T16:05:21.728255",
     "status": "completed"
    },
    "tags": []
   },
   "outputs": [],
   "source": [
    "df['Month'] = df['Order Date'].dt.month\n",
    "df['Month_name'] = df['Order Date'].dt.strftime('%B')\n",
    "df['Year'] = df['Order Date'].dt.year"
   ]
  },
  {
   "cell_type": "code",
   "execution_count": 61,
   "id": "e33eda1d",
   "metadata": {
    "execution": {
     "iopub.execute_input": "2025-03-05T16:05:21.849060Z",
     "iopub.status.busy": "2025-03-05T16:05:21.848719Z",
     "iopub.status.idle": "2025-03-05T16:05:21.859521Z",
     "shell.execute_reply": "2025-03-05T16:05:21.858546Z"
    },
    "papermill": {
     "duration": 0.03718,
     "end_time": "2025-03-05T16:05:21.861114",
     "exception": false,
     "start_time": "2025-03-05T16:05:21.823934",
     "status": "completed"
    },
    "tags": []
   },
   "outputs": [
    {
     "data": {
      "text/html": [
       "<div>\n",
       "<style scoped>\n",
       "    .dataframe tbody tr th:only-of-type {\n",
       "        vertical-align: middle;\n",
       "    }\n",
       "\n",
       "    .dataframe tbody tr th {\n",
       "        vertical-align: top;\n",
       "    }\n",
       "\n",
       "    .dataframe thead th {\n",
       "        text-align: right;\n",
       "    }\n",
       "</style>\n",
       "<table border=\"1\" class=\"dataframe\">\n",
       "  <thead>\n",
       "    <tr style=\"text-align: right;\">\n",
       "      <th></th>\n",
       "      <th>Sales</th>\n",
       "      <th>Profit</th>\n",
       "    </tr>\n",
       "    <tr>\n",
       "      <th>Year</th>\n",
       "      <th></th>\n",
       "      <th></th>\n",
       "    </tr>\n",
       "  </thead>\n",
       "  <tbody>\n",
       "    <tr>\n",
       "      <th>2009</th>\n",
       "      <td>4209139.46</td>\n",
       "      <td>434538.73</td>\n",
       "    </tr>\n",
       "    <tr>\n",
       "      <th>2010</th>\n",
       "      <td>3549680.80</td>\n",
       "      <td>363871.48</td>\n",
       "    </tr>\n",
       "    <tr>\n",
       "      <th>2011</th>\n",
       "      <td>3436816.70</td>\n",
       "      <td>381455.99</td>\n",
       "    </tr>\n",
       "    <tr>\n",
       "      <th>2012</th>\n",
       "      <td>3719963.86</td>\n",
       "      <td>341901.78</td>\n",
       "    </tr>\n",
       "  </tbody>\n",
       "</table>\n",
       "</div>"
      ],
      "text/plain": [
       "          Sales    Profit\n",
       "Year                     \n",
       "2009 4209139.46 434538.73\n",
       "2010 3549680.80 363871.48\n",
       "2011 3436816.70 381455.99\n",
       "2012 3719963.86 341901.78"
      ]
     },
     "execution_count": 61,
     "metadata": {},
     "output_type": "execute_result"
    }
   ],
   "source": [
    "yearly_trends = df.groupby('Year')[['Sales','Profit']].sum()\n",
    "yearly_trends = round(yearly_trends,2)\n",
    "yearly_trends"
   ]
  },
  {
   "cell_type": "code",
   "execution_count": 62,
   "id": "a59bc14e",
   "metadata": {
    "execution": {
     "iopub.execute_input": "2025-03-05T16:05:21.910560Z",
     "iopub.status.busy": "2025-03-05T16:05:21.910205Z",
     "iopub.status.idle": "2025-03-05T16:05:21.920747Z",
     "shell.execute_reply": "2025-03-05T16:05:21.919778Z"
    },
    "papermill": {
     "duration": 0.037063,
     "end_time": "2025-03-05T16:05:21.922183",
     "exception": false,
     "start_time": "2025-03-05T16:05:21.885120",
     "status": "completed"
    },
    "tags": []
   },
   "outputs": [
    {
     "data": {
      "text/html": [
       "<div>\n",
       "<style scoped>\n",
       "    .dataframe tbody tr th:only-of-type {\n",
       "        vertical-align: middle;\n",
       "    }\n",
       "\n",
       "    .dataframe tbody tr th {\n",
       "        vertical-align: top;\n",
       "    }\n",
       "\n",
       "    .dataframe thead th {\n",
       "        text-align: right;\n",
       "    }\n",
       "</style>\n",
       "<table border=\"1\" class=\"dataframe\">\n",
       "  <thead>\n",
       "    <tr style=\"text-align: right;\">\n",
       "      <th></th>\n",
       "      <th>Sales</th>\n",
       "      <th>Profit</th>\n",
       "    </tr>\n",
       "    <tr>\n",
       "      <th>Month</th>\n",
       "      <th></th>\n",
       "      <th></th>\n",
       "    </tr>\n",
       "  </thead>\n",
       "  <tbody>\n",
       "    <tr>\n",
       "      <th>1</th>\n",
       "      <td>1444923.38</td>\n",
       "      <td>171520.75</td>\n",
       "    </tr>\n",
       "    <tr>\n",
       "      <th>2</th>\n",
       "      <td>1180083.78</td>\n",
       "      <td>102429.12</td>\n",
       "    </tr>\n",
       "    <tr>\n",
       "      <th>3</th>\n",
       "      <td>1273680.93</td>\n",
       "      <td>104799.33</td>\n",
       "    </tr>\n",
       "    <tr>\n",
       "      <th>4</th>\n",
       "      <td>1216483.44</td>\n",
       "      <td>123906.52</td>\n",
       "    </tr>\n",
       "    <tr>\n",
       "      <th>5</th>\n",
       "      <td>1160896.38</td>\n",
       "      <td>115628.69</td>\n",
       "    </tr>\n",
       "    <tr>\n",
       "      <th>6</th>\n",
       "      <td>1030858.51</td>\n",
       "      <td>118703.56</td>\n",
       "    </tr>\n",
       "    <tr>\n",
       "      <th>7</th>\n",
       "      <td>1141104.35</td>\n",
       "      <td>120965.31</td>\n",
       "    </tr>\n",
       "    <tr>\n",
       "      <th>8</th>\n",
       "      <td>1115015.33</td>\n",
       "      <td>74585.50</td>\n",
       "    </tr>\n",
       "    <tr>\n",
       "      <th>9</th>\n",
       "      <td>1337956.96</td>\n",
       "      <td>164352.69</td>\n",
       "    </tr>\n",
       "    <tr>\n",
       "      <th>10</th>\n",
       "      <td>1383714.44</td>\n",
       "      <td>174016.39</td>\n",
       "    </tr>\n",
       "    <tr>\n",
       "      <th>11</th>\n",
       "      <td>1163393.37</td>\n",
       "      <td>106670.36</td>\n",
       "    </tr>\n",
       "    <tr>\n",
       "      <th>12</th>\n",
       "      <td>1467489.96</td>\n",
       "      <td>144189.76</td>\n",
       "    </tr>\n",
       "  </tbody>\n",
       "</table>\n",
       "</div>"
      ],
      "text/plain": [
       "           Sales    Profit\n",
       "Month                     \n",
       "1     1444923.38 171520.75\n",
       "2     1180083.78 102429.12\n",
       "3     1273680.93 104799.33\n",
       "4     1216483.44 123906.52\n",
       "5     1160896.38 115628.69\n",
       "6     1030858.51 118703.56\n",
       "7     1141104.35 120965.31\n",
       "8     1115015.33  74585.50\n",
       "9     1337956.96 164352.69\n",
       "10    1383714.44 174016.39\n",
       "11    1163393.37 106670.36\n",
       "12    1467489.96 144189.76"
      ]
     },
     "execution_count": 62,
     "metadata": {},
     "output_type": "execute_result"
    }
   ],
   "source": [
    "monthly_trends = df.groupby('Month')[['Sales','Profit']].sum().sort_index()\n",
    "monthly_trends = round(monthly_trends,2)\n",
    "monthly_trends"
   ]
  },
  {
   "cell_type": "code",
   "execution_count": 63,
   "id": "e5a70d80",
   "metadata": {
    "execution": {
     "iopub.execute_input": "2025-03-05T16:05:21.972733Z",
     "iopub.status.busy": "2025-03-05T16:05:21.972334Z",
     "iopub.status.idle": "2025-03-05T16:05:22.303109Z",
     "shell.execute_reply": "2025-03-05T16:05:22.302042Z"
    },
    "papermill": {
     "duration": 0.35809,
     "end_time": "2025-03-05T16:05:22.304721",
     "exception": false,
     "start_time": "2025-03-05T16:05:21.946631",
     "status": "completed"
    },
    "tags": []
   },
   "outputs": [
    {
     "data": {
      "image/png": "[encoded data removed]",
      "text/plain": [
       "<Figure size 640x480 with 1 Axes>"
      ]
     },
     "metadata": {},
     "output_type": "display_data"
    }
   ],
   "source": [
    "ax3 = yearly_trends.plot(kind = 'line', marker = 'o')"
   ]
  },
  {
   "cell_type": "code",
   "execution_count": 64,
   "id": "cff5caee",
   "metadata": {
    "execution": {
     "iopub.execute_input": "2025-03-05T16:05:22.356362Z",
     "iopub.status.busy": "2025-03-05T16:05:22.355954Z",
     "iopub.status.idle": "2025-03-05T16:05:22.583644Z",
     "shell.execute_reply": "2025-03-05T16:05:22.582562Z"
    },
    "papermill": {
     "duration": 0.25588,
     "end_time": "2025-03-05T16:05:22.585472",
     "exception": false,
     "start_time": "2025-03-05T16:05:22.329592",
     "status": "completed"
    },
    "tags": []
   },
   "outputs": [
    {
     "data": {
      "image/png": "[encoded data removed]",
      "text/plain": [
       "<Figure size 640x480 with 1 Axes>"
      ]
     },
     "metadata": {},
     "output_type": "display_data"
    }
   ],
   "source": [
    "ax4 = monthly_trends.plot(kind='line', marker = 'o')"
   ]
  },
  {
   "cell_type": "markdown",
   "id": "a19bfe39",
   "metadata": {
    "papermill": {
     "duration": 0.025471,
     "end_time": "2025-03-05T16:05:22.636997",
     "exception": false,
     "start_time": "2025-03-05T16:05:22.611526",
     "status": "completed"
    },
    "tags": []
   },
   "source": [
    "Does the order priority distribution change over time?"
   ]
  },
  {
   "cell_type": "code",
   "execution_count": 65,
   "id": "073267c5",
   "metadata": {
    "execution": {
     "iopub.execute_input": "2025-03-05T16:05:22.689077Z",
     "iopub.status.busy": "2025-03-05T16:05:22.688738Z",
     "iopub.status.idle": "2025-03-05T16:05:22.709199Z",
     "shell.execute_reply": "2025-03-05T16:05:22.708265Z"
    },
    "papermill": {
     "duration": 0.048555,
     "end_time": "2025-03-05T16:05:22.710929",
     "exception": false,
     "start_time": "2025-03-05T16:05:22.662374",
     "status": "completed"
    },
    "tags": []
   },
   "outputs": [
    {
     "data": {
      "text/html": [
       "<div>\n",
       "<style scoped>\n",
       "    .dataframe tbody tr th:only-of-type {\n",
       "        vertical-align: middle;\n",
       "    }\n",
       "\n",
       "    .dataframe tbody tr th {\n",
       "        vertical-align: top;\n",
       "    }\n",
       "\n",
       "    .dataframe thead th {\n",
       "        text-align: right;\n",
       "    }\n",
       "</style>\n",
       "<table border=\"1\" class=\"dataframe\">\n",
       "  <thead>\n",
       "    <tr style=\"text-align: right;\">\n",
       "      <th>Order Priority</th>\n",
       "      <th>Critical</th>\n",
       "      <th>High</th>\n",
       "      <th>Low</th>\n",
       "      <th>Medium</th>\n",
       "      <th>Not Specified</th>\n",
       "    </tr>\n",
       "    <tr>\n",
       "      <th>Year</th>\n",
       "      <th></th>\n",
       "      <th></th>\n",
       "      <th></th>\n",
       "      <th></th>\n",
       "      <th></th>\n",
       "    </tr>\n",
       "  </thead>\n",
       "  <tbody>\n",
       "    <tr>\n",
       "      <th>2009</th>\n",
       "      <td>443</td>\n",
       "      <td>417</td>\n",
       "      <td>420</td>\n",
       "      <td>428</td>\n",
       "      <td>445</td>\n",
       "    </tr>\n",
       "    <tr>\n",
       "      <th>2010</th>\n",
       "      <td>342</td>\n",
       "      <td>454</td>\n",
       "      <td>483</td>\n",
       "      <td>447</td>\n",
       "      <td>416</td>\n",
       "    </tr>\n",
       "    <tr>\n",
       "      <th>2011</th>\n",
       "      <td>412</td>\n",
       "      <td>449</td>\n",
       "      <td>385</td>\n",
       "      <td>369</td>\n",
       "      <td>387</td>\n",
       "    </tr>\n",
       "    <tr>\n",
       "      <th>2012</th>\n",
       "      <td>411</td>\n",
       "      <td>448</td>\n",
       "      <td>432</td>\n",
       "      <td>387</td>\n",
       "      <td>424</td>\n",
       "    </tr>\n",
       "  </tbody>\n",
       "</table>\n",
       "</div>"
      ],
      "text/plain": [
       "Order Priority  Critical  High  Low  Medium  Not Specified\n",
       "Year                                                      \n",
       "2009                 443   417  420     428            445\n",
       "2010                 342   454  483     447            416\n",
       "2011                 412   449  385     369            387\n",
       "2012                 411   448  432     387            424"
      ]
     },
     "execution_count": 65,
     "metadata": {},
     "output_type": "execute_result"
    }
   ],
   "source": [
    "order_priority = df.groupby(['Year', 'Order Priority'])['Order ID'].count().unstack()\n",
    "order_priority"
   ]
  },
  {
   "cell_type": "code",
   "execution_count": 66,
   "id": "6d8a76df",
   "metadata": {
    "execution": {
     "iopub.execute_input": "2025-03-05T16:05:22.763073Z",
     "iopub.status.busy": "2025-03-05T16:05:22.762723Z",
     "iopub.status.idle": "2025-03-05T16:05:22.769919Z",
     "shell.execute_reply": "2025-03-05T16:05:22.769108Z"
    },
    "papermill": {
     "duration": 0.034625,
     "end_time": "2025-03-05T16:05:22.771340",
     "exception": false,
     "start_time": "2025-03-05T16:05:22.736715",
     "status": "completed"
    },
    "tags": []
   },
   "outputs": [
    {
     "data": {
      "text/plain": [
       "('Copiers and Fax', 'Rubber Bands')"
      ]
     },
     "execution_count": 66,
     "metadata": {},
     "output_type": "execute_result"
    }
   ],
   "source": [
    "average_unit_prices =  df.groupby('Product Sub-Category')['Unit Price'].mean()\n",
    "highest_unit_price = average_unit_prices.idxmax()\n",
    "lowest_unit_price = average_unit_prices.idxmin()\n",
    "highest_unit_price, lowest_unit_price"
   ]
  },
  {
   "cell_type": "code",
   "execution_count": 67,
   "id": "c463acc6",
   "metadata": {
    "execution": {
     "iopub.execute_input": "2025-03-05T16:05:22.823298Z",
     "iopub.status.busy": "2025-03-05T16:05:22.822942Z",
     "iopub.status.idle": "2025-03-05T16:05:22.829537Z",
     "shell.execute_reply": "2025-03-05T16:05:22.828630Z"
    },
    "papermill": {
     "duration": 0.034047,
     "end_time": "2025-03-05T16:05:22.830957",
     "exception": false,
     "start_time": "2025-03-05T16:05:22.796910",
     "status": "completed"
    },
    "tags": []
   },
   "outputs": [
    {
     "data": {
      "text/plain": [
       "-0.11485220070092583"
      ]
     },
     "execution_count": 67,
     "metadata": {},
     "output_type": "execute_result"
    }
   ],
   "source": [
    "relationship = df['Product Base Margin'].corr(df['Profit'])\n",
    "relationship"
   ]
  },
  {
   "cell_type": "code",
   "execution_count": 68,
   "id": "190748f7",
   "metadata": {
    "execution": {
     "iopub.execute_input": "2025-03-05T16:05:22.884001Z",
     "iopub.status.busy": "2025-03-05T16:05:22.883612Z",
     "iopub.status.idle": "2025-03-05T16:05:22.893157Z",
     "shell.execute_reply": "2025-03-05T16:05:22.892242Z"
    },
    "papermill": {
     "duration": 0.037454,
     "end_time": "2025-03-05T16:05:22.894763",
     "exception": false,
     "start_time": "2025-03-05T16:05:22.857309",
     "status": "completed"
    },
    "tags": []
   },
   "outputs": [
    {
     "data": {
      "text/plain": [
       "Product Category  Product Sub-Category          \n",
       "Furniture         Bookcases                        0.05\n",
       "                  Chairs & Chairmats               0.05\n",
       "                  Office Furnishings               0.05\n",
       "                  Tables                           0.05\n",
       "Office Supplies   Appliances                       0.05\n",
       "                  Binders and Binder Accessories   0.05\n",
       "                  Envelopes                        0.05\n",
       "                  Labels                           0.05\n",
       "                  Paper                            0.05\n",
       "                  Pens & Art Supplies              0.05\n",
       "                  Rubber Bands                     0.05\n",
       "                  Scissors, Rulers and Trimmers    0.05\n",
       "                  Storage & Organization           0.05\n",
       "Technology        Computer Peripherals             0.05\n",
       "                  Copiers and Fax                  0.05\n",
       "                  Office Machines                  0.05\n",
       "                  Telephones and Communication     0.05\n",
       "Name: Discount, dtype: float64"
      ]
     },
     "execution_count": 68,
     "metadata": {},
     "output_type": "execute_result"
    }
   ],
   "source": [
    "discount = df.groupby(['Product Category','Product Sub-Category'])['Discount'].mean()\n",
    "discount"
   ]
  },
  {
   "cell_type": "code",
   "execution_count": 69,
   "id": "288b17e2",
   "metadata": {
    "execution": {
     "iopub.execute_input": "2025-03-05T16:05:22.948632Z",
     "iopub.status.busy": "2025-03-05T16:05:22.948296Z",
     "iopub.status.idle": "2025-03-05T16:05:22.956013Z",
     "shell.execute_reply": "2025-03-05T16:05:22.955156Z"
    },
    "papermill": {
     "duration": 0.036972,
     "end_time": "2025-03-05T16:05:22.957534",
     "exception": false,
     "start_time": "2025-03-05T16:05:22.920562",
     "status": "completed"
    },
    "tags": []
   },
   "outputs": [
    {
     "data": {
      "text/plain": [
       "Product Sub-Category\n",
       "Paper                             1225\n",
       "Binders and Binder Accessories     915\n",
       "Telephones and Communication       883\n",
       "Office Furnishings                 788\n",
       "Computer Peripherals               758\n",
       "Pens & Art Supplies                633\n",
       "Storage & Organization             546\n",
       "Appliances                         434\n",
       "Chairs & Chairmats                 386\n",
       "Tables                             361\n",
       "Office Machines                    337\n",
       "Labels                             288\n",
       "Envelopes                          246\n",
       "Bookcases                          189\n",
       "Rubber Bands                       179\n",
       "Scissors, Rulers and Trimmers      144\n",
       "Copiers and Fax                     87\n",
       "Name: Order ID, dtype: int64"
      ]
     },
     "execution_count": 69,
     "metadata": {},
     "output_type": "execute_result"
    }
   ],
   "source": [
    "frequently_ordered = df.groupby('Product Sub-Category')['Order ID'].count().sort_values(ascending = False)\n",
    "frequently_ordered"
   ]
  },
  {
   "cell_type": "markdown",
   "id": "3c9bf757",
   "metadata": {
    "papermill": {
     "duration": 0.025325,
     "end_time": "2025-03-05T16:05:23.008761",
     "exception": false,
     "start_time": "2025-03-05T16:05:22.983436",
     "status": "completed"
    },
    "tags": []
   },
   "source": [
    "23. Which region contributes the most to total sales and profit?"
   ]
  },
  {
   "cell_type": "code",
   "execution_count": 70,
   "id": "639aa5db",
   "metadata": {
    "execution": {
     "iopub.execute_input": "2025-03-05T16:05:23.061293Z",
     "iopub.status.busy": "2025-03-05T16:05:23.060936Z",
     "iopub.status.idle": "2025-03-05T16:05:23.069906Z",
     "shell.execute_reply": "2025-03-05T16:05:23.068824Z"
    },
    "papermill": {
     "duration": 0.036882,
     "end_time": "2025-03-05T16:05:23.071227",
     "exception": false,
     "start_time": "2025-03-05T16:05:23.034345",
     "status": "completed"
    },
    "tags": []
   },
   "outputs": [
    {
     "name": "stdout",
     "output_type": "stream",
     "text": [
      "most Contributed regions for total sales : West\n",
      "most Contributed regions for total profit : Ontario\n"
     ]
    }
   ],
   "source": [
    "contribute= df.groupby('Region')[['Sales', 'Profit']].sum().sort_values(by = ['Sales','Profit'], ascending = False)\n",
    "contribute_sales = contribute['Sales'].idxmax()\n",
    "contribute_Profit = contribute['Profit'].idxmax()\n",
    "print(f\"most Contributed regions for total sales : {contribute_sales}\")\n",
    "print(f\"most Contributed regions for total profit : {contribute_Profit}\")"
   ]
  },
  {
   "cell_type": "markdown",
   "id": "45763eda",
   "metadata": {
    "papermill": {
     "duration": 0.025166,
     "end_time": "2025-03-05T16:05:23.122219",
     "exception": false,
     "start_time": "2025-03-05T16:05:23.097053",
     "status": "completed"
    },
    "tags": []
   },
   "source": [
    "Which provinces have the highest and lowest average order quantities?"
   ]
  },
  {
   "cell_type": "code",
   "execution_count": 71,
   "id": "b000f52d",
   "metadata": {
    "execution": {
     "iopub.execute_input": "2025-03-05T16:05:23.176523Z",
     "iopub.status.busy": "2025-03-05T16:05:23.176103Z",
     "iopub.status.idle": "2025-03-05T16:05:23.184288Z",
     "shell.execute_reply": "2025-03-05T16:05:23.183244Z"
    },
    "papermill": {
     "duration": 0.036299,
     "end_time": "2025-03-05T16:05:23.185957",
     "exception": false,
     "start_time": "2025-03-05T16:05:23.149658",
     "status": "completed"
    },
    "tags": []
   },
   "outputs": [
    {
     "name": "stdout",
     "output_type": "stream",
     "text": [
      "Prince Edward Island province has the highest average order quanitites\n",
      "Newfoundland province has the lowest average order quantities\n"
     ]
    }
   ],
   "source": [
    "provinces = df.groupby('Province')['Order Quantity'].mean().sort_values(ascending = False)\n",
    "provinces_highest = provinces.idxmax()\n",
    "provinces_lowest = provinces.idxmin()\n",
    "print(f'{provinces_highest} province has the highest average order quanitites')\n",
    "print(f'{provinces_lowest} province has the lowest average order quantities')"
   ]
  },
  {
   "cell_type": "markdown",
   "id": "b72dc9ae",
   "metadata": {
    "papermill": {
     "duration": 0.025647,
     "end_time": "2025-03-05T16:05:23.237346",
     "exception": false,
     "start_time": "2025-03-05T16:05:23.211699",
     "status": "completed"
    },
    "tags": []
   },
   "source": [
    "Predicting Sales using Linear Regression"
   ]
  },
  {
   "cell_type": "code",
   "execution_count": 72,
   "id": "194e9940",
   "metadata": {
    "execution": {
     "iopub.execute_input": "2025-03-05T16:05:23.291426Z",
     "iopub.status.busy": "2025-03-05T16:05:23.291021Z",
     "iopub.status.idle": "2025-03-05T16:05:23.299770Z",
     "shell.execute_reply": "2025-03-05T16:05:23.298701Z"
    },
    "papermill": {
     "duration": 0.038246,
     "end_time": "2025-03-05T16:05:23.301983",
     "exception": false,
     "start_time": "2025-03-05T16:05:23.263737",
     "status": "completed"
    },
    "tags": []
   },
   "outputs": [],
   "source": [
    "df1 = df.copy()"
   ]
  },
  {
   "cell_type": "code",
   "execution_count": 73,
   "id": "c3348d99",
   "metadata": {
    "execution": {
     "iopub.execute_input": "2025-03-05T16:05:23.356448Z",
     "iopub.status.busy": "2025-03-05T16:05:23.356034Z",
     "iopub.status.idle": "2025-03-05T16:05:23.360502Z",
     "shell.execute_reply": "2025-03-05T16:05:23.359456Z"
    },
    "papermill": {
     "duration": 0.033301,
     "end_time": "2025-03-05T16:05:23.361958",
     "exception": false,
     "start_time": "2025-03-05T16:05:23.328657",
     "status": "completed"
    },
    "tags": []
   },
   "outputs": [],
   "source": [
    "Y = df1['Sales']"
   ]
  },
  {
   "cell_type": "code",
   "execution_count": 74,
   "id": "8904e281",
   "metadata": {
    "execution": {
     "iopub.execute_input": "2025-03-05T16:05:23.415650Z",
     "iopub.status.busy": "2025-03-05T16:05:23.415305Z",
     "iopub.status.idle": "2025-03-05T16:05:23.420184Z",
     "shell.execute_reply": "2025-03-05T16:05:23.419409Z"
    },
    "papermill": {
     "duration": 0.033315,
     "end_time": "2025-03-05T16:05:23.421663",
     "exception": false,
     "start_time": "2025-03-05T16:05:23.388348",
     "status": "completed"
    },
    "tags": []
   },
   "outputs": [],
   "source": [
    "X = df1[['Order Quantity', 'Discount','Profit','Unit Price','Profit Margin']] "
   ]
  },
  {
   "cell_type": "code",
   "execution_count": 75,
   "id": "070a7f9b",
   "metadata": {
    "execution": {
     "iopub.execute_input": "2025-03-05T16:05:23.474692Z",
     "iopub.status.busy": "2025-03-05T16:05:23.474334Z",
     "iopub.status.idle": "2025-03-05T16:05:23.479823Z",
     "shell.execute_reply": "2025-03-05T16:05:23.479004Z"
    },
    "papermill": {
     "duration": 0.033513,
     "end_time": "2025-03-05T16:05:23.481356",
     "exception": false,
     "start_time": "2025-03-05T16:05:23.447843",
     "status": "completed"
    },
    "tags": []
   },
   "outputs": [
    {
     "data": {
      "text/plain": [
       "((8399, 5), (8399,))"
      ]
     },
     "execution_count": 75,
     "metadata": {},
     "output_type": "execute_result"
    }
   ],
   "source": [
    "X.shape ,  Y.shape"
   ]
  },
  {
   "cell_type": "code",
   "execution_count": 76,
   "id": "30efedb2",
   "metadata": {
    "execution": {
     "iopub.execute_input": "2025-03-05T16:05:23.536130Z",
     "iopub.status.busy": "2025-03-05T16:05:23.535802Z",
     "iopub.status.idle": "2025-03-05T16:05:23.539757Z",
     "shell.execute_reply": "2025-03-05T16:05:23.538974Z"
    },
    "papermill": {
     "duration": 0.032217,
     "end_time": "2025-03-05T16:05:23.541266",
     "exception": false,
     "start_time": "2025-03-05T16:05:23.509049",
     "status": "completed"
    },
    "tags": []
   },
   "outputs": [],
   "source": [
    "from sklearn.model_selection import train_test_split"
   ]
  },
  {
   "cell_type": "code",
   "execution_count": 77,
   "id": "25aa6604",
   "metadata": {
    "execution": {
     "iopub.execute_input": "2025-03-05T16:05:23.593678Z",
     "iopub.status.busy": "2025-03-05T16:05:23.593351Z",
     "iopub.status.idle": "2025-03-05T16:05:23.599459Z",
     "shell.execute_reply": "2025-03-05T16:05:23.598608Z"
    },
    "papermill": {
     "duration": 0.034297,
     "end_time": "2025-03-05T16:05:23.601050",
     "exception": false,
     "start_time": "2025-03-05T16:05:23.566753",
     "status": "completed"
    },
    "tags": []
   },
   "outputs": [],
   "source": [
    "X_train, X_test, Y_train, Y_test = train_test_split(X, Y, test_size = 0.2)"
   ]
  },
  {
   "cell_type": "code",
   "execution_count": 78,
   "id": "1d9c614e",
   "metadata": {
    "execution": {
     "iopub.execute_input": "2025-03-05T16:05:23.654261Z",
     "iopub.status.busy": "2025-03-05T16:05:23.653842Z",
     "iopub.status.idle": "2025-03-05T16:05:23.659403Z",
     "shell.execute_reply": "2025-03-05T16:05:23.658614Z"
    },
    "papermill": {
     "duration": 0.033901,
     "end_time": "2025-03-05T16:05:23.660870",
     "exception": false,
     "start_time": "2025-03-05T16:05:23.626969",
     "status": "completed"
    },
    "tags": []
   },
   "outputs": [
    {
     "data": {
      "text/plain": [
       "((6719, 5), (6719,))"
      ]
     },
     "execution_count": 78,
     "metadata": {},
     "output_type": "execute_result"
    }
   ],
   "source": [
    "X_train.shape, Y_train.shape"
   ]
  },
  {
   "cell_type": "code",
   "execution_count": 79,
   "id": "ac42c640",
   "metadata": {
    "execution": {
     "iopub.execute_input": "2025-03-05T16:05:23.714115Z",
     "iopub.status.busy": "2025-03-05T16:05:23.713709Z",
     "iopub.status.idle": "2025-03-05T16:05:23.719986Z",
     "shell.execute_reply": "2025-03-05T16:05:23.719009Z"
    },
    "papermill": {
     "duration": 0.034459,
     "end_time": "2025-03-05T16:05:23.721473",
     "exception": false,
     "start_time": "2025-03-05T16:05:23.687014",
     "status": "completed"
    },
    "tags": []
   },
   "outputs": [
    {
     "data": {
      "text/plain": [
       "((1680, 5), (1680,))"
      ]
     },
     "execution_count": 79,
     "metadata": {},
     "output_type": "execute_result"
    }
   ],
   "source": [
    "X_test.shape, Y_test.shape"
   ]
  },
  {
   "cell_type": "code",
   "execution_count": 80,
   "id": "2338919d",
   "metadata": {
    "execution": {
     "iopub.execute_input": "2025-03-05T16:05:23.774543Z",
     "iopub.status.busy": "2025-03-05T16:05:23.774208Z",
     "iopub.status.idle": "2025-03-05T16:05:23.777993Z",
     "shell.execute_reply": "2025-03-05T16:05:23.777178Z"
    },
    "papermill": {
     "duration": 0.032173,
     "end_time": "2025-03-05T16:05:23.779518",
     "exception": false,
     "start_time": "2025-03-05T16:05:23.747345",
     "status": "completed"
    },
    "tags": []
   },
   "outputs": [],
   "source": [
    "model = linear_model.LinearRegression()"
   ]
  },
  {
   "cell_type": "code",
   "execution_count": 81,
   "id": "69ad2bd8",
   "metadata": {
    "execution": {
     "iopub.execute_input": "2025-03-05T16:05:23.833151Z",
     "iopub.status.busy": "2025-03-05T16:05:23.832803Z",
     "iopub.status.idle": "2025-03-05T16:05:23.874783Z",
     "shell.execute_reply": "2025-03-05T16:05:23.873905Z"
    },
    "papermill": {
     "duration": 0.071004,
     "end_time": "2025-03-05T16:05:23.876609",
     "exception": false,
     "start_time": "2025-03-05T16:05:23.805605",
     "status": "completed"
    },
    "tags": []
   },
   "outputs": [
    {
     "data": {
      "text/html": [
       "<style>#sk-container-id-1 {color: black;background-color: white;}#sk-container-id-1 pre{padding: 0;}#sk-container-id-1 div.sk-toggleable {background-color: white;}#sk-container-id-1 label.sk-toggleable__label {cursor: pointer;display: block;width: 100%;margin-bottom: 0;padding: 0.3em;box-sizing: border-box;text-align: center;}#sk-container-id-1 label.sk-toggleable__label-arrow:before {content: \"▸\";float: left;margin-right: 0.25em;color: #696969;}#sk-container-id-1 label.sk-toggleable__label-arrow:hover:before {color: black;}#sk-container-id-1 div.sk-estimator:hover label.sk-toggleable__label-arrow:before {color: black;}#sk-container-id-1 div.sk-toggleable__content {max-height: 0;max-width: 0;overflow: hidden;text-align: left;background-color: #f0f8ff;}#sk-container-id-1 div.sk-toggleable__content pre {margin: 0.2em;color: black;border-radius: 0.25em;background-color: #f0f8ff;}#sk-container-id-1 input.sk-toggleable__control:checked~div.sk-toggleable__content {max-height: 200px;max-width: 100%;overflow: auto;}#sk-container-id-1 input.sk-toggleable__control:checked~label.sk-toggleable__label-arrow:before {content: \"▾\";}#sk-container-id-1 div.sk-estimator input.sk-toggleable__control:checked~label.sk-toggleable__label {background-color: #d4ebff;}#sk-container-id-1 div.sk-label input.sk-toggleable__control:checked~label.sk-toggleable__label {background-color: #d4ebff;}#sk-container-id-1 input.sk-hidden--visually {border: 0;clip: rect(1px 1px 1px 1px);clip: rect(1px, 1px, 1px, 1px);height: 1px;margin: -1px;overflow: hidden;padding: 0;position: absolute;width: 1px;}#sk-container-id-1 div.sk-estimator {font-family: monospace;background-color: #f0f8ff;border: 1px dotted black;border-radius: 0.25em;box-sizing: border-box;margin-bottom: 0.5em;}#sk-container-id-1 div.sk-estimator:hover {background-color: #d4ebff;}#sk-container-id-1 div.sk-parallel-item::after {content: \"\";width: 100%;border-bottom: 1px solid gray;flex-grow: 1;}#sk-container-id-1 div.sk-label:hover label.sk-toggleable__label {background-color: #d4ebff;}#sk-container-id-1 div.sk-serial::before {content: \"\";position: absolute;border-left: 1px solid gray;box-sizing: border-box;top: 0;bottom: 0;left: 50%;z-index: 0;}#sk-container-id-1 div.sk-serial {display: flex;flex-direction: column;align-items: center;background-color: white;padding-right: 0.2em;padding-left: 0.2em;position: relative;}#sk-container-id-1 div.sk-item {position: relative;z-index: 1;}#sk-container-id-1 div.sk-parallel {display: flex;align-items: stretch;justify-content: center;background-color: white;position: relative;}#sk-container-id-1 div.sk-item::before, #sk-container-id-1 div.sk-parallel-item::before {content: \"\";position: absolute;border-left: 1px solid gray;box-sizing: border-box;top: 0;bottom: 0;left: 50%;z-index: -1;}#sk-container-id-1 div.sk-parallel-item {display: flex;flex-direction: column;z-index: 1;position: relative;background-color: white;}#sk-container-id-1 div.sk-parallel-item:first-child::after {align-self: flex-end;width: 50%;}#sk-container-id-1 div.sk-parallel-item:last-child::after {align-self: flex-start;width: 50%;}#sk-container-id-1 div.sk-parallel-item:only-child::after {width: 0;}#sk-container-id-1 div.sk-dashed-wrapped {border: 1px dashed gray;margin: 0 0.4em 0.5em 0.4em;box-sizing: border-box;padding-bottom: 0.4em;background-color: white;}#sk-container-id-1 div.sk-label label {font-family: monospace;font-weight: bold;display: inline-block;line-height: 1.2em;}#sk-container-id-1 div.sk-label-container {text-align: center;}#sk-container-id-1 div.sk-container {/* jupyter's `normalize.less` sets `[hidden] { display: none; }` but bootstrap.min.css set `[hidden] { display: none !important; }` so we also need the `!important` here to be able to override the default hidden behavior on the sphinx rendered scikit-learn.org. See: https://github.com/scikit-learn/scikit-learn/issues/21755 */display: inline-block !important;position: relative;}#sk-container-id-1 div.sk-text-repr-fallback {display: none;}</style><div id=\"sk-container-id-1\" class=\"sk-top-container\"><div class=\"sk-text-repr-fallback\"><pre>LinearRegression()</pre><b>In a Jupyter environment, please rerun this cell to show the HTML representation or trust the notebook. <br />On GitHub, the HTML representation is unable to render, please try loading this page with nbviewer.org.</b></div><div class=\"sk-container\" hidden><div class=\"sk-item\"><div class=\"sk-estimator sk-toggleable\"><input class=\"sk-toggleable__control sk-hidden--visually\" id=\"sk-estimator-id-1\" type=\"checkbox\" checked><label for=\"sk-estimator-id-1\" class=\"sk-toggleable__label sk-toggleable__label-arrow\">LinearRegression</label><div class=\"sk-toggleable__content\"><pre>LinearRegression()</pre></div></div></div></div></div>"
      ],
      "text/plain": [
       "LinearRegression()"
      ]
     },
     "execution_count": 81,
     "metadata": {},
     "output_type": "execute_result"
    }
   ],
   "source": [
    "model.fit(X_train, Y_train)"
   ]
  },
  {
   "cell_type": "code",
   "execution_count": 82,
   "id": "d166951f",
   "metadata": {
    "execution": {
     "iopub.execute_input": "2025-03-05T16:05:23.931965Z",
     "iopub.status.busy": "2025-03-05T16:05:23.931615Z",
     "iopub.status.idle": "2025-03-05T16:05:23.937134Z",
     "shell.execute_reply": "2025-03-05T16:05:23.936337Z"
    },
    "papermill": {
     "duration": 0.035081,
     "end_time": "2025-03-05T16:05:23.938805",
     "exception": false,
     "start_time": "2025-03-05T16:05:23.903724",
     "status": "completed"
    },
    "tags": []
   },
   "outputs": [],
   "source": [
    "Y_pred = model.predict(X_test)"
   ]
  },
  {
   "cell_type": "code",
   "execution_count": 83,
   "id": "b151c864",
   "metadata": {
    "execution": {
     "iopub.execute_input": "2025-03-05T16:05:23.993625Z",
     "iopub.status.busy": "2025-03-05T16:05:23.993286Z",
     "iopub.status.idle": "2025-03-05T16:05:23.998940Z",
     "shell.execute_reply": "2025-03-05T16:05:23.998138Z"
    },
    "papermill": {
     "duration": 0.034817,
     "end_time": "2025-03-05T16:05:24.000389",
     "exception": false,
     "start_time": "2025-03-05T16:05:23.965572",
     "status": "completed"
    },
    "tags": []
   },
   "outputs": [
    {
     "data": {
      "text/plain": [
       "array([ 872.11422848, 2303.83128879, 2974.99990312, ...,  536.14691349,\n",
       "       3938.72346793,  541.52760349])"
      ]
     },
     "execution_count": 83,
     "metadata": {},
     "output_type": "execute_result"
    }
   ],
   "source": [
    "Y_pred"
   ]
  },
  {
   "cell_type": "code",
   "execution_count": 84,
   "id": "8c4d3ee3",
   "metadata": {
    "execution": {
     "iopub.execute_input": "2025-03-05T16:05:24.054448Z",
     "iopub.status.busy": "2025-03-05T16:05:24.054088Z",
     "iopub.status.idle": "2025-03-05T16:05:24.289045Z",
     "shell.execute_reply": "2025-03-05T16:05:24.287992Z"
    },
    "papermill": {
     "duration": 0.263592,
     "end_time": "2025-03-05T16:05:24.290639",
     "exception": false,
     "start_time": "2025-03-05T16:05:24.027047",
     "status": "completed"
    },
    "tags": []
   },
   "outputs": [
    {
     "data": {
      "text/plain": [
       "Text(0.5, 1.0, 'Actual Sales VS Predicted Sales')"
      ]
     },
     "execution_count": 84,
     "metadata": {},
     "output_type": "execute_result"
    },
    {
     "data": {
      "image/png": "[encoded data removed]",
      "text/plain": [
       "<Figure size 640x480 with 1 Axes>"
      ]
     },
     "metadata": {},
     "output_type": "display_data"
    }
   ],
   "source": [
    "ax = sns.scatterplot(x = Y_test, y=Y_pred, alpha = 0.7)\n",
    "ax.set_xlabel(\"Actual Sales\")\n",
    "ax.set_ylabel(\"Predicted Sales\")\n",
    "ax.set_title(\"Actual Sales VS Predicted Sales\")"
   ]
  }
 ],
 "metadata": {
  "kaggle": {
   "accelerator": "none",
   "dataSources": [
    {
     "datasetId": 6797654,
     "sourceId": 10932094,
     "sourceType": "datasetVersion"
    }
   ],
   "dockerImageVersionId": 30839,
   "isGpuEnabled": false,
   "isInternetEnabled": true,
   "language": "python",
   "sourceType": "notebook"
  },
  "kernelspec": {
   "display_name": "Python 3",
   "language": "python",
   "name": "python3"
  },
  "language_info": {
   "codemirror_mode": {
    "name": "ipython",
    "version": 3
   },
   "file_extension": ".py",
   "mimetype": "text/x-python",
   "name": "python",
   "nbconvert_exporter": "python",
   "pygments_lexer": "ipython3",
   "version": "3.10.12"
  },
  "papermill": {
   "default_parameters": {},
   "duration": 13.567354,
   "end_time": "2025-03-05T16:05:25.039113",
   "environment_variables": {},
   "exception": null,
   "input_path": "__notebook__.ipynb",
   "output_path": "__notebook__.ipynb",
   "parameters": {},
   "start_time": "2025-03-05T16:05:11.471759",
   "version": "2.6.0"
  }
 },
 "nbformat": 4,
 "nbformat_minor": 5
}
